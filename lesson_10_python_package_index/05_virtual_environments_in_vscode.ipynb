{
 "metadata": {
  "language_info": {
   "codemirror_mode": {
    "name": "ipython",
    "version": 3
   },
   "file_extension": ".py",
   "mimetype": "text/x-python",
   "name": "python",
   "nbconvert_exporter": "python",
   "pygments_lexer": "ipython3",
   "version": "3.9.0-final"
  },
  "orig_nbformat": 2,
  "kernelspec": {
   "name": "python3",
   "display_name": "Python 3.9.0 64-bit",
   "metadata": {
    "interpreter": {
     "hash": "4968616242b12205732e0bb9392dd184d3a0818a6aa7d3a096f6e3a74afccf42"
    }
   }
  }
 },
 "nbformat": 4,
 "nbformat_minor": 2,
 "cells": [
  {
   "source": [
    "# Virtual environments in VS Code\n",
    "\n",
    "We need to tell VS Code (actually the `coderunner` extension) that it needs to use the virtual environment that we created with pipenv.\n",
    "\n",
    "First, we need to find the virtual environment for the project by running `pipenv --venv`. Next, we open it by running the `open` command in the terminal. Now copy this path. Now go to the `.vscode` directory and open the `settings.json` file. Find the \"python\" key under the \"code-runner.executorMap\" and replace the value with the path to the python interpreter in the virtual environment.\n",
    "\n",
    "<img src=\"05_vscode_python_path.png\" />\n",
    "\n",
    "You also need to replace the `python.pythonPath` with the path to the interpreter in the virtual environment. You will need to install `pylint` in the environment too."
   ],
   "cell_type": "markdown",
   "metadata": {}
  }
 ]
}