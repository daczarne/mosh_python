{
 "metadata": {
  "language_info": {
   "codemirror_mode": {
    "name": "ipython",
    "version": 3
   },
   "file_extension": ".py",
   "mimetype": "text/x-python",
   "name": "python",
   "nbconvert_exporter": "python",
   "pygments_lexer": "ipython3",
   "version": "3.8.3-final"
  },
  "orig_nbformat": 2,
  "kernelspec": {
   "name": "python3",
   "display_name": "Python 3"
  }
 },
 "nbformat": 4,
 "nbformat_minor": 2,
 "cells": [
  {
   "source": [
    "# Pip\n",
    "\n",
    "Pip is a tool for installing, uninstalling, and upgrading Python packages from PypI. All of these commands need to be run on the terminal.\n",
    "\n",
    "- Install: `pip install <package_name>`\n",
    "- Update: `pip install --upgrade <package_name>`\n",
    "- List packages: `pip list` \n",
    "- Uninstall: `pip uninstall <package_name>`\n",
    "- Install a specific version: `pip install <package_name>==<version>`\n",
    "- Install last compatible patch of specific version: `pip install <package_name>==<major.minor.*>`\n",
    "- Install last compatible patch of specific version: `pip install <package_name>~=<major.minor.0>`\n",
    "- Install last compatible patch of specific version: `pip install <package_name>~=<major.*>`\n",
    "\n",
    "Suppose we install the latest version of the `requests` package. We can use this package as any other local package. "
   ],
   "cell_type": "markdown",
   "metadata": {}
  },
  {
   "cell_type": "code",
   "execution_count": 1,
   "metadata": {},
   "outputs": [
    {
     "output_type": "stream",
     "name": "stdout",
     "text": [
      "<Response [200]>\n"
     ]
    }
   ],
   "source": [
    "import requests\n",
    "\n",
    "response = requests.get(\"http://google.com\")\n",
    "print(response)"
   ]
  }
 ]
}