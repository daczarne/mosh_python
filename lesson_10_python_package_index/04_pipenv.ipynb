{
 "metadata": {
  "language_info": {
   "codemirror_mode": {
    "name": "ipython",
    "version": 3
   },
   "file_extension": ".py",
   "mimetype": "text/x-python",
   "name": "python",
   "nbconvert_exporter": "python",
   "pygments_lexer": "ipython3",
   "version": 3
  },
  "orig_nbformat": 2
 },
 "nbformat": 4,
 "nbformat_minor": 2,
 "cells": [
  {
   "source": [
    "# Pipenv\n",
    "\n",
    "Pipenv is a tool that combines pip and virtual environments into the same toolchain. Pipenv is the Python equivalent to Node.js's npm. It's a dependency manager for Python project. To use pipenv, we first need to install it via pip. So, open the terminal and run `pip install pipenv`.\n",
    "\n",
    "Now that we have pipenv installed, if we need to install a package, we need to open the terminal and run `pipenv install <package_name>`. After you install the first package two new folders will appear in the VSCode explorer. But there's no folder for the virtual environment. That's because it's not in the same directory. You can find it by running `pipenv --venv` in the terminal.\n",
    "\n",
    "<img src=\"04_pipenv.png\" />\n",
    "\n",
    "Now we need to activate the virtual environment by running `pipenv shell` in the terminal. Once done, you can deactivate the environment by running `exit` in the terminal."
   ],
   "cell_type": "markdown",
   "metadata": {}
  }
 ]
}