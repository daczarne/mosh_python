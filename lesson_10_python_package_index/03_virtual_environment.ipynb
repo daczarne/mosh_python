{
 "metadata": {
  "language_info": {
   "codemirror_mode": {
    "name": "ipython",
    "version": 3
   },
   "file_extension": ".py",
   "mimetype": "text/x-python",
   "name": "python",
   "nbconvert_exporter": "python",
   "pygments_lexer": "ipython3",
   "version": 3
  },
  "orig_nbformat": 2
 },
 "nbformat": 4,
 "nbformat_minor": 2,
 "cells": [
  {
   "source": [
    "# Virtual environments\n",
    "\n",
    "We cannot have different versions of the same package installed in the same environment. To solve this we use a different Virtual Environment for each project and install all dependencies there.\n",
    "\n",
    "To create a vitrual environment, open the terminal and type `python -m venv env`. The last `env` is just the name of the environment.\n",
    "\n",
    "To activate the environment, we need to run the `activate` script in the bin folder.\n",
    "\n",
    "<img src=\"03_activate_env.png\" />\n",
    "\n",
    "To do this on Windows, open the terminal and run `env/bin/activate.bat`. You'll know that it succeeded because your terminal line will now start with `(env)`.\n",
    "\n",
    "Every package you install will appear in `lib/<python_version>/<package_name>`.\n",
    "\n",
    "Once done, we need to deactivate the vitural environment by running `deactivate` in the terminal."
   ],
   "cell_type": "markdown",
   "metadata": {}
  }
 ]
}