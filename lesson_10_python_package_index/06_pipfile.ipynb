{
 "metadata": {
  "language_info": {
   "codemirror_mode": {
    "name": "ipython",
    "version": 3
   },
   "file_extension": ".py",
   "mimetype": "text/x-python",
   "name": "python",
   "nbconvert_exporter": "python",
   "pygments_lexer": "ipython3",
   "version": 3
  },
  "orig_nbformat": 2
 },
 "nbformat": 4,
 "nbformat_minor": 2,
 "cells": [
  {
   "source": [
    "# Pipfile\n",
    "\n",
    "When we create a pipenv two files are added: `Pipfile` and `Pipfile.lock`. These files are used to keep track of the dependencies of our project and their versions."
   ],
   "cell_type": "markdown",
   "metadata": {}
  },
  {
   "source": [
    "Pipfile has four sections:\n",
    "\n",
    "1. **source** specifies the address of the repository from where the packages are downloaded from.\n",
    "\n",
    "2. **dev-packages** specifies the packages used for development only.\n",
    "\n",
    "3. **packages** lists the production packages and their version. An `*` means latest version.\n",
    "\n",
    "4. **requieres** specifies the version of Python interpreter used.\n",
    "\n",
    "\n",
    "<img src=\"06_pipefile.png\" />"
   ],
   "cell_type": "markdown",
   "metadata": {}
  },
  {
   "source": [
    "Pipfile.lock lists the dependecies of the project and their exact version. This includes their dependecies and the dependecies of their dependecies and so on."
   ],
   "cell_type": "markdown",
   "metadata": {}
  },
  {
   "source": [
    "With this, replicating the environment in another machine (for example a production machine) is very easy. Since the virtual environment is not sent with the program, on the new machine you'll start creating it from sratch. Open the terminal and run `pipenv install --ignore-pipfile`. And that's it! pipenv will see the pipfile.lock and install all the dependencies listed there.\n",
    "\n",
    "If you don't supply the `--ignore-pipfile` flag, then pipenv will use the pipfile. The problem with this is that it will install the latest version for all packages with `*` as their version. This might be OK sometimes, but it's not the development environment. "
   ],
   "cell_type": "markdown",
   "metadata": {}
  }
 ]
}