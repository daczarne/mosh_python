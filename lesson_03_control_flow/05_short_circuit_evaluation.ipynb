{
 "metadata": {
  "language_info": {
   "codemirror_mode": {
    "name": "ipython",
    "version": 3
   },
   "file_extension": ".py",
   "mimetype": "text/x-python",
   "name": "python",
   "nbconvert_exporter": "python",
   "pygments_lexer": "ipython3",
   "version": 3
  },
  "orig_nbformat": 2
 },
 "nbformat": 4,
 "nbformat_minor": 2,
 "cells": [
  {
   "source": [
    "# Shot-circuit evaluation\n",
    "\n",
    "Boolean operations are shot-ciruit. This means that when evaluating an `and` expression, if Python finds a `False` statement, it will not continue to evaluate the rest, and it will return `False`. Similarly, when evaluating an `or` statement, if a `True` statement is found, the rest will not be evaluated and Python will return `True`. "
   ],
   "cell_type": "markdown",
   "metadata": {}
  },
  {
   "cell_type": "code",
   "execution_count": null,
   "metadata": {},
   "outputs": [],
   "source": [
    "high_income = True\n",
    "good_credit = True\n",
    "student = True\n",
    "\n",
    "if high_income and good_credit and not student:\n",
    "    print(\"Eligible\")\n",
    "\n",
    "if high_income or good_credit or not student:\n",
    "    print(\"Eligible\")"
   ]
  }
 ]
}