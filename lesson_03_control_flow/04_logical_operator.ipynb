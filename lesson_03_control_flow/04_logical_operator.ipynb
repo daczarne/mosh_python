{
 "metadata": {
  "language_info": {
   "codemirror_mode": {
    "name": "ipython",
    "version": 3
   },
   "file_extension": ".py",
   "mimetype": "text/x-python",
   "name": "python",
   "nbconvert_exporter": "python",
   "pygments_lexer": "ipython3",
   "version": "3.9.0-final"
  },
  "orig_nbformat": 2,
  "kernelspec": {
   "name": "python3",
   "display_name": "Python 3.9.0 64-bit",
   "metadata": {
    "interpreter": {
     "hash": "4968616242b12205732e0bb9392dd184d3a0818a6aa7d3a096f6e3a74afccf42"
    }
   }
  }
 },
 "nbformat": 4,
 "nbformat_minor": 2,
 "cells": [
  {
   "source": [
    "# Logical operators\n",
    "\n",
    "In Python we have three logical operators: `and`, `or`, and `not`. Imagine we need to check if an individual is eligible for a credit loan."
   ],
   "cell_type": "markdown",
   "metadata": {}
  },
  {
   "cell_type": "code",
   "execution_count": 1,
   "metadata": {},
   "outputs": [
    {
     "output_type": "stream",
     "name": "stdout",
     "text": [
      "Eligible\n"
     ]
    }
   ],
   "source": [
    "high_income = True\n",
    "good_credit = True\n",
    "\n",
    "if high_income and good_credit:\n",
    "    print(\"Eligible\")"
   ]
  },
  {
   "cell_type": "code",
   "execution_count": 3,
   "metadata": {},
   "outputs": [
    {
     "output_type": "stream",
     "name": "stdout",
     "text": [
      "Not eligible\n"
     ]
    }
   ],
   "source": [
    "high_income = False\n",
    "good_credit = True\n",
    "\n",
    "if high_income and good_credit:\n",
    "    print(\"Eligible\")\n",
    "else:\n",
    "    print(\"Not eligible\")"
   ]
  },
  {
   "source": [
    "With the `and` operator, the expression will evaluate to `True` if, and only if, both conditions are true. On the other hand, the `or` operator will evaluate to `True` if at least one of the values is true."
   ],
   "cell_type": "markdown",
   "metadata": {}
  },
  {
   "cell_type": "code",
   "execution_count": 4,
   "metadata": {},
   "outputs": [
    {
     "output_type": "stream",
     "name": "stdout",
     "text": [
      "Eligible\n"
     ]
    }
   ],
   "source": [
    "high_income = False\n",
    "good_credit = True\n",
    "\n",
    "if high_income or good_credit:\n",
    "    print(\"Eligible\")\n",
    "else:\n",
    "    print(\"Not eligible\")"
   ]
  },
  {
   "source": [
    "We use the `not` operator to negate."
   ],
   "cell_type": "markdown",
   "metadata": {}
  },
  {
   "cell_type": "code",
   "execution_count": 6,
   "metadata": {},
   "outputs": [
    {
     "output_type": "stream",
     "name": "stdout",
     "text": [
      "Not eligible\n"
     ]
    }
   ],
   "source": [
    "high_income = True\n",
    "good_credit = True\n",
    "student = True\n",
    "\n",
    "if (not student) and high_income and good_credit:\n",
    "    print(\"Eligible\")\n",
    "else:\n",
    "    print(\"Not eligible\")"
   ]
  },
  {
   "cell_type": "code",
   "execution_count": 7,
   "metadata": {},
   "outputs": [
    {
     "output_type": "stream",
     "name": "stdout",
     "text": [
      "Eligible\n"
     ]
    }
   ],
   "source": [
    "high_income = True\n",
    "good_credit = True\n",
    "student = False\n",
    "\n",
    "if (not student) and high_income and good_credit:\n",
    "    print(\"Eligible\")\n",
    "else:\n",
    "    print(\"Not eligible\")"
   ]
  },
  {
   "source": [
    "Now suppose the eligibility condition is having high income or good credit, and not being a student."
   ],
   "cell_type": "markdown",
   "metadata": {}
  },
  {
   "cell_type": "code",
   "execution_count": 9,
   "metadata": {},
   "outputs": [
    {
     "output_type": "stream",
     "name": "stdout",
     "text": [
      "Eligible\n"
     ]
    }
   ],
   "source": [
    "high_income = False\n",
    "good_credit = True\n",
    "student = False\n",
    "\n",
    "if (high_income or good_credit) and not student:\n",
    "    print(\"Eligible\")\n",
    "else:\n",
    "    print(\"Not eligible\")"
   ]
  }
 ]
}