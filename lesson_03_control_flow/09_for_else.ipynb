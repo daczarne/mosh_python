{
 "metadata": {
  "language_info": {
   "codemirror_mode": {
    "name": "ipython",
    "version": 3
   },
   "file_extension": ".py",
   "mimetype": "text/x-python",
   "name": "python",
   "nbconvert_exporter": "python",
   "pygments_lexer": "ipython3",
   "version": "3.9.0-final"
  },
  "orig_nbformat": 2,
  "kernelspec": {
   "name": "python3",
   "display_name": "Python 3.9.0 64-bit",
   "metadata": {
    "interpreter": {
     "hash": "4968616242b12205732e0bb9392dd184d3a0818a6aa7d3a096f6e3a74afccf42"
    }
   }
  }
 },
 "nbformat": 4,
 "nbformat_minor": 2,
 "cells": [
  {
   "source": [
    "# For else loops\n",
    "\n",
    "Now suppose that after a successful attempt we want to jump out of the loop. We use the `break` statement to achieve this."
   ],
   "cell_type": "markdown",
   "metadata": {}
  },
  {
   "cell_type": "code",
   "execution_count": 3,
   "metadata": {},
   "outputs": [
    {
     "output_type": "stream",
     "name": "stdout",
     "text": [
      "Attempt 1\nSuccessful\n"
     ]
    }
   ],
   "source": [
    "successful = True\n",
    "\n",
    "for number in range(3):\n",
    "    print(\"Attempt\", number + 1)\n",
    "    if successful:\n",
    "        print(\"Successful\")\n",
    "        break"
   ]
  },
  {
   "source": [
    "What if we want the program to stop after the their attempt, but we want it to display a message to the user."
   ],
   "cell_type": "markdown",
   "metadata": {}
  },
  {
   "cell_type": "code",
   "execution_count": 2,
   "metadata": {},
   "outputs": [
    {
     "output_type": "stream",
     "name": "stdout",
     "text": [
      "Attempt 1\nAttempt 2\nAttempt 3\nAttempted 3 times and failed\n"
     ]
    }
   ],
   "source": [
    "successful = False\n",
    "\n",
    "for number in range(3):\n",
    "    print(\"Attempt\", number + 1)\n",
    "    if successful:\n",
    "        print(\"Successful\")\n",
    "        break\n",
    "else:\n",
    "    print(\"Attempted 3 times and failed\")"
   ]
  },
  {
   "cell_type": "code",
   "execution_count": 4,
   "metadata": {},
   "outputs": [
    {
     "output_type": "stream",
     "name": "stdout",
     "text": [
      "Attempt 1\nSuccessful\n"
     ]
    }
   ],
   "source": [
    "successful = True\n",
    "\n",
    "for number in range(3):\n",
    "    print(\"Attempt\", number + 1)\n",
    "    if successful:\n",
    "        print(\"Successful\")\n",
    "        break\n",
    "else:\n",
    "    print(\"Attempted 3 times and failed\")"
   ]
  }
 ]
}