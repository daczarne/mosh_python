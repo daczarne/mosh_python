{
 "metadata": {
  "language_info": {
   "codemirror_mode": {
    "name": "ipython",
    "version": 3
   },
   "file_extension": ".py",
   "mimetype": "text/x-python",
   "name": "python",
   "nbconvert_exporter": "python",
   "pygments_lexer": "ipython3",
   "version": "3.9.0-final"
  },
  "orig_nbformat": 2,
  "kernelspec": {
   "name": "python3",
   "display_name": "Python 3.9.0 64-bit",
   "metadata": {
    "interpreter": {
     "hash": "4968616242b12205732e0bb9392dd184d3a0818a6aa7d3a096f6e3a74afccf42"
    }
   }
  }
 },
 "nbformat": 4,
 "nbformat_minor": 2,
 "cells": [
  {
   "source": [
    "# Conditional statements\n",
    "\n",
    "We use `if` statements to teach the program how to make decisions. Expressions to be executed if the condition evaluates to `True` should be indented. Unindented expressions will always be evaluated."
   ],
   "cell_type": "markdown",
   "metadata": {}
  },
  {
   "cell_type": "code",
   "execution_count": 1,
   "metadata": {},
   "outputs": [
    {
     "output_type": "stream",
     "name": "stdout",
     "text": [
      "It's warm!\nDrink water\nDone\n"
     ]
    }
   ],
   "source": [
    "temperature = 35\n",
    "if temperature > 30:\n",
    "    print(\"It's warm!\")\n",
    "    print(\"Drink water\")\n",
    "print(\"Done\")"
   ]
  },
  {
   "cell_type": "code",
   "execution_count": 2,
   "metadata": {},
   "outputs": [
    {
     "output_type": "stream",
     "name": "stdout",
     "text": [
      "Done\n"
     ]
    }
   ],
   "source": [
    "temperature = 20\n",
    "if temperature > 30:\n",
    "    print(\"It's warm!\")\n",
    "    print(\"Drink water\")\n",
    "print(\"Done\")"
   ]
  },
  {
   "source": [
    "If we want to have multiple conditions we use an `elif` statement."
   ],
   "cell_type": "markdown",
   "metadata": {}
  },
  {
   "cell_type": "code",
   "execution_count": 4,
   "metadata": {},
   "outputs": [
    {
     "output_type": "stream",
     "name": "stdout",
     "text": [
      "It's nice!\nDone\n"
     ]
    }
   ],
   "source": [
    "temperature = 25\n",
    "if temperature > 30:\n",
    "    print(\"It's warm!\")\n",
    "elif temperature > 20:\n",
    "    print(\"It's nice!\")\n",
    "print(\"Done\")"
   ]
  },
  {
   "source": [
    "We can have as many `elif` statements as we want. Optionally, can also have an `else` statement that will be evaluated if none of the other statements are true."
   ],
   "cell_type": "markdown",
   "metadata": {}
  },
  {
   "cell_type": "code",
   "execution_count": 5,
   "metadata": {},
   "outputs": [
    {
     "output_type": "stream",
     "name": "stdout",
     "text": [
      "It's cold!\nDone\n"
     ]
    }
   ],
   "source": [
    "temperature = 15\n",
    "if temperature > 30:\n",
    "    print(\"It's warm!\")\n",
    "elif temperature > 20:\n",
    "    print(\"It's nice!\")\n",
    "else:\n",
    "    print(\"It's cold!\")\n",
    "print(\"Done\")"
   ]
  }
 ]
}