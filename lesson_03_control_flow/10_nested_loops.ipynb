{
 "metadata": {
  "language_info": {
   "codemirror_mode": {
    "name": "ipython",
    "version": 3
   },
   "file_extension": ".py",
   "mimetype": "text/x-python",
   "name": "python",
   "nbconvert_exporter": "python",
   "pygments_lexer": "ipython3",
   "version": "3.9.0-final"
  },
  "orig_nbformat": 2,
  "kernelspec": {
   "name": "python3",
   "display_name": "Python 3.9.0 64-bit",
   "metadata": {
    "interpreter": {
     "hash": "4968616242b12205732e0bb9392dd184d3a0818a6aa7d3a096f6e3a74afccf42"
    }
   }
  }
 },
 "nbformat": 4,
 "nbformat_minor": 2,
 "cells": [
  {
   "source": [
    "# Nested loops\n",
    "\n",
    "We can put one loop inside another loop. We call this nesting loops."
   ],
   "cell_type": "markdown",
   "metadata": {}
  },
  {
   "cell_type": "code",
   "execution_count": 1,
   "metadata": {},
   "outputs": [
    {
     "output_type": "stream",
     "name": "stdout",
     "text": [
      "x: 0, y: 0\nx: 0, y: 1\nx: 0, y: 2\nx: 1, y: 0\nx: 1, y: 1\nx: 1, y: 2\nx: 2, y: 0\nx: 2, y: 1\nx: 2, y: 2\nx: 3, y: 0\nx: 3, y: 1\nx: 3, y: 2\nx: 4, y: 0\nx: 4, y: 1\nx: 4, y: 2\n"
     ]
    }
   ],
   "source": [
    "for x in range(5):\n",
    "    for y in range(3):\n",
    "        print(f\"x: {x}, y: {y}\")"
   ]
  },
  {
   "source": [
    "The first loop is called the *outer loop* and the second one is called the *inner loop*. In the first iteration, `x` is set to 0. Python will run the 3 iterations for `y` (augmenting `y` by 1 each time). Once this is done, the control will move back to the outer loop, augment `x` by 1 (setting it to 2), and run the inner loop again, starting with `y = 0`.\n",
    "\n",
    "We could nest as many loops as we need."
   ],
   "cell_type": "markdown",
   "metadata": {}
  }
 ]
}