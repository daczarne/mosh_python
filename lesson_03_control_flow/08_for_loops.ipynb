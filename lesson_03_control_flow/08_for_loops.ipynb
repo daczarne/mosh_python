{
 "metadata": {
  "language_info": {
   "codemirror_mode": {
    "name": "ipython",
    "version": 3
   },
   "file_extension": ".py",
   "mimetype": "text/x-python",
   "name": "python",
   "nbconvert_exporter": "python",
   "pygments_lexer": "ipython3",
   "version": "3.9.0-final"
  },
  "orig_nbformat": 2,
  "kernelspec": {
   "name": "python3",
   "display_name": "Python 3.9.0 64-bit",
   "metadata": {
    "interpreter": {
     "hash": "4968616242b12205732e0bb9392dd184d3a0818a6aa7d3a096f6e3a74afccf42"
    }
   }
  }
 },
 "nbformat": 4,
 "nbformat_minor": 2,
 "cells": [
  {
   "source": [
    "# For loops\n",
    "\n",
    "We use loops to repeat tasks. A for loop is declared via the `for` statement. It takes an index as its first argument, and an interable as its second. We'll use the `range` function to create an interable."
   ],
   "cell_type": "markdown",
   "metadata": {}
  },
  {
   "cell_type": "code",
   "execution_count": 2,
   "metadata": {},
   "outputs": [
    {
     "output_type": "stream",
     "name": "stdout",
     "text": [
      "Attempt 0\nAttempt 1\nAttempt 2\n"
     ]
    }
   ],
   "source": [
    "for number in range(3):\n",
    "    print(\"Attempt\", number)"
   ]
  },
  {
   "cell_type": "code",
   "execution_count": 3,
   "metadata": {},
   "outputs": [
    {
     "output_type": "stream",
     "name": "stdout",
     "text": [
      "Attempt 1\nAttempt 2\nAttempt 3\n"
     ]
    }
   ],
   "source": [
    "for number in range(3):\n",
    "    print(\"Attempt\", number + 1)"
   ]
  },
  {
   "cell_type": "code",
   "execution_count": 4,
   "metadata": {},
   "outputs": [
    {
     "output_type": "stream",
     "name": "stdout",
     "text": [
      "Attempt 1 .\nAttempt 2 ..\nAttempt 3 ...\n"
     ]
    }
   ],
   "source": [
    "for number in range(3):\n",
    "    print(\"Attempt\", number + 1, (number + 1) * \".\")"
   ]
  },
  {
   "source": [
    "The `range` function starts from 0 by default. But we can pass two arguments to it, a start and a finish."
   ],
   "cell_type": "markdown",
   "metadata": {}
  },
  {
   "cell_type": "code",
   "execution_count": 6,
   "metadata": {},
   "outputs": [
    {
     "output_type": "stream",
     "name": "stdout",
     "text": [
      "Attempt 1\nAttempt 2\nAttempt 3\n"
     ]
    }
   ],
   "source": [
    "for number in range(1, 4):\n",
    "    print(\"Attempt\", number)"
   ]
  },
  {
   "source": [
    "Lastly, we can pass three arguments. If we do this, Python will interpret the third argument as a step."
   ],
   "cell_type": "markdown",
   "metadata": {}
  },
  {
   "cell_type": "code",
   "execution_count": 7,
   "metadata": {},
   "outputs": [
    {
     "output_type": "stream",
     "name": "stdout",
     "text": [
      "Attempt 1\nAttempt 3\nAttempt 5\nAttempt 7\nAttempt 9\n"
     ]
    }
   ],
   "source": [
    "for number in range(1, 10, 2):\n",
    "    print(\"Attempt\", number)"
   ]
  }
 ]
}