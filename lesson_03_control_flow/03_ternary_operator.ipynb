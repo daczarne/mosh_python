{
 "metadata": {
  "language_info": {
   "codemirror_mode": {
    "name": "ipython",
    "version": 3
   },
   "file_extension": ".py",
   "mimetype": "text/x-python",
   "name": "python",
   "nbconvert_exporter": "python",
   "pygments_lexer": "ipython3",
   "version": "3.9.0-final"
  },
  "orig_nbformat": 2,
  "kernelspec": {
   "name": "python3",
   "display_name": "Python 3.9.0 64-bit",
   "metadata": {
    "interpreter": {
     "hash": "4968616242b12205732e0bb9392dd184d3a0818a6aa7d3a096f6e3a74afccf42"
    }
   }
  }
 },
 "nbformat": 4,
 "nbformat_minor": 2,
 "cells": [
  {
   "source": [
    "# Ternary operator\n",
    "\n",
    "Say we want to check if a student is eligible for university."
   ],
   "cell_type": "markdown",
   "metadata": {}
  },
  {
   "cell_type": "code",
   "execution_count": 1,
   "metadata": {},
   "outputs": [
    {
     "output_type": "stream",
     "name": "stdout",
     "text": [
      "Eligible\n"
     ]
    }
   ],
   "source": [
    "age = 22\n",
    "if age >= 18:\n",
    "    print(\"Eligible\")\n",
    "else:\n",
    "    print(\"Not eligibla\")"
   ]
  },
  {
   "source": [
    "Or, we could write:"
   ],
   "cell_type": "markdown",
   "metadata": {}
  },
  {
   "cell_type": "code",
   "execution_count": 2,
   "metadata": {},
   "outputs": [
    {
     "output_type": "stream",
     "name": "stdout",
     "text": [
      "Eligible\n"
     ]
    }
   ],
   "source": [
    "age = 22\n",
    "\n",
    "if age >= 18:\n",
    "    message = \"Eligible\"\n",
    "else:\n",
    "    message = \"Not eligibla\"\n",
    "\n",
    "print(message)"
   ]
  },
  {
   "source": [
    "But in Python we can also rewrite this in a much simpler way"
   ],
   "cell_type": "markdown",
   "metadata": {}
  },
  {
   "cell_type": "code",
   "execution_count": 3,
   "metadata": {},
   "outputs": [
    {
     "output_type": "stream",
     "name": "stdout",
     "text": [
      "Eligible\n"
     ]
    }
   ],
   "source": [
    "age = 22\n",
    "message = \"Eligible\" if age >= 18 else \"Not eligible\"\n",
    "print(message)"
   ]
  },
  {
   "cell_type": "code",
   "execution_count": 4,
   "metadata": {},
   "outputs": [
    {
     "output_type": "stream",
     "name": "stdout",
     "text": [
      "Not eligible\n"
     ]
    }
   ],
   "source": [
    "age = 12\n",
    "message = \"Eligible\" if age >= 18 else \"Not eligible\"\n",
    "print(message)"
   ]
  },
  {
   "source": [
    "This is called *Ternary operator*."
   ],
   "cell_type": "markdown",
   "metadata": {}
  }
 ]
}