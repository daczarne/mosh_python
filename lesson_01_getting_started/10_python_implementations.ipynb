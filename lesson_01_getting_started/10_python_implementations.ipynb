{
 "metadata": {
  "language_info": {
   "codemirror_mode": {
    "name": "ipython",
    "version": 3
   },
   "file_extension": ".py",
   "mimetype": "text/x-python",
   "name": "python",
   "nbconvert_exporter": "python",
   "pygments_lexer": "ipython3",
   "version": 3
  },
  "orig_nbformat": 2
 },
 "nbformat": 4,
 "nbformat_minor": 2,
 "cells": [
  {
   "source": [
    "# Python implementations\n",
    "\n",
    "When we talk about Python we mean two different things that are closely related:\n",
    "\n",
    "1. Python language: rules and grammar for writting Python code.\n",
    "\n",
    "2. Python implementation: a programm that understands those rules and can execute them.\n"
   ],
   "cell_type": "markdown",
   "metadata": {}
  },
  {
   "source": [
    "When you download Python from python.org, you are downloading **CPython**. This means that you are downloading a proogram, written in the C language, that can interpret Python code and run it. Other Python implementations are:\n",
    "\n",
    "<img src=\"10_python_implementations.png\" />"
   ],
   "cell_type": "markdown",
   "metadata": {}
  },
  {
   "source": [
    "Both Jython and IronPython allows you to bring certain Java or C# code respectively into Python."
   ],
   "cell_type": "markdown",
   "metadata": {}
  }
 ]
}