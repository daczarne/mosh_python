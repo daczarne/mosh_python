{
 "metadata": {
  "language_info": {
   "codemirror_mode": {
    "name": "ipython",
    "version": 3
   },
   "file_extension": ".py",
   "mimetype": "text/x-python",
   "name": "python",
   "nbconvert_exporter": "python",
   "pygments_lexer": "ipython3",
   "version": 3
  },
  "orig_nbformat": 2
 },
 "nbformat": 4,
 "nbformat_minor": 2,
 "cells": [
  {
   "source": [
    "# Python interpreter\n",
    "\n",
    "In programming an expression is a piece of code that produces a value, for example `2 + 2` is an expression, and `4` is its value.\n",
    "\n",
    "In programming if we write an expression that does not adhire to the languages syntax, we'll get a `SyntaxError`. This means that the interpreter did not know what to do with the expression we gave it."
   ],
   "cell_type": "markdown",
   "metadata": {}
  }
 ]
}