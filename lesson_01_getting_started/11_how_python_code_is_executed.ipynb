{
 "metadata": {
  "language_info": {
   "codemirror_mode": {
    "name": "ipython",
    "version": 3
   },
   "file_extension": ".py",
   "mimetype": "text/x-python",
   "name": "python",
   "nbconvert_exporter": "python",
   "pygments_lexer": "ipython3",
   "version": 3
  },
  "orig_nbformat": 2
 },
 "nbformat": 4,
 "nbformat_minor": 2,
 "cells": [
  {
   "source": [
    "# How Python code is executed\n",
    "\n",
    "We humans use languges like C, C++, Java and so on to write code. But computers only understand Machine Code. That is, they can only work with 1s and 0s.\n",
    "\n",
    "The program that converts your text code into Machine Code is called a *compiler*. The problem is that compilers are processor specific. Therefore, C code complied on Windows cannot be used on Linux or Mac systems.\n",
    "\n",
    "<img src=\"11_c_compiling.png\" />\n",
    "\n",
    "Java solved this problem by compling its code to Jave Bytecode. To then complie Java Bytecode into Machine Code a JVM (Java Virtual Machine) is used.\n",
    "\n",
    "<img src=\"11_java_compiling.png\" />"
   ],
   "cell_type": "markdown",
   "metadata": {}
  },
  {
   "source": [
    "C# and Python went the same rout as Java. That's why they are platform independent.\n",
    "\n",
    "<img src=\"11_python_compiling.png\" />"
   ],
   "cell_type": "markdown",
   "metadata": {}
  },
  {
   "source": [
    "This is the reason why C# and Java code can be used in Jython and IronPython respectively. For example, when you bring Java code into Jython, it will not be complied into Python Bytecode, but it will instead, be complied into Java Bytecode, that can then be complied into Machine Code by a JVM.\n",
    "\n",
    "<img src=\"11_jython_compiling.png\" />"
   ],
   "cell_type": "markdown",
   "metadata": {}
  }
 ]
}