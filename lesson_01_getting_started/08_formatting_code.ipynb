{
 "metadata": {
  "language_info": {
   "codemirror_mode": {
    "name": "ipython",
    "version": 3
   },
   "file_extension": ".py",
   "mimetype": "text/x-python",
   "name": "python",
   "nbconvert_exporter": "python",
   "pygments_lexer": "ipython3",
   "version": 3
  },
  "orig_nbformat": 2
 },
 "nbformat": 4,
 "nbformat_minor": 2,
 "cells": [
  {
   "source": [
    "# Formatting code\n",
    "\n",
    "In Python we have several PEPs (Python Enhancement Proposals). You can check them all out [here](https://www.python.org/dev/peps/). An important one is PEP8 which establishes the Python Style Guide.\n",
    "\n",
    "<img src=\"08_peps.png\" />"
   ],
   "cell_type": "markdown",
   "metadata": {}
  }
 ]
}