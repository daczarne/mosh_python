{
 "metadata": {
  "language_info": {
   "codemirror_mode": {
    "name": "ipython",
    "version": 3
   },
   "file_extension": ".py",
   "mimetype": "text/x-python",
   "name": "python",
   "nbconvert_exporter": "python",
   "pygments_lexer": "ipython3",
   "version": 3
  },
  "orig_nbformat": 2
 },
 "nbformat": 4,
 "nbformat_minor": 2,
 "cells": [
  {
   "source": [
    "# Running Python Code\n",
    "\n",
    "Option one:\n",
    "\n",
    "- open the terminal with `Ctrl + ñ`\n",
    "- type `python app.py`\n",
    "- press enter\n",
    "\n",
    "Option two:\n",
    "\n",
    "- install the *Code runner* extension from the extensions tab in VSCode\n",
    "- press `Ctrl + Alt + n`\n",
    "\n",
    "<img src=\"09_code_runner.png\" />"
   ],
   "cell_type": "markdown",
   "metadata": {}
  },
  {
   "source": [
    "You can find the code runner settings in the `.vscode/settings.json` file in your local directory under the `code-runner.executorMap` key.\n",
    "\n",
    "<img src=\"09_code_runner_settings.png\" />"
   ],
   "cell_type": "markdown",
   "metadata": {}
  },
  {
   "source": [
    "What you are seeing are the default settings for the code runner. Each key is a language the code runner can handle, and each respective value is the command line that it runs.\n",
    "\n",
    "Scroll down to Python. On Windows the value should be `python -u`, on Mac/Linux you should replace it for `python3`.\n",
    "\n",
    "<img src=\"09_python_command.png\" />"
   ],
   "cell_type": "markdown",
   "metadata": {}
  }
 ]
}