{
 "metadata": {
  "language_info": {
   "codemirror_mode": {
    "name": "ipython",
    "version": 3
   },
   "file_extension": ".py",
   "mimetype": "text/x-python",
   "name": "python",
   "nbconvert_exporter": "python",
   "pygments_lexer": "ipython3",
   "version": "3.9.0-final"
  },
  "orig_nbformat": 2,
  "kernelspec": {
   "name": "python3",
   "display_name": "Python 3.9.0 64-bit",
   "metadata": {
    "interpreter": {
     "hash": "4968616242b12205732e0bb9392dd184d3a0818a6aa7d3a096f6e3a74afccf42"
    }
   }
  }
 },
 "nbformat": 4,
 "nbformat_minor": 2,
 "cells": [
  {
   "source": [
    "# Lambda functions\n",
    "\n",
    "A lambda function is a one-line anonymous function. The sintax of a lambda function is `lambda parameters:expression`."
   ],
   "cell_type": "markdown",
   "metadata": {}
  },
  {
   "cell_type": "code",
   "execution_count": 1,
   "metadata": {},
   "outputs": [
    {
     "output_type": "stream",
     "name": "stdout",
     "text": [
      "[('Product2', 9), ('Product1', 10), ('Product3', 12)]\n"
     ]
    }
   ],
   "source": [
    "items = [\n",
    "    (\"Product1\", 10),\n",
    "    (\"Product2\", 9),\n",
    "    (\"Product3\", 12)\n",
    "]\n",
    "\n",
    "items.sort(key=lambda item: item[1])\n",
    "print(items)"
   ]
  }
 ]
}