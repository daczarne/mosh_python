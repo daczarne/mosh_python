{
 "metadata": {
  "language_info": {
   "codemirror_mode": {
    "name": "ipython",
    "version": 3
   },
   "file_extension": ".py",
   "mimetype": "text/x-python",
   "name": "python",
   "nbconvert_exporter": "python",
   "pygments_lexer": "ipython3",
   "version": "3.9.0-final"
  },
  "orig_nbformat": 2,
  "kernelspec": {
   "name": "python3",
   "display_name": "Python 3.9.0 64-bit",
   "metadata": {
    "interpreter": {
     "hash": "4968616242b12205732e0bb9392dd184d3a0818a6aa7d3a096f6e3a74afccf42"
    }
   }
  }
 },
 "nbformat": 4,
 "nbformat_minor": 2,
 "cells": [
  {
   "source": [
    "# Sets\n",
    "\n",
    "A set is a collection with no duplicates."
   ],
   "cell_type": "markdown",
   "metadata": {}
  },
  {
   "cell_type": "code",
   "execution_count": 1,
   "metadata": {},
   "outputs": [
    {
     "output_type": "stream",
     "name": "stdout",
     "text": [
      "{1, 2, 3, 4}\n"
     ]
    }
   ],
   "source": [
    "numbers = [1, 1, 2, 3, 4, 4]\n",
    "uniques = set(numbers)\n",
    "print(uniques)"
   ]
  },
  {
   "source": [
    "We use `{}` to define a set."
   ],
   "cell_type": "markdown",
   "metadata": {}
  },
  {
   "cell_type": "code",
   "execution_count": 3,
   "metadata": {},
   "outputs": [
    {
     "output_type": "stream",
     "name": "stdout",
     "text": [
      "{1, 4}\n"
     ]
    }
   ],
   "source": [
    "second = {1, 4}\n",
    "print(second)"
   ]
  },
  {
   "source": [
    "We can add or remove items to a set."
   ],
   "cell_type": "markdown",
   "metadata": {}
  },
  {
   "cell_type": "code",
   "execution_count": 4,
   "metadata": {},
   "outputs": [
    {
     "output_type": "stream",
     "name": "stdout",
     "text": [
      "{1, 4, 5}\n{1, 4}\n"
     ]
    }
   ],
   "source": [
    "second.add(5)\n",
    "print(second)\n",
    "second.remove(5)\n",
    "print(second)"
   ]
  },
  {
   "source": [
    "We can use the `len` function to get the number of items in a set."
   ],
   "cell_type": "markdown",
   "metadata": {}
  },
  {
   "cell_type": "code",
   "execution_count": 5,
   "metadata": {},
   "outputs": [
    {
     "output_type": "stream",
     "name": "stdout",
     "text": [
      "2\n"
     ]
    }
   ],
   "source": [
    "print(len(second))"
   ]
  },
  {
   "source": [
    "We can use Python sets to solve math set operations (intersection, unions, etc)"
   ],
   "cell_type": "markdown",
   "metadata": {}
  },
  {
   "cell_type": "code",
   "execution_count": 11,
   "metadata": {},
   "outputs": [
    {
     "output_type": "stream",
     "name": "stdout",
     "text": [
      "union {1, 2, 3, 4, 5}\nintersection {1}\ndifference: {2, 3, 4}\nsymetric difference: {2, 3, 4, 5}\n"
     ]
    }
   ],
   "source": [
    "first = {1, 2, 3, 4}\n",
    "second = {1, 5}\n",
    "\n",
    "# Union\n",
    "print(\"union\", first | second)\n",
    "\n",
    "# Intersection\n",
    "print(\"intersection\", first & second)\n",
    "\n",
    "# difference\n",
    "print(\"difference:\", first - second)\n",
    "\n",
    "# symetric difference\n",
    "print(\"symetric difference:\", first ^ second)"
   ]
  },
  {
   "source": [
    "Sets are unordered collections, so we cannot access them using an index.\n",
    "\n",
    "We can check existance with the `in` operator"
   ],
   "cell_type": "markdown",
   "metadata": {}
  },
  {
   "cell_type": "code",
   "execution_count": 12,
   "metadata": {},
   "outputs": [
    {
     "output_type": "stream",
     "name": "stdout",
     "text": [
      "yes\n"
     ]
    }
   ],
   "source": [
    "if 1 in first:\n",
    "    print(\"yes\")"
   ]
  }
 ]
}