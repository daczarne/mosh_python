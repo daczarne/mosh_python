{
 "metadata": {
  "language_info": {
   "codemirror_mode": {
    "name": "ipython",
    "version": 3
   },
   "file_extension": ".py",
   "mimetype": "text/x-python",
   "name": "python",
   "nbconvert_exporter": "python",
   "pygments_lexer": "ipython3",
   "version": "3.9.0-final"
  },
  "orig_nbformat": 2,
  "kernelspec": {
   "name": "python3",
   "display_name": "Python 3.9.0 64-bit",
   "metadata": {
    "interpreter": {
     "hash": "4968616242b12205732e0bb9392dd184d3a0818a6aa7d3a096f6e3a74afccf42"
    }
   }
  }
 },
 "nbformat": 4,
 "nbformat_minor": 2,
 "cells": [
  {
   "source": [
    "# Arrays\n",
    "\n",
    "In Python, arrays are just lists that take up less memory and perform faster. The `array` class needs to be imported from the `array` module. The first argument of the `array` function is called `typecode`. This is a string that determines the type of objects in the array. You can find a complete list of Python type codes [here](https://docs.python.org/3/library/array.html)."
   ],
   "cell_type": "markdown",
   "metadata": {}
  },
  {
   "cell_type": "code",
   "execution_count": 7,
   "metadata": {},
   "outputs": [
    {
     "output_type": "stream",
     "name": "stdout",
     "text": [
      "array('i', [1, 2, 3])\n"
     ]
    }
   ],
   "source": [
    "from array import array\n",
    "\n",
    "numbers = array(\"i\", [1, 2, 3])\n",
    "print(numbers)"
   ]
  },
  {
   "source": [
    "Use the `append` method to add an element at the end of the array. Use the `insert` to add it at a specific index. `pop` and `remove` too work exactly as with lists."
   ],
   "cell_type": "markdown",
   "metadata": {}
  },
  {
   "cell_type": "code",
   "execution_count": 8,
   "metadata": {},
   "outputs": [
    {
     "output_type": "stream",
     "name": "stdout",
     "text": [
      "array('i', [1, 2, 3])\narray('i', [1, 2, 3, 4])\narray('i', [1, 2, 3, 4, 0])\n"
     ]
    }
   ],
   "source": [
    "print(numbers)\n",
    "numbers.append(4)\n",
    "print(numbers)\n",
    "numbers.insert(5, 0)\n",
    "print(numbers)"
   ]
  },
  {
   "source": [
    "We can access items by their index"
   ],
   "cell_type": "markdown",
   "metadata": {}
  },
  {
   "cell_type": "code",
   "execution_count": 9,
   "metadata": {},
   "outputs": [
    {
     "output_type": "stream",
     "name": "stdout",
     "text": [
      "array('i', [1, 2, 3, 4, 0])\n1\n4\n"
     ]
    }
   ],
   "source": [
    "print(numbers)\n",
    "print(numbers[0])\n",
    "print(numbers[3])"
   ]
  },
  {
   "source": [
    "We can use indeces to modify the array, but we need to keep in mind that arrays are typed. So the new element needs to be of the same type."
   ],
   "cell_type": "markdown",
   "metadata": {}
  },
  {
   "cell_type": "code",
   "execution_count": 10,
   "metadata": {},
   "outputs": [
    {
     "output_type": "stream",
     "name": "stdout",
     "text": [
      "array('i', [1, 2, 3, 4, 0])\narray('i', [99, 2, 3, 4, 0])\n"
     ]
    }
   ],
   "source": [
    "print(numbers)\n",
    "numbers[0] = 99\n",
    "print(numbers)"
   ]
  }
 ]
}