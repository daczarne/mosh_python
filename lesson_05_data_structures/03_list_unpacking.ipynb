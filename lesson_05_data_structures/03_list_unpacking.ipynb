{
 "metadata": {
  "language_info": {
   "codemirror_mode": {
    "name": "ipython",
    "version": 3
   },
   "file_extension": ".py",
   "mimetype": "text/x-python",
   "name": "python",
   "nbconvert_exporter": "python",
   "pygments_lexer": "ipython3",
   "version": "3.9.0-final"
  },
  "orig_nbformat": 2,
  "kernelspec": {
   "name": "python3",
   "display_name": "Python 3.9.0 64-bit",
   "metadata": {
    "interpreter": {
     "hash": "4968616242b12205732e0bb9392dd184d3a0818a6aa7d3a096f6e3a74afccf42"
    }
   }
  }
 },
 "nbformat": 4,
 "nbformat_minor": 2,
 "cells": [
  {
   "source": [
    "# List unpacking\n",
    "\n",
    "We use unpacking to assign elements of a list to individual variables"
   ],
   "cell_type": "markdown",
   "metadata": {}
  },
  {
   "cell_type": "code",
   "execution_count": 5,
   "metadata": {},
   "outputs": [
    {
     "output_type": "stream",
     "name": "stdout",
     "text": [
      "[1, 2, 4] \n 1 \n 2 \n 4\n"
     ]
    }
   ],
   "source": [
    "numbers = [1, 2, 4]\n",
    "first = numbers[0]\n",
    "second = numbers[1]\n",
    "third = numbers[2]\n",
    "print(numbers, \"\\n\", first, \"\\n\", second, \"\\n\", third)"
   ]
  },
  {
   "source": [
    "We can achieve the same result with less code using list unpacking."
   ],
   "cell_type": "markdown",
   "metadata": {}
  },
  {
   "cell_type": "code",
   "execution_count": 6,
   "metadata": {},
   "outputs": [
    {
     "output_type": "stream",
     "name": "stdout",
     "text": [
      "[10, 20, 30] \n 10 \n 20 \n 30\n"
     ]
    }
   ],
   "source": [
    "numbers = [10, 20, 30]\n",
    "first, second, third = numbers\n",
    "print(numbers, \"\\n\", first, \"\\n\", second, \"\\n\", third)"
   ]
  },
  {
   "source": [
    "Here we need to make sure that the number of variables on the LHS is equal to the number of items on the list. We can use `*other` to unpack elements down the list into another list. So what the `*` signifies in this context is a *packing operation*."
   ],
   "cell_type": "markdown",
   "metadata": {}
  },
  {
   "cell_type": "code",
   "execution_count": 7,
   "metadata": {},
   "outputs": [
    {
     "output_type": "stream",
     "name": "stdout",
     "text": [
      "[2, 4, 5, 7, 8, 9, 123] \n 2 \n 4 \n [5, 7, 8, 9, 123]\n"
     ]
    }
   ],
   "source": [
    "numbers = [2, 4, 5, 7, 8, 9, 123]\n",
    "first, second, *other = numbers\n",
    "print(numbers, \"\\n\", first, \"\\n\", second, \"\\n\", other)"
   ]
  },
  {
   "source": [
    "The `*other` can go anywhere and Python will pack in it all list items that cannot be unpacked into other variables."
   ],
   "cell_type": "markdown",
   "metadata": {}
  },
  {
   "cell_type": "code",
   "execution_count": 8,
   "metadata": {},
   "outputs": [
    {
     "output_type": "stream",
     "name": "stdout",
     "text": [
      "[2, 4, 5, 7, 8, 9, 123] \n 2 \n [4, 5, 7, 8, 9] \n 123\n"
     ]
    }
   ],
   "source": [
    "numbers = [2, 4, 5, 7, 8, 9, 123]\n",
    "first, *other, last = numbers\n",
    "print(numbers, \"\\n\", first, \"\\n\", other, \"\\n\", last)"
   ]
  }
 ]
}