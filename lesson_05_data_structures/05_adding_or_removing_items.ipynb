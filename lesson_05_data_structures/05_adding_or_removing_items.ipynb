{
 "metadata": {
  "language_info": {
   "codemirror_mode": {
    "name": "ipython",
    "version": 3
   },
   "file_extension": ".py",
   "mimetype": "text/x-python",
   "name": "python",
   "nbconvert_exporter": "python",
   "pygments_lexer": "ipython3",
   "version": "3.9.0-final"
  },
  "orig_nbformat": 2,
  "kernelspec": {
   "name": "python3",
   "display_name": "Python 3.9.0 64-bit",
   "metadata": {
    "interpreter": {
     "hash": "4968616242b12205732e0bb9392dd184d3a0818a6aa7d3a096f6e3a74afccf42"
    }
   }
  }
 },
 "nbformat": 4,
 "nbformat_minor": 2,
 "cells": [
  {
   "source": [
    "# Adding or removing items\n",
    "\n",
    "When adding items to a list we have two options, depending on where on the list we want to add the item. For adding at the end of the list we use the `append` method."
   ],
   "cell_type": "markdown",
   "metadata": {}
  },
  {
   "cell_type": "code",
   "execution_count": 5,
   "metadata": {},
   "outputs": [
    {
     "output_type": "stream",
     "name": "stdout",
     "text": [
      "['a', 'b', 'c']\n"
     ]
    }
   ],
   "source": [
    "letters = [\"a\", \"b\", \"c\"]\n",
    "print(letters)"
   ]
  },
  {
   "cell_type": "code",
   "execution_count": 6,
   "metadata": {},
   "outputs": [
    {
     "output_type": "stream",
     "name": "stdout",
     "text": [
      "['a', 'b', 'c', 'f']\n"
     ]
    }
   ],
   "source": [
    "letters.append(\"f\")\n",
    "print(letters)"
   ]
  },
  {
   "source": [
    "For adding at a specific position of the list we use the `insert` method."
   ],
   "cell_type": "markdown",
   "metadata": {}
  },
  {
   "cell_type": "code",
   "execution_count": 7,
   "metadata": {},
   "outputs": [
    {
     "output_type": "stream",
     "name": "stdout",
     "text": [
      "['-', 'a', 'b', 'c', 'f']\n"
     ]
    }
   ],
   "source": [
    "letters.insert(0, \"-\")\n",
    "print(letters)"
   ]
  },
  {
   "source": [
    "The same is true for removing items. If you need to remove an item at the end of the list, use the `pop` method."
   ],
   "cell_type": "markdown",
   "metadata": {}
  },
  {
   "cell_type": "code",
   "execution_count": 8,
   "metadata": {},
   "outputs": [
    {
     "output_type": "stream",
     "name": "stdout",
     "text": [
      "['-', 'a', 'b', 'c', 'f']\n['-', 'a', 'b', 'c']\n"
     ]
    }
   ],
   "source": [
    "print(letters)\n",
    "letters.pop()\n",
    "print(letters)"
   ]
  },
  {
   "source": [
    "To remove at a specified position, pass that position as an argument to the `pop` method."
   ],
   "cell_type": "markdown",
   "metadata": {}
  },
  {
   "cell_type": "code",
   "execution_count": 9,
   "metadata": {},
   "outputs": [
    {
     "output_type": "stream",
     "name": "stdout",
     "text": [
      "['-', 'a', 'b', 'c']\n['-', 'a', 'c']\n"
     ]
    }
   ],
   "source": [
    "print(letters)\n",
    "letters.pop(2)\n",
    "print(letters)"
   ]
  },
  {
   "source": [
    "If you don't know the position of the element, use the `remove` method. This will remove the first occurrance of the item."
   ],
   "cell_type": "markdown",
   "metadata": {}
  },
  {
   "cell_type": "code",
   "execution_count": 13,
   "metadata": {},
   "outputs": [
    {
     "output_type": "stream",
     "name": "stdout",
     "text": [
      "['a', 'b', 'c', 'd', 'b']\n['a', 'c', 'd', 'b']\n"
     ]
    }
   ],
   "source": [
    "letters = [\"a\", \"b\", \"c\", \"d\", \"b\"]\n",
    "print(letters)\n",
    "letters.remove(\"b\")\n",
    "print(letters)"
   ]
  },
  {
   "source": [
    "To remove all occurrances, you'll need to loop over the list.\n",
    "\n",
    "We can also delete elements from a list by using the `del` statement. This statement can handle single elements, or range of elements."
   ],
   "cell_type": "markdown",
   "metadata": {}
  },
  {
   "cell_type": "code",
   "execution_count": 14,
   "metadata": {},
   "outputs": [
    {
     "output_type": "stream",
     "name": "stdout",
     "text": [
      "['a', 'b', 'c', 'd', 'b']\n['b', 'c', 'd', 'b']\n"
     ]
    }
   ],
   "source": [
    "letters = [\"a\", \"b\", \"c\", \"d\", \"b\"]\n",
    "print(letters)\n",
    "del letters[0]\n",
    "print(letters)"
   ]
  },
  {
   "cell_type": "code",
   "execution_count": 15,
   "metadata": {},
   "outputs": [
    {
     "output_type": "stream",
     "name": "stdout",
     "text": [
      "['a', 'b', 'c', 'd', 'b']\n['a', 'd', 'b']\n"
     ]
    }
   ],
   "source": [
    "letters = [\"a\", \"b\", \"c\", \"d\", \"b\"]\n",
    "print(letters)\n",
    "del letters[1:3]\n",
    "print(letters)"
   ]
  },
  {
   "source": [
    "To remove all elements from a list, use the `clear` method."
   ],
   "cell_type": "markdown",
   "metadata": {}
  },
  {
   "cell_type": "code",
   "execution_count": 16,
   "metadata": {},
   "outputs": [
    {
     "output_type": "stream",
     "name": "stdout",
     "text": [
      "['a', 'b', 'c', 'd', 'b']\n[]\n"
     ]
    }
   ],
   "source": [
    "letters = [\"a\", \"b\", \"c\", \"d\", \"b\"]\n",
    "print(letters)\n",
    "letters.clear()\n",
    "print(letters)"
   ]
  }
 ]
}