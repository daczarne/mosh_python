{
 "metadata": {
  "language_info": {
   "codemirror_mode": {
    "name": "ipython",
    "version": 3
   },
   "file_extension": ".py",
   "mimetype": "text/x-python",
   "name": "python",
   "nbconvert_exporter": "python",
   "pygments_lexer": "ipython3",
   "version": "3.9.0-final"
  },
  "orig_nbformat": 2,
  "kernelspec": {
   "name": "python3",
   "display_name": "Python 3.9.0 64-bit",
   "metadata": {
    "interpreter": {
     "hash": "4968616242b12205732e0bb9392dd184d3a0818a6aa7d3a096f6e3a74afccf42"
    }
   }
  }
 },
 "nbformat": 4,
 "nbformat_minor": 2,
 "cells": [
  {
   "source": [
    "# Lists\n",
    "\n",
    "We define lists with the `[` operator. Lists support any type of elemnts, including other lists. Elements in a list do not need to be of the same type."
   ],
   "cell_type": "markdown",
   "metadata": {}
  },
  {
   "cell_type": "code",
   "execution_count": 4,
   "metadata": {},
   "outputs": [
    {
     "output_type": "stream",
     "name": "stdout",
     "text": [
      "['a', 'b', 'c']\n"
     ]
    }
   ],
   "source": [
    "list_of_strings = [\"a\", \"b\", \"c\"]\n",
    "print(list_of_strings)"
   ]
  },
  {
   "cell_type": "code",
   "execution_count": 5,
   "metadata": {},
   "outputs": [
    {
     "output_type": "stream",
     "name": "stdout",
     "text": [
      "[1, 2, 3]\n"
     ]
    }
   ],
   "source": [
    "list_of_numbers = [1, 2, 3]\n",
    "print(list_of_numbers)"
   ]
  },
  {
   "cell_type": "code",
   "execution_count": 6,
   "metadata": {},
   "outputs": [
    {
     "output_type": "stream",
     "name": "stdout",
     "text": [
      "[True, True, False]\n"
     ]
    }
   ],
   "source": [
    "list_of_booleans = [True, True, False]\n",
    "print(list_of_booleans)"
   ]
  },
  {
   "cell_type": "code",
   "execution_count": 7,
   "metadata": {},
   "outputs": [
    {
     "output_type": "stream",
     "name": "stdout",
     "text": [
      "[['a', 'b', 'c'], [1, 2, 3], [True, True, False]]\n"
     ]
    }
   ],
   "source": [
    "list_of_lists = [\n",
    "    [\"a\", \"b\", \"c\"],\n",
    "    [1, 2, 3],\n",
    "    [True, True, False]\n",
    "]\n",
    "print(list_of_lists)"
   ]
  },
  {
   "source": [
    "We repeat the items in a list with an `*`. Creating a list of 100 zeros"
   ],
   "cell_type": "markdown",
   "metadata": {}
  },
  {
   "cell_type": "code",
   "execution_count": 8,
   "metadata": {},
   "outputs": [
    {
     "output_type": "stream",
     "name": "stdout",
     "text": [
      "[0, 0, 0, 0, 0, 0, 0, 0, 0, 0, 0, 0, 0, 0, 0, 0, 0, 0, 0, 0, 0, 0, 0, 0, 0, 0, 0, 0, 0, 0, 0, 0, 0, 0, 0, 0, 0, 0, 0, 0, 0, 0, 0, 0, 0, 0, 0, 0, 0, 0, 0, 0, 0, 0, 0, 0, 0, 0, 0, 0, 0, 0, 0, 0, 0, 0, 0, 0, 0, 0, 0, 0, 0, 0, 0, 0, 0, 0, 0, 0, 0, 0, 0, 0, 0, 0, 0, 0, 0, 0, 0, 0, 0, 0, 0, 0, 0, 0, 0, 0]\n"
     ]
    }
   ],
   "source": [
    "zeros = [0] * 100\n",
    "print(zeros)"
   ]
  },
  {
   "source": [
    "We can use `+` to concatenate multiple lists"
   ],
   "cell_type": "markdown",
   "metadata": {}
  },
  {
   "cell_type": "code",
   "execution_count": 9,
   "metadata": {},
   "outputs": [
    {
     "output_type": "stream",
     "name": "stdout",
     "text": [
      "[0, 0, 0, 0, 0, 'a', 'b', 'c']\n"
     ]
    }
   ],
   "source": [
    "letters = [\"a\", \"b\", \"c\"]\n",
    "zeros = [0] * 5\n",
    "combined = zeros + letters\n",
    "print(combined)"
   ]
  },
  {
   "source": [
    "We can create lists using the `list` function too. This function takes an iterable as its argument."
   ],
   "cell_type": "markdown",
   "metadata": {}
  },
  {
   "cell_type": "code",
   "execution_count": 11,
   "metadata": {},
   "outputs": [
    {
     "output_type": "stream",
     "name": "stdout",
     "text": [
      "[0, 1, 2, 3, 4, 5, 6, 7, 8, 9, 10, 11, 12, 13, 14, 15, 16, 17, 18, 19]\n"
     ]
    }
   ],
   "source": [
    "numbers = list(range(20))\n",
    "print(numbers)"
   ]
  },
  {
   "cell_type": "code",
   "execution_count": 12,
   "metadata": {},
   "outputs": [
    {
     "output_type": "stream",
     "name": "stdout",
     "text": [
      "['H', 'e', 'l', 'l', 'o', ' ', 'W', 'o', 'r', 'l', 'd', '!']\n"
     ]
    }
   ],
   "source": [
    "chars = list(\"Hello World!\")\n",
    "print(chars)"
   ]
  },
  {
   "source": [
    "We can get the number of items in a list using the `len` function."
   ],
   "cell_type": "markdown",
   "metadata": {}
  },
  {
   "cell_type": "code",
   "execution_count": 14,
   "metadata": {},
   "outputs": [
    {
     "output_type": "stream",
     "name": "stdout",
     "text": [
      "20\n12\n"
     ]
    }
   ],
   "source": [
    "print(len(numbers))\n",
    "print(len(chars))"
   ]
  }
 ]
}