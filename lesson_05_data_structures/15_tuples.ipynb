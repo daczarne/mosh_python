{
 "metadata": {
  "language_info": {
   "codemirror_mode": {
    "name": "ipython",
    "version": 3
   },
   "file_extension": ".py",
   "mimetype": "text/x-python",
   "name": "python",
   "nbconvert_exporter": "python",
   "pygments_lexer": "ipython3",
   "version": "3.9.0-final"
  },
  "orig_nbformat": 2,
  "kernelspec": {
   "name": "python3",
   "display_name": "Python 3.9.0 64-bit",
   "metadata": {
    "interpreter": {
     "hash": "4968616242b12205732e0bb9392dd184d3a0818a6aa7d3a096f6e3a74afccf42"
    }
   }
  }
 },
 "nbformat": 4,
 "nbformat_minor": 2,
 "cells": [
  {
   "source": [
    "# Tuple\n",
    "\n",
    "A tuple is a read-only list. To define a tuple we use `()`, by passing at least two elements separated by a comma, by passing 1 element and a comma"
   ],
   "cell_type": "markdown",
   "metadata": {}
  },
  {
   "cell_type": "code",
   "execution_count": 2,
   "metadata": {},
   "outputs": [
    {
     "output_type": "stream",
     "name": "stdout",
     "text": [
      "<class 'tuple'>\n<class 'tuple'>\n<class 'int'>\n<class 'tuple'>\n<class 'tuple'>\n"
     ]
    }
   ],
   "source": [
    "point = (1, 2)\n",
    "print(type(point))\n",
    "point = 1, 2\n",
    "print(type(point))\n",
    "point = 1\n",
    "print(type(point))\n",
    "point = 1,\n",
    "print(type(point))\n",
    "point = ()\n",
    "print(type(point))"
   ]
  },
  {
   "source": [
    "We can concatenate two tuples with the `+` operator."
   ],
   "cell_type": "markdown",
   "metadata": {}
  },
  {
   "cell_type": "code",
   "execution_count": 3,
   "metadata": {},
   "outputs": [
    {
     "output_type": "stream",
     "name": "stdout",
     "text": [
      "(1, 2, 3, 4)\n<class 'tuple'>\n"
     ]
    }
   ],
   "source": [
    "point = (1, 2) + (3, 4)\n",
    "print(point)\n",
    "print(type(point))"
   ]
  },
  {
   "source": [
    "To repeat a tuple we use the `*` operator"
   ],
   "cell_type": "markdown",
   "metadata": {}
  },
  {
   "cell_type": "code",
   "execution_count": 4,
   "metadata": {},
   "outputs": [
    {
     "output_type": "stream",
     "name": "stdout",
     "text": [
      "(1, 2, 1, 2, 1, 2, 1, 2, 1, 2)\n<class 'tuple'>\n"
     ]
    }
   ],
   "source": [
    "point = (1, 2) * 5\n",
    "print(point)\n",
    "print(type(point))"
   ]
  },
  {
   "source": [
    "To convert a list to a tuple, we use the `tuple` function. We can use this function to convert any iterable to a tuple."
   ],
   "cell_type": "markdown",
   "metadata": {}
  },
  {
   "cell_type": "code",
   "execution_count": 5,
   "metadata": {},
   "outputs": [
    {
     "output_type": "stream",
     "name": "stdout",
     "text": [
      "<class 'tuple'>\n"
     ]
    }
   ],
   "source": [
    "point = tuple([1, 2])\n",
    "print(type(point))"
   ]
  },
  {
   "cell_type": "code",
   "execution_count": 7,
   "metadata": {},
   "outputs": [
    {
     "output_type": "stream",
     "name": "stdout",
     "text": [
      "('H', 'e', 'l', 'l', 'o', ' ', 'W', 'o', 'r', 'l', 'd')\n<class 'tuple'>\n"
     ]
    }
   ],
   "source": [
    "point = tuple(\"Hello World\")\n",
    "print(point)\n",
    "print(type(point))"
   ]
  },
  {
   "source": [
    "We can access individual items using an index"
   ],
   "cell_type": "markdown",
   "metadata": {}
  },
  {
   "cell_type": "code",
   "execution_count": 10,
   "metadata": {},
   "outputs": [
    {
     "output_type": "stream",
     "name": "stdout",
     "text": [
      "2\n(1, 2)\n"
     ]
    }
   ],
   "source": [
    "point = (1, 2, 3)\n",
    "print(point[1])\n",
    "print(point[0:2])"
   ]
  },
  {
   "source": [
    "We can unpack tuples too."
   ],
   "cell_type": "markdown",
   "metadata": {}
  },
  {
   "cell_type": "code",
   "execution_count": 12,
   "metadata": {},
   "outputs": [
    {
     "output_type": "stream",
     "name": "stdout",
     "text": [
      "1\n2\n3\n"
     ]
    }
   ],
   "source": [
    "x, y, z = point\n",
    "print(x)\n",
    "print(y)\n",
    "print(z)"
   ]
  },
  {
   "source": [
    "We can use the `in` operator to check for the existance of an item in a tuple"
   ],
   "cell_type": "markdown",
   "metadata": {}
  },
  {
   "cell_type": "code",
   "execution_count": 13,
   "metadata": {},
   "outputs": [
    {
     "output_type": "stream",
     "name": "stdout",
     "text": [
      "not found\n"
     ]
    }
   ],
   "source": [
    "if 10 in point:\n",
    "    print(\"exists\")\n",
    "else:\n",
    "    print(\"not found\")"
   ]
  }
 ]
}