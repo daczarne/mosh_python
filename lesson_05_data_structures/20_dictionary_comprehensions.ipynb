{
 "metadata": {
  "language_info": {
   "codemirror_mode": {
    "name": "ipython",
    "version": 3
   },
   "file_extension": ".py",
   "mimetype": "text/x-python",
   "name": "python",
   "nbconvert_exporter": "python",
   "pygments_lexer": "ipython3",
   "version": "3.9.0-final"
  },
  "orig_nbformat": 2,
  "kernelspec": {
   "name": "python3",
   "display_name": "Python 3.9.0 64-bit",
   "metadata": {
    "interpreter": {
     "hash": "4968616242b12205732e0bb9392dd184d3a0818a6aa7d3a096f6e3a74afccf42"
    }
   }
  }
 },
 "nbformat": 4,
 "nbformat_minor": 2,
 "cells": [
  {
   "source": [
    "# Set & dictionary comprehensions\n",
    "\n",
    "Just as with lists, we can also use comprehensions with dictionaries."
   ],
   "cell_type": "markdown",
   "metadata": {}
  },
  {
   "cell_type": "code",
   "execution_count": 5,
   "metadata": {},
   "outputs": [
    {
     "output_type": "stream",
     "name": "stdout",
     "text": [
      "{0, 2, 4, 6, 8}\n<class 'set'>\n"
     ]
    }
   ],
   "source": [
    "# Set comprehension\n",
    "values = {x * 2 for x in range(5)}\n",
    "print(values)\n",
    "print(type(values))"
   ]
  },
  {
   "cell_type": "code",
   "execution_count": 4,
   "metadata": {},
   "outputs": [
    {
     "output_type": "stream",
     "name": "stdout",
     "text": [
      "{0: 0, 1: 2, 2: 4, 3: 6, 4: 8}\n<class 'dict'>\n"
     ]
    }
   ],
   "source": [
    "# Dictionary comprehension\n",
    "values = {x: x * 2 for x in range(5)}\n",
    "print(values)\n",
    "print(type(values))"
   ]
  }
 ]
}