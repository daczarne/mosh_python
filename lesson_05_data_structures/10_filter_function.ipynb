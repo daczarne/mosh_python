{
 "metadata": {
  "language_info": {
   "codemirror_mode": {
    "name": "ipython",
    "version": 3
   },
   "file_extension": ".py",
   "mimetype": "text/x-python",
   "name": "python",
   "nbconvert_exporter": "python",
   "pygments_lexer": "ipython3",
   "version": "3.9.0-final"
  },
  "orig_nbformat": 2,
  "kernelspec": {
   "name": "python3",
   "display_name": "Python 3.9.0 64-bit",
   "metadata": {
    "interpreter": {
     "hash": "4968616242b12205732e0bb9392dd184d3a0818a6aa7d3a096f6e3a74afccf42"
    }
   }
  }
 },
 "nbformat": 4,
 "nbformat_minor": 2,
 "cells": [
  {
   "source": [
    "# Filter function\n",
    "\n",
    "Suppose we want to filter the list and only get the products with a price greater than or equal to 10."
   ],
   "cell_type": "markdown",
   "metadata": {}
  },
  {
   "cell_type": "code",
   "execution_count": 4,
   "metadata": {},
   "outputs": [
    {
     "output_type": "stream",
     "name": "stdout",
     "text": [
      "[('Product1', 10), ('Product3', 12)]\n"
     ]
    }
   ],
   "source": [
    "items = [\n",
    "    (\"Product1\", 10),\n",
    "    (\"Product2\", 9),\n",
    "    (\"Product3\", 12)\n",
    "]\n",
    "\n",
    "filtered = []\n",
    "\n",
    "for item in items:\n",
    "    if item[1] >= 10:\n",
    "        filtered.append(item)\n",
    "\n",
    "print(filtered)"
   ]
  },
  {
   "source": [
    "A less verbose approach is to use a lambda with the `filter` function. Jus tlike `map` the `filter` function returns an iterable object that we can convert to a list."
   ],
   "cell_type": "markdown",
   "metadata": {}
  },
  {
   "cell_type": "code",
   "execution_count": 6,
   "metadata": {},
   "outputs": [
    {
     "output_type": "stream",
     "name": "stdout",
     "text": [
      "[('Product1', 10), ('Product3', 12)]\n"
     ]
    }
   ],
   "source": [
    "items = [\n",
    "    (\"Product1\", 10),\n",
    "    (\"Product2\", 9),\n",
    "    (\"Product3\", 12)\n",
    "]\n",
    "\n",
    "filtered = list(filter(lambda item: item[1] >= 10, items))\n",
    "print(filtered)"
   ]
  }
 ]
}