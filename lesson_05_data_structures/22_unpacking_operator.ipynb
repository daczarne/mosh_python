{
 "metadata": {
  "language_info": {
   "codemirror_mode": {
    "name": "ipython",
    "version": 3
   },
   "file_extension": ".py",
   "mimetype": "text/x-python",
   "name": "python",
   "nbconvert_exporter": "python",
   "pygments_lexer": "ipython3",
   "version": "3.9.0-final"
  },
  "orig_nbformat": 2,
  "kernelspec": {
   "name": "python3",
   "display_name": "Python 3.9.0 64-bit",
   "metadata": {
    "interpreter": {
     "hash": "4968616242b12205732e0bb9392dd184d3a0818a6aa7d3a096f6e3a74afccf42"
    }
   }
  }
 },
 "nbformat": 4,
 "nbformat_minor": 2,
 "cells": [
  {
   "source": [
    "# Unpacking operator\n",
    "\n",
    "Use the unpacking operator `*` to access individual elements. This operator is equivalent to JavaScripts `...`."
   ],
   "cell_type": "markdown",
   "metadata": {}
  },
  {
   "cell_type": "code",
   "execution_count": 2,
   "metadata": {},
   "outputs": [
    {
     "output_type": "stream",
     "name": "stdout",
     "text": [
      "[1, 2, 4]\n1 2 4\n"
     ]
    }
   ],
   "source": [
    "numbers = [1, 2, 4]\n",
    "print(numbers)\n",
    "print(*numbers)"
   ]
  },
  {
   "source": [
    "We can use this operator to create lists."
   ],
   "cell_type": "markdown",
   "metadata": {}
  },
  {
   "cell_type": "code",
   "execution_count": 3,
   "metadata": {},
   "outputs": [
    {
     "output_type": "stream",
     "name": "stdout",
     "text": [
      "[0, 1, 2, 3, 4]\n"
     ]
    }
   ],
   "source": [
    "values = list(range(5))\n",
    "print(values)"
   ]
  },
  {
   "cell_type": "code",
   "execution_count": 6,
   "metadata": {},
   "outputs": [
    {
     "output_type": "stream",
     "name": "stdout",
     "text": [
      "[0, 1, 2, 3, 4, 'H', 'e', 'l', 'l', 'o', ' ', 'W', 'o', 'r', 'l', 'd']\n"
     ]
    }
   ],
   "source": [
    "values = [*range(5), *\"Hello World\"]\n",
    "print(values)"
   ]
  },
  {
   "cell_type": "code",
   "execution_count": 7,
   "metadata": {},
   "outputs": [
    {
     "output_type": "stream",
     "name": "stdout",
     "text": [
      "[1, 2, 4, 0, 'a', 3, 'H', 'e', 'l', 'l', 'o']\n"
     ]
    }
   ],
   "source": [
    "first = [1, 2, 4, 0]\n",
    "second = [3]\n",
    "values = [*first, \"a\", *second, *\"Hello\"]\n",
    "print(values)"
   ]
  },
  {
   "source": [
    "To unpack dictionaries we need to use `**`. If several dictionaries have the same key, the last value will be used."
   ],
   "cell_type": "markdown",
   "metadata": {}
  },
  {
   "cell_type": "code",
   "execution_count": 8,
   "metadata": {},
   "outputs": [
    {
     "output_type": "stream",
     "name": "stdout",
     "text": [
      "{'x': 10, 'y': 2, 'z': 65}\n"
     ]
    }
   ],
   "source": [
    "first = {\"x\": 1}\n",
    "second = {\"x\": 10, \"y\": 2}\n",
    "combined = {**first, **second, \"z\": 65}\n",
    "print(combined)"
   ]
  }
 ]
}