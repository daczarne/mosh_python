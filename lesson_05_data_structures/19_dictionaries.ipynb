{
 "metadata": {
  "language_info": {
   "codemirror_mode": {
    "name": "ipython",
    "version": 3
   },
   "file_extension": ".py",
   "mimetype": "text/x-python",
   "name": "python",
   "nbconvert_exporter": "python",
   "pygments_lexer": "ipython3",
   "version": "3.9.0-final"
  },
  "orig_nbformat": 2,
  "kernelspec": {
   "name": "python3",
   "display_name": "Python 3.9.0 64-bit",
   "metadata": {
    "interpreter": {
     "hash": "4968616242b12205732e0bb9392dd184d3a0818a6aa7d3a096f6e3a74afccf42"
    }
   }
  }
 },
 "nbformat": 4,
 "nbformat_minor": 2,
 "cells": [
  {
   "source": [
    "# Dictionaries\n",
    "\n",
    "A dictionary is a collection of key-value pairs. Keys must be of inmutable types, but values can be of any type."
   ],
   "cell_type": "markdown",
   "metadata": {}
  },
  {
   "cell_type": "code",
   "execution_count": 5,
   "metadata": {},
   "outputs": [
    {
     "output_type": "stream",
     "name": "stdout",
     "text": [
      "{'x': 1, 'y': 2}\n<class 'dict'>\n"
     ]
    }
   ],
   "source": [
    "point = {\"x\": 1, \"y\": 2}\n",
    "print(point)\n",
    "print(type(point))"
   ]
  },
  {
   "source": [
    "We can also use the `dict` function to define dictionaries and use keyword arguments for the key-value pairs."
   ],
   "cell_type": "markdown",
   "metadata": {}
  },
  {
   "cell_type": "code",
   "execution_count": 4,
   "metadata": {},
   "outputs": [
    {
     "output_type": "stream",
     "name": "stdout",
     "text": [
      "{'x': 1, 'y': 2}\n<class 'dict'>\n"
     ]
    }
   ],
   "source": [
    "point = dict(x=1, y=2)\n",
    "print(point)\n",
    "print(type(point))"
   ]
  },
  {
   "source": [
    "We can get the value associated with a key using an index. Indices must be the name of a key, not an integer position."
   ],
   "cell_type": "markdown",
   "metadata": {}
  },
  {
   "cell_type": "code",
   "execution_count": 7,
   "metadata": {},
   "outputs": [
    {
     "output_type": "stream",
     "name": "stdout",
     "text": [
      "1\n2\n"
     ]
    }
   ],
   "source": [
    "print(point[\"x\"])\n",
    "print(point[\"y\"])"
   ]
  },
  {
   "source": [
    "We can also use indexing to mutate the dictionary."
   ],
   "cell_type": "markdown",
   "metadata": {}
  },
  {
   "cell_type": "code",
   "execution_count": 8,
   "metadata": {},
   "outputs": [
    {
     "output_type": "stream",
     "name": "stdout",
     "text": [
      "{'x': 10, 'y': 2}\n"
     ]
    }
   ],
   "source": [
    "point[\"x\"] = 10\n",
    "print(point)"
   ]
  },
  {
   "source": [
    "We can use the same strategy to add a new key-value pair."
   ],
   "cell_type": "markdown",
   "metadata": {}
  },
  {
   "cell_type": "code",
   "execution_count": 9,
   "metadata": {},
   "outputs": [
    {
     "output_type": "stream",
     "name": "stdout",
     "text": [
      "{'x': 10, 'y': 2, 'z': 20}\n"
     ]
    }
   ],
   "source": [
    "point[\"z\"] = 20\n",
    "print(point)"
   ]
  },
  {
   "source": [
    "If we ask Python to return the value of a key that does not exist, we'll get an error. One solution is to check for the existance of that key."
   ],
   "cell_type": "markdown",
   "metadata": {}
  },
  {
   "cell_type": "code",
   "execution_count": 12,
   "metadata": {},
   "outputs": [
    {
     "output_type": "stream",
     "name": "stdout",
     "text": [
      "'a' not found\n"
     ]
    }
   ],
   "source": [
    "if \"a\" in point:\n",
    "    print(point[\"a\"])\n",
    "else:\n",
    "    print(f\"\\'a\\' not found\")"
   ]
  },
  {
   "source": [
    "Another solution is to use the `get` method. If the key does not exist, Python will return `None`."
   ],
   "cell_type": "markdown",
   "metadata": {}
  },
  {
   "cell_type": "code",
   "execution_count": 14,
   "metadata": {},
   "outputs": [
    {
     "output_type": "stream",
     "name": "stdout",
     "text": [
      "None\n"
     ]
    }
   ],
   "source": [
    "print(point.get(\"a\"))"
   ]
  },
  {
   "source": [
    "We can also use this method too supply a default value as a second argument."
   ],
   "cell_type": "markdown",
   "metadata": {}
  },
  {
   "cell_type": "code",
   "execution_count": 15,
   "metadata": {},
   "outputs": [
    {
     "output_type": "stream",
     "name": "stdout",
     "text": [
      "0\n"
     ]
    }
   ],
   "source": [
    "print(point.get(\"a\", 0))"
   ]
  },
  {
   "source": [
    "To delete an item we use the `del` statement."
   ],
   "cell_type": "markdown",
   "metadata": {}
  },
  {
   "cell_type": "code",
   "execution_count": 16,
   "metadata": {},
   "outputs": [
    {
     "output_type": "stream",
     "name": "stdout",
     "text": [
      "{'y': 2, 'z': 20}\n"
     ]
    }
   ],
   "source": [
    "del point[\"x\"]\n",
    "print(point)"
   ]
  },
  {
   "source": [
    "Dictionaries are iterable."
   ],
   "cell_type": "markdown",
   "metadata": {}
  },
  {
   "cell_type": "code",
   "execution_count": 17,
   "metadata": {},
   "outputs": [
    {
     "output_type": "stream",
     "name": "stdout",
     "text": [
      "y\nz\n"
     ]
    }
   ],
   "source": [
    "# Loop over the keys\n",
    "for i in point:\n",
    "    print(i)"
   ]
  },
  {
   "cell_type": "code",
   "execution_count": 18,
   "metadata": {},
   "outputs": [
    {
     "output_type": "stream",
     "name": "stdout",
     "text": [
      "y 2\nz 20\n"
     ]
    }
   ],
   "source": [
    "# Loop over the keys\n",
    "for key in point:\n",
    "    print(key, point[key])"
   ]
  },
  {
   "cell_type": "code",
   "execution_count": 19,
   "metadata": {},
   "outputs": [
    {
     "output_type": "stream",
     "name": "stdout",
     "text": [
      "('y', 2)\n('z', 20)\n"
     ]
    }
   ],
   "source": [
    "# Return a tuple per iteration\n",
    "for x in point.items():\n",
    "    print(x)"
   ]
  },
  {
   "cell_type": "code",
   "execution_count": 21,
   "metadata": {},
   "outputs": [
    {
     "output_type": "stream",
     "name": "stdout",
     "text": [
      "y 2\nz 20\n"
     ]
    }
   ],
   "source": [
    "# Unpack the tuple\n",
    "for key, value in point.items():\n",
    "    print(key, value)"
   ]
  }
 ]
}