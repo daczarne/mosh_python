{
 "metadata": {
  "language_info": {
   "codemirror_mode": {
    "name": "ipython",
    "version": 3
   },
   "file_extension": ".py",
   "mimetype": "text/x-python",
   "name": "python",
   "nbconvert_exporter": "python",
   "pygments_lexer": "ipython3",
   "version": "3.8.3-final"
  },
  "orig_nbformat": 2,
  "kernelspec": {
   "name": "python3",
   "display_name": "Python 3"
  }
 },
 "nbformat": 4,
 "nbformat_minor": 2,
 "cells": [
  {
   "source": [
    "# Packages\n",
    "\n",
    "As the development of your program grows, it is recommended that you organize it into subdirectories, each hosting the different modules.\n",
    "\n",
    "If we now move the `sales.py` module into the ecommerce we'll get an error when trying to import it into our main app. To solve this we need to add a file in the ecommerce subdir called `__init__.py`. This will cause Python to treat the ecommerce folder as a package.\n",
    "\n",
    "A package is a container for one or more modules. A package is mapped to a directory and a module is mapped to a file.\n",
    "\n",
    "Now, in order to import the `sales` module, we need to prefix it with the name of its package."
   ],
   "cell_type": "markdown",
   "metadata": {}
  },
  {
   "cell_type": "code",
   "execution_count": 3,
   "metadata": {},
   "outputs": [],
   "source": [
    "import ecommerce.sales\n",
    "\n",
    "ecommerce.sales.calc_shipping()"
   ]
  },
  {
   "source": [
    "This way of importing a module cause us to need to include the package in every call. One way of working arround this is by importing the different objects using the `from` statement."
   ],
   "cell_type": "markdown",
   "metadata": {}
  },
  {
   "cell_type": "code",
   "execution_count": 4,
   "metadata": {},
   "outputs": [],
   "source": [
    "from ecommerce.sales import calc_shipping, calc_tax\n",
    "\n",
    "calc_shipping()\n",
    "calc_tax()"
   ]
  },
  {
   "source": [
    "This is OK for when we only want to import a few objects. If instead we want to import the entire `sales` module form the `ecommerce` package we can do it like so: "
   ],
   "cell_type": "markdown",
   "metadata": {}
  },
  {
   "cell_type": "code",
   "execution_count": 5,
   "metadata": {},
   "outputs": [],
   "source": [
    "from ecommerce import sales\n",
    "\n",
    "sales.calc_shipping()\n",
    "sales.calc_tax()"
   ]
  }
 ]
}