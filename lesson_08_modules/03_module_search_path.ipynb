{
 "metadata": {
  "language_info": {
   "codemirror_mode": {
    "name": "ipython",
    "version": 3
   },
   "file_extension": ".py",
   "mimetype": "text/x-python",
   "name": "python",
   "nbconvert_exporter": "python",
   "pygments_lexer": "ipython3",
   "version": "3.8.3-final"
  },
  "orig_nbformat": 2,
  "kernelspec": {
   "name": "python3",
   "display_name": "Python 3"
  }
 },
 "nbformat": 4,
 "nbformat_minor": 2,
 "cells": [
  {
   "source": [
    "# Module search path\n",
    "\n",
    "When we tell Python to import a module, Python will look for a file called `<module_name>.py` in the current directory (*current directory* is just fancy tech jargon for \"the folder in which you saved the file that is currently opened in your screen\").\n",
    "\n",
    "If Python can't find the module file in the current directory, it will search in some pre-defined directories that are specified in your Python installtion. You can check which these directories are by using the `path` variable in the `sys` module."
   ],
   "cell_type": "markdown",
   "metadata": {}
  },
  {
   "cell_type": "code",
   "execution_count": 5,
   "metadata": {},
   "outputs": [
    {
     "output_type": "stream",
     "name": "stdout",
     "text": [
      "['c:\\\\Users\\\\dacza\\\\Dropbox\\\\Code with Mosh\\\\Python_course\\\\lesson_08_modules', 'c:\\\\Users\\\\dacza\\\\.vscode\\\\extensions\\\\ms-toolsai.jupyter-2020.11.399280825\\\\pythonFiles', 'c:\\\\Users\\\\dacza\\\\.vscode\\\\extensions\\\\ms-toolsai.jupyter-2020.11.399280825\\\\pythonFiles\\\\lib\\\\python', 'C:\\\\Users\\\\dacza\\\\anaconda3\\\\python38.zip', 'C:\\\\Users\\\\dacza\\\\anaconda3\\\\DLLs', 'C:\\\\Users\\\\dacza\\\\anaconda3\\\\lib', 'C:\\\\Users\\\\dacza\\\\anaconda3', '', 'C:\\\\Users\\\\dacza\\\\AppData\\\\Roaming\\\\Python\\\\Python38\\\\site-packages', 'C:\\\\Users\\\\dacza\\\\anaconda3\\\\lib\\\\site-packages', 'C:\\\\Users\\\\dacza\\\\anaconda3\\\\lib\\\\site-packages\\\\win32', 'C:\\\\Users\\\\dacza\\\\anaconda3\\\\lib\\\\site-packages\\\\win32\\\\lib', 'C:\\\\Users\\\\dacza\\\\anaconda3\\\\lib\\\\site-packages\\\\Pythonwin', 'C:\\\\Users\\\\dacza\\\\anaconda3\\\\lib\\\\site-packages\\\\IPython\\\\extensions', 'C:\\\\Users\\\\dacza\\\\.ipython']\n"
     ]
    }
   ],
   "source": [
    "import sys\n",
    "\n",
    "print(sys.path)"
   ]
  },
  {
   "source": [
    "By printing the value of the variable we get an array of paths. The first one is the current directory. The following ones will be different, depending on the operating system."
   ],
   "cell_type": "markdown",
   "metadata": {}
  }
 ]
}