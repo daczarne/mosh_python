{
 "metadata": {
  "language_info": {
   "codemirror_mode": {
    "name": "ipython",
    "version": 3
   },
   "file_extension": ".py",
   "mimetype": "text/x-python",
   "name": "python",
   "nbconvert_exporter": "python",
   "pygments_lexer": "ipython3",
   "version": "3.8.3-final"
  },
  "orig_nbformat": 2,
  "kernelspec": {
   "name": "python3",
   "display_name": "Python 3"
  }
 },
 "nbformat": 4,
 "nbformat_minor": 2,
 "cells": [
  {
   "source": [
    "# Executing modules as scripts\n",
    "\n",
    "Inside modules, we can include any statement that we want and it'll be executed the first time the module is loaded onto other scripts. For example, we can include an initialization print statement in our modules and packages. Python will only run this once, since when loading a module, python caches it for later use.\n",
    "\n",
    "<img src=\"module_initialization.png\" />"
   ],
   "cell_type": "markdown",
   "metadata": {}
  },
  {
   "cell_type": "code",
   "execution_count": 2,
   "metadata": {},
   "outputs": [
    {
     "output_type": "stream",
     "name": "stdout",
     "text": [
      "Sales initialized\n"
     ]
    }
   ],
   "source": [
    "from ecommerce.shopping import even_more_sales"
   ]
  },
  {
   "source": [
    "We can do the same with our packages by including code in the `__init__.py` file.\n",
    "\n",
    "<img src=\"package_initialization.png\" />\n",
    "\n",
    "(note that when calling the import statement below the message will only print if you re-start the Python kernel since, as explained, packages and modules are cached)"
   ],
   "cell_type": "markdown",
   "metadata": {}
  },
  {
   "cell_type": "code",
   "execution_count": 1,
   "metadata": {},
   "outputs": [
    {
     "output_type": "stream",
     "name": "stdout",
     "text": [
      "Ecommerce initialized\n"
     ]
    }
   ],
   "source": [
    "from ecommerce.customer import contact"
   ]
  },
  {
   "source": [
    "Now lets go into the `more_sales` module and print the `__name__` attribute too."
   ],
   "cell_type": "markdown",
   "metadata": {}
  },
  {
   "cell_type": "code",
   "execution_count": 5,
   "metadata": {},
   "outputs": [
    {
     "output_type": "stream",
     "name": "stdout",
     "text": [
      "More sales initialized ecommerce.more_sales\n"
     ]
    }
   ],
   "source": [
    "import ecommerce.more_sales"
   ]
  },
  {
   "source": [
    "Since we've included the `__name__` attribute in the print statement, we get the name of the module, namely ecommerce.more_sales. However, if we run the `more_sales.py` script, the name gets changed to `__main__`\n",
    "\n",
    "<img src=\"run_more_sales.png\" />"
   ],
   "cell_type": "markdown",
   "metadata": {}
  },
  {
   "source": [
    "This happens because the name of the module that stores our programm is always main. We can use this fact to write code into our module script that will only be executed if the module is run as a script. This happens because when we import the module into another module, the `__name__` of the module will no longer be `__main__`.\n",
    "\n",
    "<img src=\"more_sales_script.png\" />\n",
    "\n",
    "<img src=\"run_more_sales_as_script.png\" />"
   ],
   "cell_type": "markdown",
   "metadata": {}
  }
 ]
}