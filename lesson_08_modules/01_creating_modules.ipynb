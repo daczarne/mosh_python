{
 "metadata": {
  "language_info": {
   "codemirror_mode": {
    "name": "ipython",
    "version": 3
   },
   "file_extension": ".py",
   "mimetype": "text/x-python",
   "name": "python",
   "nbconvert_exporter": "python",
   "pygments_lexer": "ipython3",
   "version": "3.8.3-final"
  },
  "orig_nbformat": 2,
  "kernelspec": {
   "name": "python3",
   "display_name": "Python 3"
  }
 },
 "nbformat": 4,
 "nbformat_minor": 2,
 "cells": [
  {
   "source": [
    "# Creating modules\n",
    "\n",
    "Modules are used to spread the different pieces of our program in subject specific files. A module should contain highly related objects (functions, classes, variables, etc.). \n",
    "\n",
    "For the purpose of this course, we've created a file called sales.py that contains objects related to sales. We import the objects form that module with the `import` key word and indicating the objects to import. Do not use the `*` notation because it imports everything (even objects that could overwrite objects in the current module)."
   ],
   "cell_type": "markdown",
   "metadata": {}
  },
  {
   "cell_type": "code",
   "execution_count": 2,
   "metadata": {},
   "outputs": [],
   "source": [
    "from sales import calc_shipping, calc_tax"
   ]
  },
  {
   "source": [
    "We can now use the function as if they had been defined in our current script."
   ],
   "cell_type": "markdown",
   "metadata": {}
  },
  {
   "cell_type": "code",
   "execution_count": 4,
   "metadata": {},
   "outputs": [],
   "source": [
    "calc_shipping()\n",
    "calc_tax()"
   ]
  },
  {
   "source": [
    "If you need to import the entire module as an object, you can do it with an `import <module_name> as <short_name>` notation."
   ],
   "cell_type": "markdown",
   "metadata": {}
  },
  {
   "cell_type": "code",
   "execution_count": 6,
   "metadata": {},
   "outputs": [],
   "source": [
    "import sales as sl"
   ]
  },
  {
   "source": [
    "The entire module is now an object in the current module and can thus be used with the `.` operator."
   ],
   "cell_type": "markdown",
   "metadata": {}
  },
  {
   "cell_type": "code",
   "execution_count": 8,
   "metadata": {},
   "outputs": [],
   "source": [
    "sl.calc_shipping()\n",
    "sl.calc_tax()"
   ]
  }
 ]
}