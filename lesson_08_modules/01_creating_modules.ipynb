{
 "metadata": {
  "language_info": {
   "codemirror_mode": {
    "name": "ipython",
    "version": 3
   },
   "file_extension": ".py",
   "mimetype": "text/x-python",
   "name": "python",
   "nbconvert_exporter": "python",
   "pygments_lexer": "ipython3",
   "version": "3.8.3-final"
  },
  "orig_nbformat": 2,
  "kernelspec": {
   "name": "python3",
   "display_name": "Python 3"
  }
 },
 "nbformat": 4,
 "nbformat_minor": 2,
 "cells": [
  {
   "source": [
    "# Creating modules\n",
    "\n",
    "Modules are used to spread the different pieces of our program in subject specific files. A module should contain highly related objects (functions, classes, variables, etc.). \n",
    "\n",
    "For the purpose of this course, we've created a file called `sales.py` that contains objects related to sales. We import the objects form that module with the `import` statement and indicating the objects to import. Do not use the `*` notation because it imports everything (even objects that could overwrite other objects in the current module)."
   ],
   "cell_type": "markdown",
   "metadata": {}
  },
  {
   "cell_type": "code",
   "execution_count": 1,
   "metadata": {},
   "outputs": [],
   "source": [
    "from sales import calc_shipping, calc_tax"
   ]
  },
  {
   "source": [
    "We can now use the functions as if they had been defined in our current script."
   ],
   "cell_type": "markdown",
   "metadata": {}
  },
  {
   "cell_type": "code",
   "execution_count": 2,
   "metadata": {},
   "outputs": [
    {
     "output_type": "stream",
     "name": "stdout",
     "text": [
      "Calculate the shipping cost.\nCalculate the tax value.\n"
     ]
    }
   ],
   "source": [
    "calc_shipping()\n",
    "calc_tax()"
   ]
  },
  {
   "source": [
    "If you need to import the entire module as an object, you can do it with an `import <module_name> as <alias>` notation."
   ],
   "cell_type": "markdown",
   "metadata": {}
  },
  {
   "cell_type": "code",
   "execution_count": 3,
   "metadata": {},
   "outputs": [],
   "source": [
    "import sales"
   ]
  },
  {
   "source": [
    "The entire module is now an object in the current program and can thus be accessed with the `.` operator."
   ],
   "cell_type": "markdown",
   "metadata": {}
  },
  {
   "cell_type": "code",
   "execution_count": 4,
   "metadata": {},
   "outputs": [
    {
     "output_type": "stream",
     "name": "stdout",
     "text": [
      "Calculate the shipping cost.\nCalculate the tax value.\n"
     ]
    }
   ],
   "source": [
    "sales.calc_shipping()\n",
    "sales.calc_tax()"
   ]
  }
 ]
}