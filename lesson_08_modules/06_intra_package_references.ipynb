{
 "metadata": {
  "language_info": {
   "codemirror_mode": {
    "name": "ipython",
    "version": 3
   },
   "file_extension": ".py",
   "mimetype": "text/x-python",
   "name": "python",
   "nbconvert_exporter": "python",
   "pygments_lexer": "ipython3",
   "version": "3.8.3-final"
  },
  "orig_nbformat": 2,
  "kernelspec": {
   "name": "python3",
   "display_name": "Python 3"
  }
 },
 "nbformat": 4,
 "nbformat_minor": 2,
 "cells": [
  {
   "source": [
    "# Intra-package references\n",
    "\n",
    "There are time that you want to import modules from sibling packages. For example, say we want to use the `contact` module from the `customer` package in the `even_more_sales` module of the `shopping` package.\n",
    "\n",
    "To import a module from a sibiling package we can use an absolute or relative import statement.\n",
    "\n",
    "<img src=\"import_statements.png\" />"
   ],
   "cell_type": "markdown",
   "metadata": {}
  }
 ]
}