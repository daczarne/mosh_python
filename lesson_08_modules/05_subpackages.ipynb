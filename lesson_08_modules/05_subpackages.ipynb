{
 "metadata": {
  "language_info": {
   "codemirror_mode": {
    "name": "ipython",
    "version": 3
   },
   "file_extension": ".py",
   "mimetype": "text/x-python",
   "name": "python",
   "nbconvert_exporter": "python",
   "pygments_lexer": "ipython3",
   "version": "3.8.3-final"
  },
  "orig_nbformat": 2,
  "kernelspec": {
   "name": "python3",
   "display_name": "Python 3"
  }
 },
 "nbformat": 4,
 "nbformat_minor": 2,
 "cells": [
  {
   "source": [
    "# Subpackages\n",
    "\n",
    "As your program grows even more, you'll want to break down packages into sub-packages. So, suppose our ecommerce package has grown so much we want to break it down into a `shopping` subpackage. To do it, we just create a sub folder called `shopping` in the `ecommerce` folder. We'll move the `sales` module there.\n",
    "\n",
    "In order to tell Python that shopping is a package, we need to create an `__init__.py` file in it. To import the module into our program we only need to change the speficied rout."
   ],
   "cell_type": "markdown",
   "metadata": {}
  },
  {
   "cell_type": "code",
   "execution_count": 2,
   "metadata": {},
   "outputs": [
    {
     "output_type": "stream",
     "name": "stdout",
     "text": [
      "Calculate the shipping cost.\nCalculate the tax value.\n"
     ]
    }
   ],
   "source": [
    "from ecommerce.shopping import even_more_sales\n",
    "\n",
    "even_more_sales.calc_shipping()\n",
    "even_more_sales.calc_tax()"
   ]
  }
 ]
}