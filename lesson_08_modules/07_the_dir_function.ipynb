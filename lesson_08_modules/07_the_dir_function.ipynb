{
 "metadata": {
  "language_info": {
   "codemirror_mode": {
    "name": "ipython",
    "version": 3
   },
   "file_extension": ".py",
   "mimetype": "text/x-python",
   "name": "python",
   "nbconvert_exporter": "python",
   "pygments_lexer": "ipython3",
   "version": "3.8.3-final"
  },
  "orig_nbformat": 2,
  "kernelspec": {
   "name": "python3",
   "display_name": "Python 3"
  }
 },
 "nbformat": 4,
 "nbformat_minor": 2,
 "cells": [
  {
   "source": [
    "# The dir() function\n",
    "\n",
    "With the `dir` function we can get the list of attributes and methods defined in an object. The result of calling `dir()` is an array with all the attributes and methods defined in an object."
   ],
   "cell_type": "markdown",
   "metadata": {}
  },
  {
   "cell_type": "code",
   "execution_count": 4,
   "metadata": {},
   "outputs": [
    {
     "output_type": "stream",
     "name": "stdout",
     "text": [
      "['__builtins__', '__cached__', '__doc__', '__file__', '__loader__', '__name__', '__package__', '__spec__', 'calc_shipping', 'calc_tax', 'contact']\n"
     ]
    }
   ],
   "source": [
    "from ecommerce.shopping import even_more_sales\n",
    "\n",
    "print(dir(even_more_sales))"
   ]
  },
  {
   "cell_type": "code",
   "execution_count": 6,
   "metadata": {},
   "outputs": [
    {
     "output_type": "stream",
     "name": "stdout",
     "text": [
      "ecommerce.shopping.even_more_sales\n"
     ]
    }
   ],
   "source": [
    "# Name of the module\n",
    "print(even_more_sales.__name__)"
   ]
  },
  {
   "cell_type": "code",
   "execution_count": 7,
   "metadata": {},
   "outputs": [
    {
     "output_type": "stream",
     "name": "stdout",
     "text": [
      "ecommerce.shopping\n"
     ]
    }
   ],
   "source": [
    "# Name of the package\n",
    "print(even_more_sales.__package__)"
   ]
  },
  {
   "cell_type": "code",
   "execution_count": 8,
   "metadata": {},
   "outputs": [
    {
     "output_type": "stream",
     "name": "stdout",
     "text": [
      "c:\\Users\\dacza\\Dropbox\\Code with Mosh\\Python_course\\lesson_08_modules\\ecommerce\\shopping\\even_more_sales.py\n"
     ]
    }
   ],
   "source": [
    "# Address of the modules file\n",
    "print(even_more_sales.__file__)"
   ]
  }
 ]
}