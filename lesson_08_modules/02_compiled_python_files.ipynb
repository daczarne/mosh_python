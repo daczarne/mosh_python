{
 "metadata": {
  "language_info": {
   "codemirror_mode": {
    "name": "ipython",
    "version": 3
   },
   "file_extension": ".py",
   "mimetype": "text/x-python",
   "name": "python",
   "nbconvert_exporter": "python",
   "pygments_lexer": "ipython3",
   "version": 3
  },
  "orig_nbformat": 2
 },
 "nbformat": 4,
 "nbformat_minor": 2,
 "cells": [
  {
   "source": [
    "# Compiled Python files\n",
    "\n",
    "You'll notice that there's now a `__pycache__` subdir in your folder. Inside this folder you can find the complied version of the `sales` module that we've created. The files name is formed by the name of the module, the Python implementation (in this case `cpython`), and the version (in the image, version 3.8).\n",
    "\n",
    "<img src=\"complied_python_file.png\" />"
   ],
   "cell_type": "markdown",
   "metadata": {}
  },
  {
   "source": [
    "The reason Python stores the complied files is to speed up module loading (not performance). To know if the complied version is the latest, Python will compare the timestamp in both the complied version and the `sales.py` file. If it's not up-to-date it will re-coomplie and overwrite the complied file."
   ],
   "cell_type": "markdown",
   "metadata": {}
  }
 ]
}