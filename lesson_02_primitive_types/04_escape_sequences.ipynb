{
 "metadata": {
  "language_info": {
   "codemirror_mode": {
    "name": "ipython",
    "version": 3
   },
   "file_extension": ".py",
   "mimetype": "text/x-python",
   "name": "python",
   "nbconvert_exporter": "python",
   "pygments_lexer": "ipython3",
   "version": "3.9.0-final"
  },
  "orig_nbformat": 2,
  "kernelspec": {
   "name": "python3",
   "display_name": "Python 3.9.0 64-bit",
   "metadata": {
    "interpreter": {
     "hash": "4968616242b12205732e0bb9392dd184d3a0818a6aa7d3a096f6e3a74afccf42"
    }
   }
  }
 },
 "nbformat": 4,
 "nbformat_minor": 2,
 "cells": [
  {
   "source": [
    "# Escape sequences\n",
    "\n",
    "In Python we use `\\` to escape reserved characters. `\\` is called an escape character, and `\\\"` is called an escape sequance."
   ],
   "cell_type": "markdown",
   "metadata": {}
  },
  {
   "cell_type": "code",
   "execution_count": 1,
   "metadata": {},
   "outputs": [
    {
     "output_type": "stream",
     "name": "stdout",
     "text": [
      "Python \" Programming\n"
     ]
    }
   ],
   "source": [
    "course = \"Python \\\"Programming\"\n",
    "print(course)"
   ]
  },
  {
   "source": [
    "To include a backslash, use `\\\\`"
   ],
   "cell_type": "markdown",
   "metadata": {}
  },
  {
   "cell_type": "code",
   "execution_count": 2,
   "metadata": {},
   "outputs": [
    {
     "output_type": "stream",
     "name": "stdout",
     "text": [
      "Python \\Programming\n"
     ]
    }
   ],
   "source": [
    "course = \"Python \\\\Programming\"\n",
    "print(course)"
   ]
  },
  {
   "source": [
    "Use `\\n` to break line"
   ],
   "cell_type": "markdown",
   "metadata": {}
  },
  {
   "cell_type": "code",
   "execution_count": 3,
   "metadata": {},
   "outputs": [
    {
     "output_type": "stream",
     "name": "stdout",
     "text": [
      "Python \n Programming\n"
     ]
    }
   ],
   "source": [
    "course = \"Python \\n Programming\"\n",
    "print(course)"
   ]
  }
 ]
}