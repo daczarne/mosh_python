{
 "metadata": {
  "language_info": {
   "codemirror_mode": {
    "name": "ipython",
    "version": 3
   },
   "file_extension": ".py",
   "mimetype": "text/x-python",
   "name": "python",
   "nbconvert_exporter": "python",
   "pygments_lexer": "ipython3",
   "version": "3.9.0-final"
  },
  "orig_nbformat": 2,
  "kernelspec": {
   "name": "python3",
   "display_name": "Python 3.9.0 64-bit",
   "metadata": {
    "interpreter": {
     "hash": "4968616242b12205732e0bb9392dd184d3a0818a6aa7d3a096f6e3a74afccf42"
    }
   }
  }
 },
 "nbformat": 4,
 "nbformat_minor": 2,
 "cells": [
  {
   "source": [
    "# Type conversion\n",
    "\n",
    "Type conversion functions can be used to change the type of a variable. To check the current `type` of a variable use the `type` function."
   ],
   "cell_type": "markdown",
   "metadata": {}
  },
  {
   "cell_type": "code",
   "execution_count": 1,
   "metadata": {},
   "outputs": [
    {
     "output_type": "stream",
     "name": "stdout",
     "text": [
      "<class 'str'>\n"
     ]
    }
   ],
   "source": [
    "x = \"2\"\n",
    "print(type(x))"
   ]
  },
  {
   "cell_type": "code",
   "execution_count": 3,
   "metadata": {},
   "outputs": [
    {
     "output_type": "stream",
     "name": "stdout",
     "text": [
      "2\n<class 'int'>\n"
     ]
    }
   ],
   "source": [
    "print(int(x))\n",
    "print(type(int(x)))"
   ]
  },
  {
   "cell_type": "code",
   "execution_count": 4,
   "metadata": {},
   "outputs": [
    {
     "output_type": "stream",
     "name": "stdout",
     "text": [
      "2.0\n<class 'float'>\n"
     ]
    }
   ],
   "source": [
    "print(float(x))\n",
    "print(type(float(x)))"
   ]
  },
  {
   "cell_type": "code",
   "execution_count": 5,
   "metadata": {},
   "outputs": [
    {
     "output_type": "stream",
     "name": "stdout",
     "text": [
      "True\n<class 'bool'>\n"
     ]
    }
   ],
   "source": [
    "print(bool(x))\n",
    "print(type(bool(x)))"
   ]
  },
  {
   "source": [
    "Why did we get `True`? In Python we have the concept of `truthy` or `falsy` values. These are values that, despite not been boolean, Python will interpret as such when used in a boolean context.\n",
    "\n",
    "Falsy:\n",
    "- \"\" (empty string)\n",
    "- 0\n",
    "- None\n",
    "\n",
    "Everything else will be `true`."
   ],
   "cell_type": "markdown",
   "metadata": {}
  },
  {
   "cell_type": "code",
   "execution_count": 10,
   "metadata": {},
   "outputs": [
    {
     "output_type": "stream",
     "name": "stdout",
     "text": [
      "False\nTrue\nTrue\nFalse\nFalse\nTrue\n"
     ]
    }
   ],
   "source": [
    "print(bool(0))\n",
    "print(bool(2))\n",
    "print(bool(-1))\n",
    "print(bool(\"\"))\n",
    "print(bool(None))\n",
    "print(bool(\"False\"))"
   ]
  }
 ]
}