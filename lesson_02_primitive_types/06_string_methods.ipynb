{
 "metadata": {
  "language_info": {
   "codemirror_mode": {
    "name": "ipython",
    "version": 3
   },
   "file_extension": ".py",
   "mimetype": "text/x-python",
   "name": "python",
   "nbconvert_exporter": "python",
   "pygments_lexer": "ipython3",
   "version": "3.9.0-final"
  },
  "orig_nbformat": 2,
  "kernelspec": {
   "name": "python3",
   "display_name": "Python 3.9.0 64-bit",
   "metadata": {
    "interpreter": {
     "hash": "4968616242b12205732e0bb9392dd184d3a0818a6aa7d3a096f6e3a74afccf42"
    }
   }
  }
 },
 "nbformat": 4,
 "nbformat_minor": 2,
 "cells": [
  {
   "source": [
    "# String methods\n",
    "\n",
    "Functions that come \"included\" in an object are called methods. We access them using the `.` operator. This functions return a new value, they don't affect the variable."
   ],
   "cell_type": "markdown",
   "metadata": {}
  },
  {
   "cell_type": "code",
   "execution_count": 13,
   "metadata": {},
   "outputs": [
    {
     "output_type": "stream",
     "name": "stdout",
     "text": [
      "  python programming  \n  python programming  \n  PYTHON PROGRAMMING  \n  Python Programming  \nPython proGramming\nPython proGramming  \n['Python', 'proGramming']\n"
     ]
    }
   ],
   "source": [
    "course = \"  Python proGramming  \"\n",
    "print(course.capitalize())\n",
    "print(course.lower())\n",
    "print(course.upper())\n",
    "print(course.title())\n",
    "print(course.strip())\n",
    "print(course.lstrip())\n",
    "print(course.rsplit())"
   ]
  },
  {
   "source": [
    "To get the index of a character or sequence of characters, we use the `find` method."
   ],
   "cell_type": "markdown",
   "metadata": {}
  },
  {
   "cell_type": "code",
   "execution_count": 14,
   "metadata": {},
   "outputs": [
    {
     "output_type": "stream",
     "name": "stdout",
     "text": [
      "9\n"
     ]
    }
   ],
   "source": [
    "print(course.find(\"pro\"))"
   ]
  },
  {
   "source": [
    "We'll get -1 if the string is not found."
   ],
   "cell_type": "markdown",
   "metadata": {}
  },
  {
   "cell_type": "code",
   "execution_count": 15,
   "metadata": {},
   "outputs": [
    {
     "output_type": "stream",
     "name": "stdout",
     "text": [
      "-1\n"
     ]
    }
   ],
   "source": [
    "print(course.find(\"Pro\"))"
   ]
  },
  {
   "source": [
    "To replace a character or sequence of characters we use the `replace` method."
   ],
   "cell_type": "markdown",
   "metadata": {}
  },
  {
   "cell_type": "code",
   "execution_count": 16,
   "metadata": {},
   "outputs": [
    {
     "output_type": "stream",
     "name": "stdout",
     "text": [
      "  Python jroGramming  \n"
     ]
    }
   ],
   "source": [
    "print(course.replace(\"p\", \"j\"))"
   ]
  },
  {
   "source": [
    "To check for the existance of a character or sequence of characters we use the `in` operator. Use `not` to negate."
   ],
   "cell_type": "markdown",
   "metadata": {}
  },
  {
   "cell_type": "code",
   "execution_count": 18,
   "metadata": {},
   "outputs": [
    {
     "output_type": "stream",
     "name": "stdout",
     "text": [
      "True\nTrue\n"
     ]
    }
   ],
   "source": [
    "print(\"pro\" in course)\n",
    "print(\"swift\" not in course)"
   ]
  }
 ]
}