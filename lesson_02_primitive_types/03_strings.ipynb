{
 "metadata": {
  "language_info": {
   "codemirror_mode": {
    "name": "ipython",
    "version": 3
   },
   "file_extension": ".py",
   "mimetype": "text/x-python",
   "name": "python",
   "nbconvert_exporter": "python",
   "pygments_lexer": "ipython3",
   "version": "3.9.0-final"
  },
  "orig_nbformat": 2,
  "kernelspec": {
   "name": "python3",
   "display_name": "Python 3.9.0 64-bit",
   "metadata": {
    "interpreter": {
     "hash": "4968616242b12205732e0bb9392dd184d3a0818a6aa7d3a096f6e3a74afccf42"
    }
   }
  }
 },
 "nbformat": 4,
 "nbformat_minor": 2,
 "cells": [
  {
   "source": [
    "# Strings\n",
    "\n",
    "Strings are defined by surrounding the value with `\"` or `'`. We can also use `\"\"\"`, but only for multi-line strings."
   ],
   "cell_type": "markdown",
   "metadata": {}
  },
  {
   "cell_type": "code",
   "execution_count": 2,
   "metadata": {},
   "outputs": [],
   "source": [
    "course_name = \"Python Programming\"\n",
    "message = \"\"\"\n",
    "    Hi John,\n",
    "\n",
    "    how are you doing?\n",
    "\"\"\""
   ]
  },
  {
   "source": [
    "Getting the length of strings with the `len` function."
   ],
   "cell_type": "markdown",
   "metadata": {}
  },
  {
   "cell_type": "code",
   "execution_count": 4,
   "metadata": {},
   "outputs": [
    {
     "output_type": "stream",
     "name": "stdout",
     "text": [
      "18\n"
     ]
    }
   ],
   "source": [
    "print(len(course_name))"
   ]
  },
  {
   "source": [
    "Access a specific character in the string with `[` method."
   ],
   "cell_type": "markdown",
   "metadata": {}
  },
  {
   "cell_type": "code",
   "execution_count": 6,
   "metadata": {},
   "outputs": [
    {
     "output_type": "stream",
     "name": "stdout",
     "text": [
      "P\nn\ng\n"
     ]
    }
   ],
   "source": [
    "print(course_name[0]) # first character\n",
    "print(course_name[5]) # 6th character\n",
    "print(course_name[-1]) # start from last character"
   ]
  },
  {
   "source": [
    "String slicing with start and end indexes (end is not included)."
   ],
   "cell_type": "markdown",
   "metadata": {}
  },
  {
   "cell_type": "code",
   "execution_count": 7,
   "metadata": {},
   "outputs": [
    {
     "output_type": "stream",
     "name": "stdout",
     "text": [
      "Pyt\n"
     ]
    }
   ],
   "source": [
    "print(course_name[0:3])"
   ]
  },
  {
   "source": [
    "If we omit start or end, they Python will return from the start or up to the end respectively."
   ],
   "cell_type": "markdown",
   "metadata": {}
  },
  {
   "cell_type": "code",
   "execution_count": 10,
   "metadata": {},
   "outputs": [
    {
     "output_type": "stream",
     "name": "stdout",
     "text": [
      "hon Programming\nPython Pr\nPython Programming\n"
     ]
    }
   ],
   "source": [
    "print(course_name[3:])\n",
    "print(course_name[:9])\n",
    "print(course_name[:])"
   ]
  }
 ]
}