{
 "metadata": {
  "language_info": {
   "codemirror_mode": {
    "name": "ipython",
    "version": 3
   },
   "file_extension": ".py",
   "mimetype": "text/x-python",
   "name": "python",
   "nbconvert_exporter": "python",
   "pygments_lexer": "ipython3",
   "version": "3.9.0-final"
  },
  "orig_nbformat": 2,
  "kernelspec": {
   "name": "python3",
   "display_name": "Python 3.9.0 64-bit",
   "metadata": {
    "interpreter": {
     "hash": "4968616242b12205732e0bb9392dd184d3a0818a6aa7d3a096f6e3a74afccf42"
    }
   }
  }
 },
 "nbformat": 4,
 "nbformat_minor": 2,
 "cells": [
  {
   "source": [
    "# Variables\n",
    "\n",
    "We use variables to store data in computers memory. For example:"
   ],
   "cell_type": "markdown",
   "metadata": {}
  },
  {
   "cell_type": "code",
   "execution_count": 2,
   "metadata": {},
   "outputs": [],
   "source": [
    "students_count = 1000"
   ]
  },
  {
   "source": [
    "The number 1000 will be stored in a memory address. The label `students_count` is a reference to that memory address (or location). We can then use the label to reference the variable."
   ],
   "cell_type": "markdown",
   "metadata": {}
  },
  {
   "cell_type": "code",
   "execution_count": 3,
   "metadata": {},
   "outputs": [
    {
     "output_type": "stream",
     "name": "stdout",
     "text": [
      "1000\n"
     ]
    }
   ],
   "source": [
    "print(students_count)"
   ]
  },
  {
   "source": [
    "The built in primitive types in Python are:\n",
    "\n",
    "- strings\n",
    "- booleans\n",
    "- float\n",
    "- integers\n",
    "\n",
    "Python is a case-sensitive language, so booleans must always start with a capital letter: `True` or `False`."
   ],
   "cell_type": "markdown",
   "metadata": {}
  }
 ]
}