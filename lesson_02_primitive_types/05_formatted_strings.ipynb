{
 "metadata": {
  "language_info": {
   "codemirror_mode": {
    "name": "ipython",
    "version": 3
   },
   "file_extension": ".py",
   "mimetype": "text/x-python",
   "name": "python",
   "nbconvert_exporter": "python",
   "pygments_lexer": "ipython3",
   "version": "3.9.0-final"
  },
  "orig_nbformat": 2,
  "kernelspec": {
   "name": "python3",
   "display_name": "Python 3.9.0 64-bit",
   "metadata": {
    "interpreter": {
     "hash": "4968616242b12205732e0bb9392dd184d3a0818a6aa7d3a096f6e3a74afccf42"
    }
   }
  }
 },
 "nbformat": 4,
 "nbformat_minor": 2,
 "cells": [
  {
   "source": [
    "# Formatted strings\n",
    "\n",
    "We use an `f` or an `F` to build a formatted string. Formatted strings are evaluated at run time."
   ],
   "cell_type": "markdown",
   "metadata": {}
  },
  {
   "cell_type": "code",
   "execution_count": 1,
   "metadata": {},
   "outputs": [
    {
     "output_type": "stream",
     "name": "stdout",
     "text": [
      "Daniel Czarnievicz\n"
     ]
    }
   ],
   "source": [
    "first = \"Daniel\"\n",
    "last = \"Czarnievicz\"\n",
    "full = first + \" \" + last\n",
    "print(full)"
   ]
  },
  {
   "cell_type": "code",
   "execution_count": 2,
   "metadata": {},
   "outputs": [
    {
     "output_type": "stream",
     "name": "stdout",
     "text": [
      "Daniel Czarnievicz\n"
     ]
    }
   ],
   "source": [
    "first = \"Daniel\"\n",
    "last = \"Czarnievicz\"\n",
    "full = f\"{first} {last}\"\n",
    "print(full)"
   ]
  },
  {
   "source": [
    "In formatted strings we can include any valid Python expression in `{}`."
   ],
   "cell_type": "markdown",
   "metadata": {}
  },
  {
   "cell_type": "code",
   "execution_count": 4,
   "metadata": {},
   "outputs": [
    {
     "output_type": "stream",
     "name": "stdout",
     "text": [
      "6 4\n"
     ]
    }
   ],
   "source": [
    "first = \"Daniel\"\n",
    "last = \"Czarnievicz\"\n",
    "full = f\"{len(first)} {2 + 2}\"\n",
    "print(full)"
   ]
  }
 ]
}