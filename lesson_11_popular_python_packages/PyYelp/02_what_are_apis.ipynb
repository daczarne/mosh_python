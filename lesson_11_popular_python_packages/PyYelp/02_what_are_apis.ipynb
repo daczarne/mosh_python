{
 "metadata": {
  "language_info": {
   "codemirror_mode": {
    "name": "ipython",
    "version": 3
   },
   "file_extension": ".py",
   "mimetype": "text/x-python",
   "name": "python",
   "nbconvert_exporter": "python",
   "pygments_lexer": "ipython3",
   "version": 3
  },
  "orig_nbformat": 2
 },
 "nbformat": 4,
 "nbformat_minor": 2,
 "cells": [
  {
   "source": [
    "# What are APIs?\n",
    "\n",
    "An API (Application Programming Interface) are endpoints that are publicly available in the internet. The browser comunicates with APIs by sending http requests and getting a response from the web service. Every http request has a method that determins what we are going to use the response for.\n",
    "\n",
    "- GET for getting data\n",
    "- POST for creating data\n",
    "- PUT for updating data\n",
    "- DELETE for deleting data\n",
    "\n",
    "We'll use the [Yelp Fusion](https://www.yelp.com/fusion) API as an example."
   ],
   "cell_type": "markdown",
   "metadata": {}
  }
 ]
}