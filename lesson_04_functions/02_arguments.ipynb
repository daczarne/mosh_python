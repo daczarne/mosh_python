{
 "metadata": {
  "language_info": {
   "codemirror_mode": {
    "name": "ipython",
    "version": 3
   },
   "file_extension": ".py",
   "mimetype": "text/x-python",
   "name": "python",
   "nbconvert_exporter": "python",
   "pygments_lexer": "ipython3",
   "version": "3.9.0-final"
  },
  "orig_nbformat": 2,
  "kernelspec": {
   "name": "python3",
   "display_name": "Python 3.9.0 64-bit",
   "metadata": {
    "interpreter": {
     "hash": "4968616242b12205732e0bb9392dd184d3a0818a6aa7d3a096f6e3a74afccf42"
    }
   }
  }
 },
 "nbformat": 4,
 "nbformat_minor": 2,
 "cells": [
  {
   "source": [
    "# Arguments & Parameters\n",
    "\n",
    "Parameters must be included in between parenthesis when defining a function"
   ],
   "cell_type": "markdown",
   "metadata": {}
  },
  {
   "cell_type": "code",
   "execution_count": 2,
   "metadata": {},
   "outputs": [],
   "source": [
    "def greet(first_name, last_name):\n",
    "    print(\"Hi there\")\n",
    "    print(\"Welcome aboard\")"
   ]
  },
  {
   "source": [
    "Now, when calling this function we need to supply two values for those parameters. We refer to these values as *arguments*."
   ],
   "cell_type": "markdown",
   "metadata": {}
  },
  {
   "cell_type": "code",
   "execution_count": 3,
   "metadata": {},
   "outputs": [
    {
     "output_type": "stream",
     "name": "stdout",
     "text": [
      "Hi there\nWelcome aboard\n"
     ]
    }
   ],
   "source": [
    "greet(\"John\", \"Smith\")"
   ]
  },
  {
   "source": [
    "- **Parameter:** the input that we define for a function\n",
    "\n",
    "- **Argument:** the value for a given parameter\n"
   ],
   "cell_type": "markdown",
   "metadata": {}
  },
  {
   "source": [
    "Now that the function has pararmeters, we can use them to greet a person by there full name."
   ],
   "cell_type": "markdown",
   "metadata": {}
  },
  {
   "cell_type": "code",
   "execution_count": 4,
   "metadata": {},
   "outputs": [
    {
     "output_type": "stream",
     "name": "stdout",
     "text": [
      "Hi John Smith\nWelcome aboard\n"
     ]
    }
   ],
   "source": [
    "def greet(first_name, last_name):\n",
    "    print(f\"Hi {first_name} {last_name}\")\n",
    "    print(\"Welcome aboard\")\n",
    "\n",
    "greet(\"John\", \"Smith\")"
   ]
  },
  {
   "source": [
    "We can reuse the function and call it with different arguments."
   ],
   "cell_type": "markdown",
   "metadata": {}
  },
  {
   "cell_type": "code",
   "execution_count": 5,
   "metadata": {},
   "outputs": [
    {
     "output_type": "stream",
     "name": "stdout",
     "text": [
      "Hi Mary Smith\nWelcome aboard\nHi Joe Black\nWelcome aboard\n"
     ]
    }
   ],
   "source": [
    "greet(\"Mary\", \"Smith\")\n",
    "greet(\"Joe\", \"Black\")"
   ]
  },
  {
   "source": [
    "Parameters that we define this way are requiered when calling the function. If we omit them, we'll get a `TypeError` exception."
   ],
   "cell_type": "markdown",
   "metadata": {}
  },
  {
   "cell_type": "code",
   "execution_count": 7,
   "metadata": {},
   "outputs": [
    {
     "output_type": "error",
     "ename": "TypeError",
     "evalue": "greet() missing 1 required positional argument: 'last_name'",
     "traceback": [
      "\u001b[1;31m---------------------------------------------------------------------------\u001b[0m",
      "\u001b[1;31mTypeError\u001b[0m                                 Traceback (most recent call last)",
      "\u001b[1;32m<ipython-input-7-64e0768f0ada>\u001b[0m in \u001b[0;36m<module>\u001b[1;34m\u001b[0m\n\u001b[1;32m----> 1\u001b[1;33m \u001b[0mgreet\u001b[0m\u001b[1;33m(\u001b[0m\u001b[1;34m\"Monica\"\u001b[0m\u001b[1;33m)\u001b[0m\u001b[1;33m\u001b[0m\u001b[1;33m\u001b[0m\u001b[0m\n\u001b[0m",
      "\u001b[1;31mTypeError\u001b[0m: greet() missing 1 required positional argument: 'last_name'"
     ]
    }
   ],
   "source": [
    "greet(\"Monica\")"
   ]
  }
 ]
}