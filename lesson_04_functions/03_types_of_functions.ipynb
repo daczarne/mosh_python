{
 "metadata": {
  "language_info": {
   "codemirror_mode": {
    "name": "ipython",
    "version": 3
   },
   "file_extension": ".py",
   "mimetype": "text/x-python",
   "name": "python",
   "nbconvert_exporter": "python",
   "pygments_lexer": "ipython3",
   "version": "3.9.0-final"
  },
  "orig_nbformat": 2,
  "kernelspec": {
   "name": "python3",
   "display_name": "Python 3.9.0 64-bit",
   "metadata": {
    "interpreter": {
     "hash": "4968616242b12205732e0bb9392dd184d3a0818a6aa7d3a096f6e3a74afccf42"
    }
   }
  }
 },
 "nbformat": 4,
 "nbformat_minor": 2,
 "cells": [
  {
   "source": [
    "# Types of functions\n",
    "\n",
    "In programming we have two types of functions:\n",
    "\n",
    "1. Perform a task\n",
    "\n",
    "2. Calculate and return a value"
   ],
   "cell_type": "markdown",
   "metadata": {}
  },
  {
   "source": [
    "`print` is an example of a function that performs a task: printing an object."
   ],
   "cell_type": "markdown",
   "metadata": {}
  },
  {
   "cell_type": "code",
   "execution_count": 1,
   "metadata": {},
   "outputs": [
    {
     "output_type": "stream",
     "name": "stdout",
     "text": [
      "Hello World!\n"
     ]
    }
   ],
   "source": [
    "print(\"Hello World!\")"
   ]
  },
  {
   "source": [
    "On the other hand, `round` is an example of a function that calculates and returns a value."
   ],
   "cell_type": "markdown",
   "metadata": {}
  },
  {
   "cell_type": "code",
   "execution_count": 2,
   "metadata": {},
   "outputs": [
    {
     "output_type": "execute_result",
     "data": {
      "text/plain": [
       "2"
      ]
     },
     "metadata": {},
     "execution_count": 2
    }
   ],
   "source": [
    "round(1.9)"
   ]
  },
  {
   "source": [
    "The same goal can be achieved by using functions of different types. For example, the following is a function that performs a task."
   ],
   "cell_type": "markdown",
   "metadata": {}
  },
  {
   "cell_type": "code",
   "execution_count": 3,
   "metadata": {},
   "outputs": [],
   "source": [
    "def greet(name):\n",
    "    print(f\"Hi {name}\")"
   ]
  },
  {
   "source": [
    "But we can use a function that calculates and returns a value that does the samae thing"
   ],
   "cell_type": "markdown",
   "metadata": {}
  },
  {
   "cell_type": "code",
   "execution_count": 5,
   "metadata": {},
   "outputs": [],
   "source": [
    "def get_greeting(name):\n",
    "    return f\"Hi {name}\""
   ]
  },
  {
   "cell_type": "code",
   "execution_count": 8,
   "metadata": {},
   "outputs": [
    {
     "output_type": "stream",
     "name": "stdout",
     "text": [
      "Hi John Smith\nHi John Smith\n"
     ]
    }
   ],
   "source": [
    "greet(\"John Smith\")\n",
    "message = get_greeting(\"John Smith\")\n",
    "print(message)"
   ]
  },
  {
   "source": [
    "All funtions in Python return a value. If the function has no return statement, then Python will return an object `None`."
   ],
   "cell_type": "markdown",
   "metadata": {}
  },
  {
   "cell_type": "code",
   "execution_count": 9,
   "metadata": {},
   "outputs": [
    {
     "output_type": "stream",
     "name": "stdout",
     "text": [
      "Hi John\nNone\n"
     ]
    }
   ],
   "source": [
    "print(greet(\"John\"))"
   ]
  }
 ]
}