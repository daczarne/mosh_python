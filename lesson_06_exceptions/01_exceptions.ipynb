{
 "metadata": {
  "language_info": {
   "codemirror_mode": {
    "name": "ipython",
    "version": 3
   },
   "file_extension": ".py",
   "mimetype": "text/x-python",
   "name": "python",
   "nbconvert_exporter": "python",
   "pygments_lexer": "ipython3",
   "version": "3.9.0-final"
  },
  "orig_nbformat": 2,
  "kernelspec": {
   "name": "python3",
   "display_name": "Python 3.9.0 64-bit",
   "metadata": {
    "interpreter": {
     "hash": "4968616242b12205732e0bb9392dd184d3a0818a6aa7d3a096f6e3a74afccf42"
    }
   }
  }
 },
 "nbformat": 4,
 "nbformat_minor": 2,
 "cells": [
  {
   "source": [
    "# Exceptions\n",
    "\n",
    "An *exception* is an error that terminates de execution of a program. For example, the `print(numbers[3])` expression below throws an `IndexError` exception because there is no index 3 in the `numbers` object."
   ],
   "cell_type": "markdown",
   "metadata": {}
  },
  {
   "cell_type": "code",
   "execution_count": 1,
   "metadata": {},
   "outputs": [
    {
     "output_type": "error",
     "ename": "IndexError",
     "evalue": "list index out of range",
     "traceback": [
      "\u001b[1;31m---------------------------------------------------------------------------\u001b[0m",
      "\u001b[1;31mIndexError\u001b[0m                                Traceback (most recent call last)",
      "\u001b[1;32m<ipython-input-1-4c8c4a570c57>\u001b[0m in \u001b[0;36m<module>\u001b[1;34m\u001b[0m\n\u001b[0;32m      1\u001b[0m \u001b[0mnumbers\u001b[0m \u001b[1;33m=\u001b[0m \u001b[1;33m[\u001b[0m\u001b[1;36m1\u001b[0m\u001b[1;33m,\u001b[0m \u001b[1;36m2\u001b[0m\u001b[1;33m]\u001b[0m\u001b[1;33m\u001b[0m\u001b[1;33m\u001b[0m\u001b[0m\n\u001b[1;32m----> 2\u001b[1;33m \u001b[0mprint\u001b[0m\u001b[1;33m(\u001b[0m\u001b[0mnumbers\u001b[0m\u001b[1;33m[\u001b[0m\u001b[1;36m3\u001b[0m\u001b[1;33m]\u001b[0m\u001b[1;33m)\u001b[0m\u001b[1;33m\u001b[0m\u001b[1;33m\u001b[0m\u001b[0m\n\u001b[0m",
      "\u001b[1;31mIndexError\u001b[0m: list index out of range"
     ]
    }
   ],
   "source": [
    "numbers = [1, 2]\n",
    "print(numbers[3])"
   ]
  },
  {
   "source": [
    "To handle exceptions we use the `try-except-else-finally` block. In the `try` part of the block we include what we want the program to do.\n",
    "\n",
    "In the `except` block we include what to do if an error occurs (we need to specify the type of error). So, at runtime, Python interpreter will execute the `try` block, if there's an error, it will jump to the `except` statement. If there are no errors, the `except` statement will not be executed. We can add as many `except` statements as needed.\n",
    "\n",
    "The `else` clause is optional. Expressions in the `else` clause will only be executed if there are no exceptions thrown by the `try` block.\n",
    "\n",
    "The `finally` clause is always executed, regardless of whether there was an exception or not."
   ],
   "cell_type": "markdown",
   "metadata": {}
  },
  {
   "cell_type": "code",
   "execution_count": 4,
   "metadata": {},
   "outputs": [
    {
     "output_type": "stream",
     "name": "stdout",
     "text": [
      "No such index\n"
     ]
    }
   ],
   "source": [
    "numbers = [1, 2]\n",
    "try:\n",
    "    print(numbers[3])\n",
    "except IndexError:\n",
    "    print(\"No such index\")"
   ]
  }
 ]
}