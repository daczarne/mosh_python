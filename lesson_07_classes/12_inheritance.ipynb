{
 "metadata": {
  "language_info": {
   "codemirror_mode": {
    "name": "ipython",
    "version": 3
   },
   "file_extension": ".py",
   "mimetype": "text/x-python",
   "name": "python",
   "nbconvert_exporter": "python",
   "pygments_lexer": "ipython3",
   "version": "3.8.3-final"
  },
  "orig_nbformat": 2,
  "kernelspec": {
   "name": "python3",
   "display_name": "Python 3"
  }
 },
 "nbformat": 4,
 "nbformat_minor": 2,
 "cells": [
  {
   "source": [
    "# Inheritance\n",
    "\n",
    "Suppose we want to build a class called `Mammals`. We want all our mammals to have two methods, `eat` and `walk`.\n"
   ],
   "cell_type": "markdown",
   "metadata": {}
  },
  {
   "cell_type": "code",
   "execution_count": null,
   "metadata": {},
   "outputs": [],
   "source": [
    "class Mammals:\n",
    "    def eat(self):\n",
    "        print(\"eat\")\n",
    "\n",
    "    def walk(self):\n",
    "        print(\"walk\")"
   ]
  },
  {
   "source": [
    "Suppose we now want to define a new class, `Fish`. Just like mammals, fish do eat, but they don't walk, they swim. So our `Fish` class will look like this:"
   ],
   "cell_type": "markdown",
   "metadata": {}
  },
  {
   "cell_type": "code",
   "execution_count": null,
   "metadata": {},
   "outputs": [],
   "source": [
    "class Mammals:\n",
    "    def eat(self):\n",
    "        print(\"eat\")\n",
    "\n",
    "    def swim(self):\n",
    "        print(\"swim\")"
   ]
  },
  {
   "source": [
    "One problem with this code is that we defined the method `eat` twice. If we ever need to change the behaviour (or fix a bug) on this method, we'll have to change it in more than one place.\n",
    "\n",
    "There are two solutions to this problem: **inheritance** and **composition**. Here we'll look at *inheritance*.\n",
    "\n",
    "Inheritance is a mechanism that allows us to define the common behaviour in one class, and then have other classes use this method (ie they inherit the behaviour). To achive this we proceed as follows:\n",
    "\n",
    "- we define de `Animal` class with the `eat` method.\n",
    "- we define de `Mammal` and `Fish` classes and pass the `Animal` class as an argument in their definitions\n",
    "\n",
    "`Animal` is considered the *parten* or *base* class, while `Mammal` and `Fish` are considered *child* or *sub* classes of the `Animal` class."
   ],
   "cell_type": "markdown",
   "metadata": {}
  },
  {
   "cell_type": "code",
   "execution_count": 2,
   "metadata": {},
   "outputs": [],
   "source": [
    "class Animal:\n",
    "    def eat(self):\n",
    "        print(\"eat\")\n",
    "\n",
    "\n",
    "class Mammal(Animal):\n",
    "    def walk(self):\n",
    "        print(\"walk\")\n",
    "\n",
    "\n",
    "class Fish(Animal):\n",
    "    def swim(self):\n",
    "        print(\"swim\")"
   ]
  },
  {
   "source": [
    "If we now create an instance of the `Mammal` class, we see that it has access to the `eat` method (that it inherited from it's parent class)."
   ],
   "cell_type": "markdown",
   "metadata": {}
  },
  {
   "cell_type": "code",
   "execution_count": 3,
   "metadata": {},
   "outputs": [
    {
     "output_type": "stream",
     "name": "stdout",
     "text": [
      "eat\n"
     ]
    }
   ],
   "source": [
    "m = Mammal()\n",
    "m.eat()"
   ]
  },
  {
   "source": [
    "Inheritance is not limited to methods. Attribuutes can also be inherited by a sub-class from its base class. For example, here we define a constructor that sets age to 1."
   ],
   "cell_type": "markdown",
   "metadata": {}
  },
  {
   "cell_type": "code",
   "execution_count": 4,
   "metadata": {},
   "outputs": [],
   "source": [
    "class Animal:\n",
    "    def __init__(self):\n",
    "        self.age = 1\n",
    "\n",
    "    def eat(self):\n",
    "        print(\"eat\")\n",
    "\n",
    "\n",
    "class Mammal(Animal):\n",
    "    def walk(self):\n",
    "        print(\"walk\")\n",
    "\n",
    "\n",
    "class Fish(Animal):\n",
    "    def swim(self):\n",
    "        print(\"swim\")"
   ]
  },
  {
   "cell_type": "code",
   "execution_count": 5,
   "metadata": {},
   "outputs": [
    {
     "output_type": "stream",
     "name": "stdout",
     "text": [
      "1\n"
     ]
    }
   ],
   "source": [
    "m = Mammal()\n",
    "print(m.age)"
   ]
  }
 ]
}