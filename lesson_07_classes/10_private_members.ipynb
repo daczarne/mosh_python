{
 "metadata": {
  "language_info": {
   "codemirror_mode": {
    "name": "ipython",
    "version": 3
   },
   "file_extension": ".py",
   "mimetype": "text/x-python",
   "name": "python",
   "nbconvert_exporter": "python",
   "pygments_lexer": "ipython3",
   "version": "3.8.3-final"
  },
  "orig_nbformat": 2,
  "kernelspec": {
   "name": "python3",
   "display_name": "Python 3"
  }
 },
 "nbformat": 4,
 "nbformat_minor": 2,
 "cells": [
  {
   "source": [
    "# Private Members\n",
    "\n",
    "The `TagCloud` class has a problem. If we try to access the underlying dictionay in the class, the program will crush."
   ],
   "cell_type": "markdown",
   "metadata": {}
  },
  {
   "cell_type": "code",
   "execution_count": 6,
   "metadata": {},
   "outputs": [
    {
     "output_type": "stream",
     "name": "stdout",
     "text": [
      "3\n3\n"
     ]
    }
   ],
   "source": [
    "class TagCloud:\n",
    "    def __init__(self):\n",
    "        self.tags = {}\n",
    "\n",
    "    def add(self, tag):\n",
    "        self.tags[tag.lower()] = self.tags.get(tag.lower(), 0) + 1\n",
    "\n",
    "    def __getitem__(self, tag):\n",
    "        return self.tags.get(tag.lower(), 0)\n",
    "\n",
    "    def __setitem__(self, tag, count):\n",
    "        self.tags[tag.lower()] = count\n",
    "\n",
    "    def __len__(self):\n",
    "        return len(self.tags)\n",
    "\n",
    "    def __iter__(self):\n",
    "        return iter(self.tags)\n",
    "\n",
    "# Create an instance of the TagCloud class\n",
    "cloud = TagCloud()\n",
    "# Add \"python\" 2 times and \"Python\" once\n",
    "cloud.add(\"python\")\n",
    "cloud.add(\"python\")\n",
    "cloud.add(\"Python\")\n",
    "# If we print \"PYTHON\" we get 3 (as expected)\n",
    "print(cloud[\"PYTHON\"])\n",
    "print(cloud.tags[\"python\"])"
   ]
  },
  {
   "source": [
    "But if we try to access the underlying dict with a tag that is not explicity there, the program will crush with a `KeyError` since everything is stored with a lower case (even \"Python\" doesn't work since our add method calls the lower method before adding)."
   ],
   "cell_type": "markdown",
   "metadata": {}
  },
  {
   "cell_type": "code",
   "execution_count": 5,
   "metadata": {},
   "outputs": [
    {
     "output_type": "error",
     "ename": "KeyError",
     "evalue": "'Python'",
     "traceback": [
      "\u001b[1;31m---------------------------------------------------------------------------\u001b[0m",
      "\u001b[1;31mKeyError\u001b[0m                                  Traceback (most recent call last)",
      "\u001b[1;32m<ipython-input-5-a5c66916d612>\u001b[0m in \u001b[0;36m<module>\u001b[1;34m\u001b[0m\n\u001b[1;32m----> 1\u001b[1;33m \u001b[0mprint\u001b[0m\u001b[1;33m(\u001b[0m\u001b[0mcloud\u001b[0m\u001b[1;33m.\u001b[0m\u001b[0mtags\u001b[0m\u001b[1;33m[\u001b[0m\u001b[1;34m\"Python\"\u001b[0m\u001b[1;33m]\u001b[0m\u001b[1;33m)\u001b[0m\u001b[1;33m\u001b[0m\u001b[1;33m\u001b[0m\u001b[0m\n\u001b[0m",
      "\u001b[1;31mKeyError\u001b[0m: 'Python'"
     ]
    }
   ],
   "source": [
    "print(cloud.tags[\"Python\"])"
   ]
  },
  {
   "cell_type": "code",
   "execution_count": 7,
   "metadata": {},
   "outputs": [
    {
     "output_type": "error",
     "ename": "KeyError",
     "evalue": "'PYTHON'",
     "traceback": [
      "\u001b[1;31m---------------------------------------------------------------------------\u001b[0m",
      "\u001b[1;31mKeyError\u001b[0m                                  Traceback (most recent call last)",
      "\u001b[1;32m<ipython-input-7-0e24b627caac>\u001b[0m in \u001b[0;36m<module>\u001b[1;34m\u001b[0m\n\u001b[1;32m----> 1\u001b[1;33m \u001b[0mprint\u001b[0m\u001b[1;33m(\u001b[0m\u001b[0mcloud\u001b[0m\u001b[1;33m.\u001b[0m\u001b[0mtags\u001b[0m\u001b[1;33m[\u001b[0m\u001b[1;34m\"PYTHON\"\u001b[0m\u001b[1;33m]\u001b[0m\u001b[1;33m)\u001b[0m\u001b[1;33m\u001b[0m\u001b[1;33m\u001b[0m\u001b[0m\n\u001b[0m",
      "\u001b[1;31mKeyError\u001b[0m: 'PYTHON'"
     ]
    }
   ],
   "source": [
    "print(cloud.tags[\"PYTHON\"])"
   ]
  },
  {
   "source": [
    "To fix the problem we need to keep the dict attribute from the outside.\n",
    "\n",
    "To make the attribute private, we prefix it with two underscores, as shown below. In order to be able to refactor the code, library `rope` needs to be installed."
   ],
   "cell_type": "markdown",
   "metadata": {}
  },
  {
   "cell_type": "code",
   "execution_count": 8,
   "metadata": {},
   "outputs": [],
   "source": [
    "class TagCloud:\n",
    "    def __init__(self):\n",
    "        self.__tags = {}\n",
    "\n",
    "    def add(self, tag):\n",
    "        self.__tags[tag.lower()] = self.__tags.get(tag.lower(), 0) + 1\n",
    "\n",
    "    def __getitem__(self, tag):\n",
    "        return self.__tags.get(tag.lower(), 0)\n",
    "\n",
    "    def __setitem__(self, tag, count):\n",
    "        self.__tags[tag.lower()] = count\n",
    "\n",
    "    def __len__(self):\n",
    "        return len(self.__tags)\n",
    "\n",
    "    # We call the iter function and specify what we want to iterate over\n",
    "    def __iter__(self):\n",
    "        return iter(self.__tags)"
   ]
  },
  {
   "cell_type": "code",
   "execution_count": 9,
   "metadata": {},
   "outputs": [],
   "source": [
    "cloud = TagCloud()\n",
    "cloud.add(\"python\")\n",
    "cloud.add(\"python\")\n",
    "cloud.add(\"Python\")"
   ]
  },
  {
   "source": [
    "If we now use the `.` operator on the object cloud, we see that neither `tags` nor `__tags` are available. If we still run it, the program crushes with an `AttributeError`."
   ],
   "cell_type": "markdown",
   "metadata": {}
  },
  {
   "cell_type": "code",
   "execution_count": 10,
   "metadata": {},
   "outputs": [
    {
     "output_type": "error",
     "ename": "AttributeError",
     "evalue": "'TagCloud' object has no attribute '__tags'",
     "traceback": [
      "\u001b[1;31m---------------------------------------------------------------------------\u001b[0m",
      "\u001b[1;31mAttributeError\u001b[0m                            Traceback (most recent call last)",
      "\u001b[1;32m<ipython-input-10-43e4935a7f47>\u001b[0m in \u001b[0;36m<module>\u001b[1;34m\u001b[0m\n\u001b[1;32m----> 1\u001b[1;33m \u001b[0mprint\u001b[0m\u001b[1;33m(\u001b[0m\u001b[0mcloud\u001b[0m\u001b[1;33m.\u001b[0m\u001b[0m__tags\u001b[0m\u001b[1;33m)\u001b[0m\u001b[1;33m\u001b[0m\u001b[1;33m\u001b[0m\u001b[0m\n\u001b[0m",
      "\u001b[1;31mAttributeError\u001b[0m: 'TagCloud' object has no attribute '__tags'"
     ]
    }
   ],
   "source": [
    "print(cloud.__tags)"
   ]
  },
  {
   "source": [
    "This does not mean that the attribute will not be accesible (python does not have a concept of private members like Java or C#). It just notifies the consumer of our class that he/she should not use it.\n",
    "\n",
    "If you still need to access it, you can do it via the `__dict__` property of the class. This is a dictionary that holds all the attributes of this class."
   ],
   "cell_type": "markdown",
   "metadata": {}
  },
  {
   "cell_type": "code",
   "execution_count": 11,
   "metadata": {},
   "outputs": [
    {
     "output_type": "stream",
     "name": "stdout",
     "text": [
      "{'_TagCloud__tags': {'python': 3}}\n"
     ]
    }
   ],
   "source": [
    "print(cloud.__dict__)"
   ]
  },
  {
   "source": [
    "In this class we have the attribute `_TagCloud__tags`"
   ],
   "cell_type": "markdown",
   "metadata": {}
  },
  {
   "cell_type": "code",
   "execution_count": 12,
   "metadata": {},
   "outputs": [
    {
     "output_type": "stream",
     "name": "stdout",
     "text": [
      "{'python': 3}\n"
     ]
    }
   ],
   "source": [
    "print(cloud._TagCloud__tags)"
   ]
  }
 ]
}