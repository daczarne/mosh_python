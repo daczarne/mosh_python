{
 "metadata": {
  "language_info": {
   "codemirror_mode": {
    "name": "ipython",
    "version": 3
   },
   "file_extension": ".py",
   "mimetype": "text/x-python",
   "name": "python",
   "nbconvert_exporter": "python",
   "pygments_lexer": "ipython3",
   "version": "3.8.3-final"
  },
  "orig_nbformat": 2,
  "kernelspec": {
   "name": "python3",
   "display_name": "Python 3"
  }
 },
 "nbformat": 4,
 "nbformat_minor": 2,
 "cells": [
  {
   "source": [
    "# The object class"
   ],
   "cell_type": "markdown",
   "metadata": {}
  },
  {
   "cell_type": "code",
   "execution_count": 1,
   "metadata": {},
   "outputs": [],
   "source": [
    "class Animal:\n",
    "    def __init__(self):\n",
    "        self.age = 1\n",
    "\n",
    "    def eat(self):\n",
    "        print(\"eat\")\n",
    "\n",
    "\n",
    "class Mammal(Animal):\n",
    "    def walk(self):\n",
    "        print(\"walk\")\n",
    "\n",
    "\n",
    "class Fish(Animal):\n",
    "    def swim(self):\n",
    "        print(\"swim\")"
   ]
  },
  {
   "source": [
    "We can use the `isinstance` function to check whether an object is an instance of a specific class. This characteristic is inherited from classes to their sub-classes."
   ],
   "cell_type": "markdown",
   "metadata": {}
  },
  {
   "cell_type": "code",
   "execution_count": 6,
   "metadata": {},
   "outputs": [
    {
     "output_type": "stream",
     "name": "stdout",
     "text": [
      "True\nTrue\n"
     ]
    }
   ],
   "source": [
    "m = Mammal()\n",
    "print(isinstance(m, Mammal))\n",
    "print(isinstance(m, Animal))"
   ]
  },
  {
   "source": [
    "One special case is the *object* class. Every class inherits from the *object* class, even if we did not make it explicit in the class definition."
   ],
   "cell_type": "markdown",
   "metadata": {}
  },
  {
   "cell_type": "code",
   "execution_count": 7,
   "metadata": {},
   "outputs": [
    {
     "output_type": "stream",
     "name": "stdout",
     "text": [
      "True\n"
     ]
    }
   ],
   "source": [
    "print(isinstance(m, object))"
   ]
  },
  {
   "source": [
    "If we want to create an empty object, we use the `object` function."
   ],
   "cell_type": "markdown",
   "metadata": {}
  },
  {
   "cell_type": "code",
   "execution_count": 9,
   "metadata": {},
   "outputs": [
    {
     "output_type": "stream",
     "name": "stdout",
     "text": [
      "<object object at 0x000001B0F229FAA0>\n"
     ]
    }
   ],
   "source": [
    "o = object()\n",
    "print(o)"
   ]
  },
  {
   "source": [
    "We can use the `.` operator to get a list of all available magic methods for every object in Python.\n",
    "\n",
    "<img src=\"the_object_class.png\">"
   ],
   "cell_type": "markdown",
   "metadata": {}
  },
  {
   "source": [],
   "cell_type": "markdown",
   "metadata": {}
  },
  {
   "source": [
    "We can use the `issubclass` function to check whether a class is a sub-class of another class."
   ],
   "cell_type": "markdown",
   "metadata": {}
  },
  {
   "cell_type": "code",
   "execution_count": 10,
   "metadata": {},
   "outputs": [
    {
     "output_type": "stream",
     "name": "stdout",
     "text": [
      "False\n"
     ]
    }
   ],
   "source": [
    "print(issubclass(Animal, Mammal))"
   ]
  },
  {
   "cell_type": "code",
   "execution_count": 11,
   "metadata": {},
   "outputs": [
    {
     "output_type": "stream",
     "name": "stdout",
     "text": [
      "True\n"
     ]
    }
   ],
   "source": [
    "print(issubclass(Mammal, Animal))"
   ]
  },
  {
   "cell_type": "code",
   "execution_count": 12,
   "metadata": {},
   "outputs": [
    {
     "output_type": "stream",
     "name": "stdout",
     "text": [
      "True\n"
     ]
    }
   ],
   "source": [
    "print(issubclass(Animal, object))"
   ]
  }
 ]
}