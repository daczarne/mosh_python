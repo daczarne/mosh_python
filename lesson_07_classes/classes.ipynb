{
 "metadata": {
  "language_info": {
   "codemirror_mode": {
    "name": "ipython",
    "version": 3
   },
   "file_extension": ".py",
   "mimetype": "text/x-python",
   "name": "python",
   "nbconvert_exporter": "python",
   "pygments_lexer": "ipython3",
   "version": "3.8.3-final"
  },
  "orig_nbformat": 2,
  "kernelspec": {
   "name": "python3",
   "display_name": "Python 3"
  }
 },
 "nbformat": 4,
 "nbformat_minor": 2,
 "cells": [
  {
   "source": [
    "# Definitions:\n",
    "class: blueprint for creating new object  \n",
    "object: an instance of a class"
   ],
   "cell_type": "markdown",
   "metadata": {}
  },
  {
   "source": [
    "objects have `methods` (functions) and `attributes` (variables that include data about that object)"
   ],
   "cell_type": "markdown",
   "metadata": {}
  },
  {
   "source": [
    "Every object in Python is created using a specific blueprint (a class) for that type of object (eg int, string, bool, etc)"
   ],
   "cell_type": "markdown",
   "metadata": {}
  },
  {
   "source": [
    "For example, we could have:\n",
    "- a the class \"Human\"  \n",
    "- the objects \"John\", \"Mary\", \"Jack\", etc  \n",
    "- the methods \"walk\", \"talk\", \"swim\", etc\n",
    "- the attributes \"eye_color\", \"heigth\", \"wegiht\", etc "
   ],
   "cell_type": "markdown",
   "metadata": {}
  },
  {
   "cell_type": "code",
   "execution_count": 1,
   "metadata": {},
   "outputs": [
    {
     "output_type": "stream",
     "name": "stdout",
     "text": [
      "<class 'int'>\n"
     ]
    }
   ],
   "source": [
    "x = 1\n",
    "print(type(x))"
   ]
  },
  {
   "source": [
    "The class of the object x is int"
   ],
   "cell_type": "markdown",
   "metadata": {}
  },
  {
   "source": [
    "# Creating classes in Python"
   ],
   "cell_type": "markdown",
   "metadata": {}
  },
  {
   "source": [
    "We'll create the \"point\" class."
   ],
   "cell_type": "markdown",
   "metadata": {}
  },
  {
   "source": [
    "We'll use the Pascal naming convention for class names. First letter of every word should be capital (also called Upper Camel). No underscores (_) are used."
   ],
   "cell_type": "markdown",
   "metadata": {}
  },
  {
   "source": [
    "We start with the `class` keyword.  \n",
    "Inside the `class` block we define functions using the `def` keyword.  \n",
    "All functions in our class should have at least one parameter. By convention we call this parameter `self`"
   ],
   "cell_type": "markdown",
   "metadata": {}
  },
  {
   "cell_type": "code",
   "execution_count": 2,
   "metadata": {},
   "outputs": [],
   "source": [
    "class Point:\n",
    "    def draw(self):\n",
    "        print(\"draw\")"
   ]
  },
  {
   "source": [
    "Now we can create an instance of class Point, by calling Point as a function. We can assign the object"
   ],
   "cell_type": "markdown",
   "metadata": {}
  },
  {
   "cell_type": "code",
   "execution_count": 3,
   "metadata": {},
   "outputs": [],
   "source": [
    "point = Point()"
   ]
  },
  {
   "cell_type": "code",
   "execution_count": 4,
   "metadata": {},
   "outputs": [
    {
     "output_type": "stream",
     "name": "stdout",
     "text": [
      "<class '__main__.Point'>\n"
     ]
    }
   ],
   "source": [
    "print(type(point))"
   ]
  },
  {
   "cell_type": "code",
   "execution_count": 5,
   "metadata": {},
   "outputs": [
    {
     "output_type": "execute_result",
     "data": {
      "text/plain": [
       "True"
      ]
     },
     "metadata": {},
     "execution_count": 5
    }
   ],
   "source": [
    "isinstance(point, Point)"
   ]
  },
  {
   "source": [
    "# Constructors"
   ],
   "cell_type": "markdown",
   "metadata": {}
  },
  {
   "source": [
    "We want to supply initial values for x and y coords for our point object. For example `point = Point(1, 2)`. To achieve this we need to define a constructor"
   ],
   "cell_type": "markdown",
   "metadata": {}
  },
  {
   "source": [
    "A constructor is a special method that is called when we create a new Point object"
   ],
   "cell_type": "markdown",
   "metadata": {}
  },
  {
   "source": [
    "Since a constructor is a method of our Point class, we need to define it in our definition of the Point class"
   ],
   "cell_type": "markdown",
   "metadata": {}
  },
  {
   "source": [
    "To define a constructor we use the `__init__` *magic method*. When we create a new point object the `__init__` method is called. We add the `self` parameter, as well as the `x` and `y` parameters."
   ],
   "cell_type": "markdown",
   "metadata": {}
  },
  {
   "source": [
    "`self` is a reference the current Point object. "
   ],
   "cell_type": "markdown",
   "metadata": {}
  },
  {
   "cell_type": "code",
   "execution_count": 6,
   "metadata": {},
   "outputs": [],
   "source": [
    "class Point:\n",
    "    def __init__(self, x, y):\n",
    "        self.x = x\n",
    "        self.y = y\n",
    "    \n",
    "    def draw(self):\n",
    "        print(f\"Point ({self.x}, {self.y})\")"
   ]
  },
  {
   "cell_type": "code",
   "execution_count": 7,
   "metadata": {},
   "outputs": [],
   "source": [
    "point = Point(1, 2)"
   ]
  },
  {
   "cell_type": "code",
   "execution_count": 8,
   "metadata": {},
   "outputs": [
    {
     "output_type": "stream",
     "name": "stdout",
     "text": [
      "1\n2\n"
     ]
    }
   ],
   "source": [
    "print(point.x)\n",
    "print(point.y)"
   ]
  },
  {
   "cell_type": "code",
   "execution_count": 9,
   "metadata": {},
   "outputs": [
    {
     "output_type": "stream",
     "name": "stdout",
     "text": [
      "Point (1, 2)\n"
     ]
    }
   ],
   "source": [
    "point.draw()"
   ]
  },
  {
   "source": [
    "# Class Vs Instance Attribures"
   ],
   "cell_type": "markdown",
   "metadata": {}
  },
  {
   "source": [
    "We can define attributes after creating a Point object, because objects in Python are dynamic."
   ],
   "cell_type": "markdown",
   "metadata": {}
  },
  {
   "cell_type": "code",
   "execution_count": 13,
   "metadata": {},
   "outputs": [
    {
     "output_type": "stream",
     "name": "stdout",
     "text": [
      "10\n"
     ]
    }
   ],
   "source": [
    "point.z = 10\n",
    "print(point.z)"
   ]
  },
  {
   "source": [
    "`x`, `y` and `z` are instance attributes. This means every point object can have different attributes."
   ],
   "cell_type": "markdown",
   "metadata": {}
  },
  {
   "cell_type": "code",
   "execution_count": 14,
   "metadata": {},
   "outputs": [
    {
     "output_type": "stream",
     "name": "stdout",
     "text": [
      "Point (3, 4)\n"
     ]
    }
   ],
   "source": [
    "another = Point(3, 4)\n",
    "another.draw()"
   ]
  },
  {
   "source": [
    "We can also define class attributes. These need to be defined at the class level (when defining the class), and they will be shared by all instances of that class."
   ],
   "cell_type": "markdown",
   "metadata": {}
  },
  {
   "cell_type": "code",
   "execution_count": 15,
   "metadata": {},
   "outputs": [],
   "source": [
    "class Point:\n",
    "    default_color = \"red\"\n",
    "\n",
    "    def __init__(self, x, y):\n",
    "        self.x = x\n",
    "        self.y = y\n",
    "    \n",
    "    def draw(self):\n",
    "        print(f\"Point ({self.x}, {self.y})\")"
   ]
  },
  {
   "cell_type": "code",
   "execution_count": 19,
   "metadata": {},
   "outputs": [],
   "source": [
    "point = Point(1, 2)\n",
    "another = Point(3, 4)"
   ]
  },
  {
   "source": [
    "We can use *object reference* to access the class attributes "
   ],
   "cell_type": "markdown",
   "metadata": {}
  },
  {
   "cell_type": "code",
   "execution_count": 24,
   "metadata": {},
   "outputs": [
    {
     "output_type": "stream",
     "name": "stdout",
     "text": [
      "red\nred\n"
     ]
    }
   ],
   "source": [
    "print(point.default_color)\n",
    "print(another.default_color)"
   ]
  },
  {
   "source": [
    "Or we can access them via *class reference*"
   ],
   "cell_type": "markdown",
   "metadata": {}
  },
  {
   "cell_type": "code",
   "execution_count": 26,
   "metadata": {},
   "outputs": [
    {
     "output_type": "stream",
     "name": "stdout",
     "text": [
      "red\n"
     ]
    }
   ],
   "source": [
    "print(Point.default_color)"
   ]
  },
  {
   "source": [
    "Since class attributes are shared though all instances, any changes in the attribute will be inherited by all instances of that class "
   ],
   "cell_type": "markdown",
   "metadata": {}
  },
  {
   "cell_type": "code",
   "execution_count": 27,
   "metadata": {},
   "outputs": [],
   "source": [
    "Point.default_color = \"yellow\""
   ]
  },
  {
   "cell_type": "code",
   "execution_count": 29,
   "metadata": {},
   "outputs": [
    {
     "output_type": "stream",
     "name": "stdout",
     "text": [
      "yellow\nyellow\n"
     ]
    }
   ],
   "source": [
    "print(point.default_color)\n",
    "print(another.default_color)"
   ]
  },
  {
   "source": [
    "# Class Vs Instance Methods"
   ],
   "cell_type": "markdown",
   "metadata": {}
  }
 ]
}