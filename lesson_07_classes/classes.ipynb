{
 "metadata": {
  "language_info": {
   "codemirror_mode": {
    "name": "ipython",
    "version": 3
   },
   "file_extension": ".py",
   "mimetype": "text/x-python",
   "name": "python",
   "nbconvert_exporter": "python",
   "pygments_lexer": "ipython3",
   "version": "3.8.3-final"
  },
  "orig_nbformat": 2,
  "kernelspec": {
   "name": "python3",
   "display_name": "Python 3"
  }
 },
 "nbformat": 4,
 "nbformat_minor": 2,
 "cells": [
  {
   "source": [
    "# Definitions:\n",
    "class: blueprint for creating new object  \n",
    "object: an instance of a class"
   ],
   "cell_type": "markdown",
   "metadata": {}
  },
  {
   "source": [
    "objects have `methods` (functions) and `attributes` (variables that include data about that object)"
   ],
   "cell_type": "markdown",
   "metadata": {}
  },
  {
   "source": [
    "Every object in Python is created using a specific blueprint (a class) for that type of object (eg int, string, bool, etc)"
   ],
   "cell_type": "markdown",
   "metadata": {}
  },
  {
   "source": [
    "For example, we could have:\n",
    "- a the class \"Human\"  \n",
    "- the objects \"John\", \"Mary\", \"Jack\", etc  \n",
    "- the methods \"walk\", \"talk\", \"swim\", etc\n",
    "- the attributes \"eye_color\", \"heigth\", \"wegiht\", etc "
   ],
   "cell_type": "markdown",
   "metadata": {}
  },
  {
   "cell_type": "code",
   "execution_count": 1,
   "metadata": {},
   "outputs": [
    {
     "output_type": "stream",
     "name": "stdout",
     "text": [
      "<class 'int'>\n"
     ]
    }
   ],
   "source": [
    "x = 1\n",
    "print(type(x))"
   ]
  },
  {
   "source": [
    "The class of the object x is int"
   ],
   "cell_type": "markdown",
   "metadata": {}
  },
  {
   "source": [
    "# Creating classes in Python"
   ],
   "cell_type": "markdown",
   "metadata": {}
  },
  {
   "source": [
    "We'll create the \"point\" class."
   ],
   "cell_type": "markdown",
   "metadata": {}
  },
  {
   "source": [
    "We'll use the Pascal naming convention for class names. First letter of every word should be capital (also called Upper Camel). No underscores (_) are used."
   ],
   "cell_type": "markdown",
   "metadata": {}
  },
  {
   "source": [
    "We start with the `class` keyword.  \n",
    "Inside the `class` block we define functions using the `def` keyword.  \n",
    "All functions in our class should have at least one parameter. By convention we call this parameter `self`"
   ],
   "cell_type": "markdown",
   "metadata": {}
  },
  {
   "cell_type": "code",
   "execution_count": 2,
   "metadata": {},
   "outputs": [],
   "source": [
    "class Point:\n",
    "    def draw(self):\n",
    "        print(\"draw\")"
   ]
  },
  {
   "source": [
    "Now we can create an instance of class Point, by calling Point as a function. We can assign the object"
   ],
   "cell_type": "markdown",
   "metadata": {}
  },
  {
   "cell_type": "code",
   "execution_count": 3,
   "metadata": {},
   "outputs": [],
   "source": [
    "point = Point()"
   ]
  },
  {
   "cell_type": "code",
   "execution_count": 4,
   "metadata": {},
   "outputs": [
    {
     "output_type": "stream",
     "name": "stdout",
     "text": [
      "<class '__main__.Point'>\n"
     ]
    }
   ],
   "source": [
    "print(type(point))"
   ]
  },
  {
   "cell_type": "code",
   "execution_count": 5,
   "metadata": {},
   "outputs": [
    {
     "output_type": "execute_result",
     "data": {
      "text/plain": [
       "True"
      ]
     },
     "metadata": {},
     "execution_count": 5
    }
   ],
   "source": [
    "isinstance(point, Point)"
   ]
  },
  {
   "source": [
    "# Constructors"
   ],
   "cell_type": "markdown",
   "metadata": {}
  },
  {
   "source": [
    "We want to supply initial values for x and y coords for our point object. For example `point = Point(1, 2)`. To achieve this we need to define a constructor"
   ],
   "cell_type": "markdown",
   "metadata": {}
  },
  {
   "source": [
    "A constructor is a special method that is called when we create a new Point object"
   ],
   "cell_type": "markdown",
   "metadata": {}
  },
  {
   "source": [
    "Since a constructor is a method of our Point class, we need to define it in our definition of the Point class"
   ],
   "cell_type": "markdown",
   "metadata": {}
  },
  {
   "source": [
    "To define a constructor we use the `__init__` *magic method*. When we create a new point object the `__init__` method is called. We add the `self` parameter, as well as the `x` and `y` parameters."
   ],
   "cell_type": "markdown",
   "metadata": {}
  },
  {
   "source": [
    "`self` is a reference the current Point object. "
   ],
   "cell_type": "markdown",
   "metadata": {}
  },
  {
   "cell_type": "code",
   "execution_count": 6,
   "metadata": {},
   "outputs": [],
   "source": [
    "class Point:\n",
    "    def __init__(self, x, y):\n",
    "        self.x = x\n",
    "        self.y = y\n",
    "    \n",
    "    def draw(self):\n",
    "        print(f\"Point ({self.x}, {self.y})\")"
   ]
  },
  {
   "cell_type": "code",
   "execution_count": 7,
   "metadata": {},
   "outputs": [],
   "source": [
    "point = Point(1, 2)"
   ]
  },
  {
   "cell_type": "code",
   "execution_count": 8,
   "metadata": {},
   "outputs": [
    {
     "output_type": "stream",
     "name": "stdout",
     "text": [
      "1\n2\n"
     ]
    }
   ],
   "source": [
    "print(point.x)\n",
    "print(point.y)"
   ]
  },
  {
   "cell_type": "code",
   "execution_count": 9,
   "metadata": {},
   "outputs": [
    {
     "output_type": "stream",
     "name": "stdout",
     "text": [
      "Point (1, 2)\n"
     ]
    }
   ],
   "source": [
    "point.draw()"
   ]
  },
  {
   "source": [
    "# Class Vs Instance Attribures"
   ],
   "cell_type": "markdown",
   "metadata": {}
  },
  {
   "source": [
    "We can define attributes after creating a Point object, because objects in Python are dynamic."
   ],
   "cell_type": "markdown",
   "metadata": {}
  },
  {
   "cell_type": "code",
   "execution_count": 13,
   "metadata": {},
   "outputs": [
    {
     "output_type": "stream",
     "name": "stdout",
     "text": [
      "10\n"
     ]
    }
   ],
   "source": [
    "point.z = 10\n",
    "print(point.z)"
   ]
  },
  {
   "source": [
    "`x`, `y` and `z` are instance attributes. This means every point object can have different attributes."
   ],
   "cell_type": "markdown",
   "metadata": {}
  },
  {
   "cell_type": "code",
   "execution_count": 14,
   "metadata": {},
   "outputs": [
    {
     "output_type": "stream",
     "name": "stdout",
     "text": [
      "Point (3, 4)\n"
     ]
    }
   ],
   "source": [
    "another = Point(3, 4)\n",
    "another.draw()"
   ]
  },
  {
   "source": [
    "We can also define class attributes. These need to be defined at the class level (when defining the class), and they will be shared by all instances of that class."
   ],
   "cell_type": "markdown",
   "metadata": {}
  },
  {
   "cell_type": "code",
   "execution_count": 15,
   "metadata": {},
   "outputs": [],
   "source": [
    "class Point:\n",
    "    default_color = \"red\"\n",
    "\n",
    "    def __init__(self, x, y):\n",
    "        self.x = x\n",
    "        self.y = y\n",
    "    \n",
    "    def draw(self):\n",
    "        print(f\"Point ({self.x}, {self.y})\")"
   ]
  },
  {
   "cell_type": "code",
   "execution_count": 19,
   "metadata": {},
   "outputs": [],
   "source": [
    "point = Point(1, 2)\n",
    "another = Point(3, 4)"
   ]
  },
  {
   "source": [
    "We can use *object reference* to access the class attributes "
   ],
   "cell_type": "markdown",
   "metadata": {}
  },
  {
   "cell_type": "code",
   "execution_count": 24,
   "metadata": {},
   "outputs": [
    {
     "output_type": "stream",
     "name": "stdout",
     "text": [
      "red\nred\n"
     ]
    }
   ],
   "source": [
    "print(point.default_color)\n",
    "print(another.default_color)"
   ]
  },
  {
   "source": [
    "Or we can access them via *class reference*"
   ],
   "cell_type": "markdown",
   "metadata": {}
  },
  {
   "cell_type": "code",
   "execution_count": 26,
   "metadata": {},
   "outputs": [
    {
     "output_type": "stream",
     "name": "stdout",
     "text": [
      "red\n"
     ]
    }
   ],
   "source": [
    "print(Point.default_color)"
   ]
  },
  {
   "source": [
    "Since class attributes are shared though all instances, any changes in the attribute will be inherited by all instances of that class "
   ],
   "cell_type": "markdown",
   "metadata": {}
  },
  {
   "cell_type": "code",
   "execution_count": 27,
   "metadata": {},
   "outputs": [],
   "source": [
    "Point.default_color = \"yellow\""
   ]
  },
  {
   "cell_type": "code",
   "execution_count": 29,
   "metadata": {},
   "outputs": [
    {
     "output_type": "stream",
     "name": "stdout",
     "text": [
      "yellow\nyellow\n"
     ]
    }
   ],
   "source": [
    "print(point.default_color)\n",
    "print(another.default_color)"
   ]
  },
  {
   "source": [
    "# Class Vs Instance Methods"
   ],
   "cell_type": "markdown",
   "metadata": {}
  },
  {
   "source": [
    "Same as with attributes, we also have class and instance methods. This comes handy when defining *factory* methods. These are methods that generate pre defined instaces of a class.\n",
    "\n",
    "In order to tell Python that a method is a class method, we use the decorator `@classmethod` before defining it. By convention, the first argument of class methods is `cls`."
   ],
   "cell_type": "markdown",
   "metadata": {}
  },
  {
   "source": [
    "For example, let's create a method called `zero` that when called, will create an object of the Point class with x and y values set to zero."
   ],
   "cell_type": "markdown",
   "metadata": {}
  },
  {
   "cell_type": "code",
   "execution_count": 47,
   "metadata": {},
   "outputs": [],
   "source": [
    "class Point:\n",
    "    def __init__(self, x, y):\n",
    "        self.x = x\n",
    "        self.y = y\n",
    "    \n",
    "    @classmethod\n",
    "    def zero(cls):\n",
    "        return cls(0, 0)\n",
    "\n",
    "    def draw(self):\n",
    "        print(f\"Point ({self.x}, {self.y})\")"
   ]
  },
  {
   "cell_type": "code",
   "execution_count": 48,
   "metadata": {},
   "outputs": [],
   "source": [
    "point = Point.zero()"
   ]
  },
  {
   "cell_type": "code",
   "execution_count": 49,
   "metadata": {},
   "outputs": [
    {
     "output_type": "stream",
     "name": "stdout",
     "text": [
      "Point (0, 0)\n"
     ]
    }
   ],
   "source": [
    "point.draw()"
   ]
  },
  {
   "source": [
    "# Magic methods"
   ],
   "cell_type": "markdown",
   "metadata": {}
  },
  {
   "source": [
    "Magic methods are the methods that start and finish with two underscores. They are called automatically by Python interpreter when a new instance of a class is created. Magic methods can be found at https://rszalski.github.io/magicmethods/\n"
   ],
   "cell_type": "markdown",
   "metadata": {}
  },
  {
   "source": [
    "For example, the `__str__` magic method is used to convert an object to a string."
   ],
   "cell_type": "markdown",
   "metadata": {}
  },
  {
   "cell_type": "code",
   "execution_count": 51,
   "metadata": {},
   "outputs": [],
   "source": [
    "class Point:\n",
    "    def __init__(self, x, y):\n",
    "        self.x = x\n",
    "        self.y = y\n",
    "    \n",
    "    def __str__(self):\n",
    "        return f\"({self.x}, {self.y})\"\n",
    "\n",
    "    def draw(self):\n",
    "        print(f\"Point ({self.x}, {self.y})\")"
   ]
  },
  {
   "cell_type": "code",
   "execution_count": 53,
   "metadata": {},
   "outputs": [
    {
     "output_type": "stream",
     "name": "stdout",
     "text": [
      "(1, 2)\n(1, 2)\n"
     ]
    }
   ],
   "source": [
    "point = Point(1, 2)\n",
    "print(point)\n",
    "print(str(point))"
   ]
  },
  {
   "source": [
    "# Comparing Objects"
   ],
   "cell_type": "markdown",
   "metadata": {}
  },
  {
   "source": [
    "Suppose we have two objects of the following class and we want to compare them"
   ],
   "cell_type": "markdown",
   "metadata": {}
  },
  {
   "cell_type": "code",
   "execution_count": 1,
   "metadata": {},
   "outputs": [],
   "source": [
    "class Point:\n",
    "    def __init__(self, x, y):\n",
    "        self.x = x\n",
    "        self.y = y\n",
    "\n",
    "    def draw(self):\n",
    "        print(f\"Point ({self.x}, {self.y})\")"
   ]
  },
  {
   "cell_type": "code",
   "execution_count": 2,
   "metadata": {},
   "outputs": [],
   "source": [
    "point1 = Point(1, 2)\n",
    "point2 = Point(1, 2)\n",
    "print(point1 == point2)"
   ]
  },
  {
   "source": [
    "The reason why Python interpreter is saying that they are not equal is because it is comparing the addresses in memory. In order for the objects to be compared based on their content, we need to include the `__eq__` magic class on our Point object"
   ],
   "cell_type": "markdown",
   "metadata": {}
  },
  {
   "cell_type": "code",
   "execution_count": 5,
   "metadata": {},
   "outputs": [],
   "source": [
    "class Point:\n",
    "    def __init__(self, x, y):\n",
    "        self.x = x\n",
    "        self.y = y\n",
    "\n",
    "    def __eq__(self, other):\n",
    "        return self.x == other.x and self.y == other.y\n",
    "        \n",
    "    def draw(self):\n",
    "        print(f\"Point ({self.x}, {self.y})\")"
   ]
  },
  {
   "cell_type": "code",
   "execution_count": 6,
   "metadata": {},
   "outputs": [
    {
     "output_type": "stream",
     "name": "stdout",
     "text": [
      "True\n"
     ]
    }
   ],
   "source": [
    "point1 = Point(1, 2)\n",
    "point2 = Point(1, 2)\n",
    "print(point1 == point2)"
   ]
  },
  {
   "source": [
    "What if we want to compare whether point1 is greater than point2? In this case we'll get a `TypeError` since the greater than operation is not defined for the class Point. \n",
    "\n",
    "To add it we need to define the `__gt__` magic method."
   ],
   "cell_type": "markdown",
   "metadata": {}
  },
  {
   "cell_type": "code",
   "execution_count": 7,
   "metadata": {},
   "outputs": [],
   "source": [
    "class Point:\n",
    "    def __init__(self, x, y):\n",
    "        self.x = x\n",
    "        self.y = y\n",
    "\n",
    "    def __eq__(self, other):\n",
    "        return self.x == other.x and self.y == other.y\n",
    "\n",
    "    def __gt__(self, other):\n",
    "        return self.x > other.x and self.y > other.y\n",
    "        \n",
    "    def draw(self):\n",
    "        print(f\"Point ({self.x}, {self.y})\")"
   ]
  },
  {
   "cell_type": "code",
   "execution_count": 8,
   "metadata": {},
   "outputs": [
    {
     "output_type": "stream",
     "name": "stdout",
     "text": [
      "True\n"
     ]
    }
   ],
   "source": [
    "point1 = Point(10, 20)\n",
    "point2 = Point(1, 2)\n",
    "print(point1 > point2)"
   ]
  },
  {
   "source": [
    "What about the less than operation?"
   ],
   "cell_type": "markdown",
   "metadata": {}
  },
  {
   "cell_type": "code",
   "execution_count": 9,
   "metadata": {},
   "outputs": [
    {
     "output_type": "stream",
     "name": "stdout",
     "text": [
      "False\n"
     ]
    }
   ],
   "source": [
    "print(point1 < point2)"
   ]
  },
  {
   "source": [
    "We do not need to define both the `__gt__` and `__lt__` magic classes. Once one is present in our class definition, the other one will work as well."
   ],
   "cell_type": "markdown",
   "metadata": {}
  },
  {
   "source": [
    "# Arithmetic Operations"
   ],
   "cell_type": "markdown",
   "metadata": {}
  },
  {
   "source": [
    "We also have magic methods for arithmetic operations like `__add__` (for addition), `__sub__` (for substraction), `__mul__` (for multiplication), etc. "
   ],
   "cell_type": "markdown",
   "metadata": {}
  },
  {
   "cell_type": "code",
   "execution_count": 10,
   "metadata": {},
   "outputs": [],
   "source": [
    "class Point:\n",
    "    def __init__(self, x, y):\n",
    "        self.x = x\n",
    "        self.y = y\n",
    "\n",
    "    def __eq__(self, other):\n",
    "        return self.x == other.x and self.y == other.y\n",
    "\n",
    "    def __gt__(self, other):\n",
    "        return self.x > other.x and self.y > other.y\n",
    "    \n",
    "    def __add__(self, other):\n",
    "        return Point(self.x + other.x, self.y + other.y)\n",
    "        \n",
    "    def draw(self):\n",
    "        print(f\"Point ({self.x}, {self.y})\")"
   ]
  },
  {
   "cell_type": "code",
   "execution_count": 11,
   "metadata": {},
   "outputs": [
    {
     "output_type": "stream",
     "name": "stdout",
     "text": [
      "<__main__.Point object at 0x000001AB874A26A0>\n"
     ]
    }
   ],
   "source": [
    "point1 = Point(1, 2)\n",
    "point2 = Point(3, 4)\n",
    "print(point1 + point2)"
   ]
  },
  {
   "source": [
    "Python interpreter can't print the result because the `__str__` method was removed from the class definition. We could instead assign the result of `point1 + point2` to an object, and then print that object."
   ],
   "cell_type": "markdown",
   "metadata": {}
  },
  {
   "cell_type": "code",
   "execution_count": 14,
   "metadata": {},
   "outputs": [
    {
     "output_type": "stream",
     "name": "stdout",
     "text": [
      "(4, 6)\n"
     ]
    }
   ],
   "source": [
    "combine = point1 + point2\n",
    "print(combine)"
   ]
  },
  {
   "source": [
    "Or, we could re add the `__str__` magic method to the `Point` class"
   ],
   "cell_type": "markdown",
   "metadata": {}
  },
  {
   "cell_type": "code",
   "execution_count": 12,
   "metadata": {},
   "outputs": [],
   "source": [
    "class Point:\n",
    "    def __init__(self, x, y):\n",
    "        self.x = x\n",
    "        self.y = y\n",
    "\n",
    "    def __eq__(self, other):\n",
    "        return self.x == other.x and self.y == other.y\n",
    "\n",
    "    def __gt__(self, other):\n",
    "        return self.x > other.x and self.y > other.y\n",
    "    \n",
    "    def __add__(self, other):\n",
    "        return Point(self.x + other.x, self.y + other.y)\n",
    "    \n",
    "    def __str__(self):\n",
    "        return f\"({self.x}, {self.y})\"\n",
    "\n",
    "    def draw(self):\n",
    "        print(f\"Point ({self.x}, {self.y})\")"
   ]
  },
  {
   "cell_type": "code",
   "execution_count": 13,
   "metadata": {},
   "outputs": [
    {
     "output_type": "stream",
     "name": "stdout",
     "text": [
      "(4, 6)\n"
     ]
    }
   ],
   "source": [
    "point1 = Point(1, 2)\n",
    "point2 = Point(3, 4)\n",
    "print(point1 + point2)"
   ]
  },
  {
   "source": [
    "# Making Custom Containers"
   ],
   "cell_type": "markdown",
   "metadata": {}
  },
  {
   "source": [
    "Lists, sets, dictionaries are data types or container types. Let's create a new one. We'll call it `TagCloud` to keep track of the various tags on a blog."
   ],
   "cell_type": "markdown",
   "metadata": {}
  },
  {
   "cell_type": "code",
   "execution_count": 17,
   "metadata": {},
   "outputs": [],
   "source": [
    "class TagCloud:\n",
    "    # We init the instance as an empty dictionary\n",
    "    def __init__(self):\n",
    "        self.tags = {}\n",
    "\n",
    "    # Method for adding tags\n",
    "    # If the tag already exists in the instance, we'll increment it by one\n",
    "    # If the tag does not exist in the instance, we'll initialize it at 1\n",
    "    def add(self, tag):\n",
    "        self.tags[tag] = self.tags.get(tag, 0) + 1"
   ]
  },
  {
   "source": [
    "As an example, let's create an instance of the TagCloud class and add \"python\" three times"
   ],
   "cell_type": "markdown",
   "metadata": {}
  },
  {
   "cell_type": "code",
   "execution_count": 20,
   "metadata": {},
   "outputs": [
    {
     "output_type": "stream",
     "name": "stdout",
     "text": [
      "{'python': 3}\n"
     ]
    }
   ],
   "source": [
    "cloud = TagCloud()\n",
    "cloud.add(\"python\")\n",
    "cloud.add(\"python\")\n",
    "cloud.add(\"python\")\n",
    "print(cloud.tags)"
   ]
  },
  {
   "source": [
    "We get a dictionary where the tag \"python\" has a value of 3."
   ],
   "cell_type": "markdown",
   "metadata": {}
  },
  {
   "source": [
    "One problem with normal dicts is that it is case sensitive. So \"Python\" and \"python\" will be counted differently."
   ],
   "cell_type": "markdown",
   "metadata": {}
  },
  {
   "cell_type": "code",
   "execution_count": 21,
   "metadata": {},
   "outputs": [
    {
     "output_type": "stream",
     "name": "stdout",
     "text": [
      "{'Python': 1, 'python': 2}\n"
     ]
    }
   ],
   "source": [
    "cloud = TagCloud()\n",
    "cloud.add(\"Python\")\n",
    "cloud.add(\"python\")\n",
    "cloud.add(\"python\")\n",
    "print(cloud.tags)"
   ]
  },
  {
   "source": [
    "We can change this by using the `lower` method in our class definition, both when setting it as when reading it."
   ],
   "cell_type": "markdown",
   "metadata": {}
  },
  {
   "cell_type": "code",
   "execution_count": 22,
   "metadata": {},
   "outputs": [],
   "source": [
    "class TagCloud:\n",
    "    def __init__(self):\n",
    "        self.tags = {}\n",
    "\n",
    "    def add(self, tag):\n",
    "        self.tags[tag.lower()] = self.tags.get(tag.lower(), 0) + 1"
   ]
  },
  {
   "cell_type": "code",
   "execution_count": 23,
   "metadata": {},
   "outputs": [
    {
     "output_type": "stream",
     "name": "stdout",
     "text": [
      "{'python': 3}\n"
     ]
    }
   ],
   "source": [
    "cloud = TagCloud()\n",
    "cloud.add(\"Python\")\n",
    "cloud.add(\"python\")\n",
    "cloud.add(\"python\")\n",
    "print(cloud.tags)"
   ]
  },
  {
   "source": [
    "Next we'll implement the `__getitem__` magic method so that we can use it to get the count of a tag by using []"
   ],
   "cell_type": "markdown",
   "metadata": {}
  },
  {
   "cell_type": "code",
   "execution_count": 28,
   "metadata": {},
   "outputs": [],
   "source": [
    "class TagCloud:\n",
    "    def __init__(self):\n",
    "        self.tags = {}\n",
    "\n",
    "    def add(self, tag):\n",
    "        self.tags[tag.lower()] = self.tags.get(tag.lower(), 0) + 1\n",
    "\n",
    "    # The argument \"tag\" is the key that we want to get\n",
    "    # We add the default value of zero to the get method. This way if the tag is not found, we'll get a 0\n",
    "    def __getitem__(self, tag):\n",
    "        return self.tags.get(tag.lower(), 0)\n",
    "\n",
    "\n",
    "cloud = TagCloud()\n",
    "cloud.add(\"Python\")\n",
    "cloud.add(\"python\")\n",
    "cloud.add(\"python\")"
   ]
  },
  {
   "cell_type": "code",
   "execution_count": 30,
   "metadata": {},
   "outputs": [
    {
     "output_type": "execute_result",
     "data": {
      "text/plain": [
       "3"
      ]
     },
     "metadata": {},
     "execution_count": 30
    }
   ],
   "source": [
    "cloud[\"Python\"]"
   ]
  },
  {
   "source": [
    "If we also want to be able to set the value of a tag, we need to implement the `__setitem__` magic method."
   ],
   "cell_type": "markdown",
   "metadata": {}
  },
  {
   "cell_type": "code",
   "execution_count": 36,
   "metadata": {},
   "outputs": [],
   "source": [
    "class TagCloud:\n",
    "    def __init__(self):\n",
    "        self.tags = {}\n",
    "\n",
    "    def add(self, tag):\n",
    "        self.tags[tag.lower()] = self.tags.get(tag.lower(), 0) + 1\n",
    "\n",
    "    def __getitem__(self, tag):\n",
    "        return self.tags.get(tag.lower(), 0)\n",
    "\n",
    "    # the \"count\" argument is the value that will be assigned to the \"tag\" key\n",
    "    def __setitem__(self, tag, count):\n",
    "        self.tags[tag.lower()] = count"
   ]
  },
  {
   "source": [
    "Now we can set the value of a key."
   ],
   "cell_type": "markdown",
   "metadata": {}
  },
  {
   "cell_type": "code",
   "execution_count": 46,
   "metadata": {},
   "outputs": [
    {
     "output_type": "execute_result",
     "data": {
      "text/plain": [
       "10"
      ]
     },
     "metadata": {},
     "execution_count": 46
    }
   ],
   "source": [
    "cloud = TagCloud()\n",
    "cloud[\"Python\"] = 10\n",
    "cloud[\"python\"]"
   ]
  },
  {
   "source": [
    " In order to be able to get the number of items in out TagCloud class, we need to implement the `__len__` magic method."
   ],
   "cell_type": "markdown",
   "metadata": {}
  },
  {
   "cell_type": "code",
   "execution_count": null,
   "metadata": {},
   "outputs": [],
   "source": [
    "class TagCloud:\n",
    "    def __init__(self):\n",
    "        self.tags = {}\n",
    "\n",
    "    def add(self, tag):\n",
    "        self.tags[tag.lower()] = self.tags.get(tag.lower(), 0) + 1\n",
    "\n",
    "    def __getitem__(self, tag):\n",
    "        return self.tags.get(tag.lower(), 0)\n",
    "\n",
    "    def __setitem__(self, tag, count):\n",
    "        self.tags[tag.lower()] = count\n",
    "\n",
    "    def __len__(self):\n",
    "        return len(self.tags)"
   ]
  },
  {
   "cell_type": "code",
   "execution_count": 52,
   "metadata": {},
   "outputs": [
    {
     "output_type": "execute_result",
     "data": {
      "text/plain": [
       "4"
      ]
     },
     "metadata": {},
     "execution_count": 52
    }
   ],
   "source": [
    "cloud = TagCloud()\n",
    "cloud[\"python\"] = 10\n",
    "cloud[\"r\"] = 20\n",
    "cloud[\"javascript\"] = 30\n",
    "cloud[\"cpp\"] = 5\n",
    "len(cloud.tags)"
   ]
  },
  {
   "source": [
    "Lastly, in order to make our class iterable, we need to define the `__iter__` magic method. To do this we use the `iter()` function to get an iterator object. An iterator object is an object that *walks* a container, and gets one item at a time."
   ],
   "cell_type": "markdown",
   "metadata": {}
  },
  {
   "cell_type": "code",
   "execution_count": null,
   "metadata": {},
   "outputs": [],
   "source": [
    "class TagCloud:\n",
    "    def __init__(self):\n",
    "        self.tags = {}\n",
    "\n",
    "    def add(self, tag):\n",
    "        self.tags[tag.lower()] = self.tags.get(tag.lower(), 0) + 1\n",
    "\n",
    "    def __getitem__(self, tag):\n",
    "        return self.tags.get(tag.lower(), 0)\n",
    "\n",
    "    def __setitem__(self, tag, count):\n",
    "        self.tags[tag.lower()] = count\n",
    "\n",
    "    def __len__(self):\n",
    "        return len(self.tags)\n",
    "\n",
    "    # We call the iter function and specify what we want to iterate over\n",
    "    def __iter__(self):\n",
    "        return iter(self.tags)\n"
   ]
  },
  {
   "cell_type": "code",
   "execution_count": 54,
   "metadata": {},
   "outputs": [
    {
     "output_type": "stream",
     "name": "stdout",
     "text": [
      "<__main__.TagCloud object at 0x000001AB86EA7DF0>\n"
     ]
    },
    {
     "output_type": "execute_result",
     "data": {
      "text/plain": [
       "{'python': 10, 'r': 20, 'javascript': 30, 'cpp': 5}"
      ]
     },
     "metadata": {},
     "execution_count": 54
    }
   ],
   "source": [
    "cloud.tags"
   ]
  },
  {
   "cell_type": "code",
   "execution_count": 67,
   "metadata": {},
   "outputs": [
    {
     "output_type": "stream",
     "name": "stdout",
     "text": [
      "10\n20\n30\n5\n"
     ]
    }
   ],
   "source": [
    "for item in cloud.tags:\n",
    "    print(cloud.tags[item])"
   ]
  },
  {
   "source": [
    "# Private Members"
   ],
   "cell_type": "markdown",
   "metadata": {}
  },
  {
   "source": [
    "The `TagCloud` class has a problem. If we try to access the underlying dictionay in the class, the program will crush. "
   ],
   "cell_type": "markdown",
   "metadata": {}
  },
  {
   "cell_type": "code",
   "execution_count": 68,
   "metadata": {},
   "outputs": [],
   "source": [
    "# Create an instance of the TagCloud class\n",
    "cloud = TagCloud()\n",
    "# Add \"python\" 2 times and \"Python\" once\n",
    "cloud.add(\"python\")\n",
    "cloud.add(\"python\")\n",
    "cloud.add(\"Python\")\n",
    "# If we print \"PYTHON\" we get 3 (as expected)\n",
    "print(cloud[\"PYTHON\"])"
   ]
  },
  {
   "source": [
    "But if we try to access the underlying dict with a tag that is not explicity there, the program will crush with a `KeyError` since everything is stored with a lower case (even \"Python\" doesn't work since our add method calls the lower method before adding)."
   ],
   "cell_type": "markdown",
   "metadata": {}
  },
  {
   "cell_type": "code",
   "execution_count": 75,
   "metadata": {},
   "outputs": [
    {
     "output_type": "stream",
     "name": "stdout",
     "text": [
      "3\n"
     ]
    }
   ],
   "source": [
    "print(cloud.tags[\"python\"])"
   ]
  },
  {
   "cell_type": "code",
   "execution_count": 76,
   "metadata": {},
   "outputs": [
    {
     "output_type": "error",
     "ename": "KeyError",
     "evalue": "'Python'",
     "traceback": [
      "\u001b[1;31m---------------------------------------------------------------------------\u001b[0m",
      "\u001b[1;31mKeyError\u001b[0m                                  Traceback (most recent call last)",
      "\u001b[1;32m<ipython-input-76-a5c66916d612>\u001b[0m in \u001b[0;36m<module>\u001b[1;34m\u001b[0m\n\u001b[1;32m----> 1\u001b[1;33m \u001b[0mprint\u001b[0m\u001b[1;33m(\u001b[0m\u001b[0mcloud\u001b[0m\u001b[1;33m.\u001b[0m\u001b[0mtags\u001b[0m\u001b[1;33m[\u001b[0m\u001b[1;34m\"Python\"\u001b[0m\u001b[1;33m]\u001b[0m\u001b[1;33m)\u001b[0m\u001b[1;33m\u001b[0m\u001b[1;33m\u001b[0m\u001b[0m\n\u001b[0m",
      "\u001b[1;31mKeyError\u001b[0m: 'Python'"
     ]
    }
   ],
   "source": [
    "print(cloud.tags[\"Python\"])"
   ]
  },
  {
   "cell_type": "code",
   "execution_count": 77,
   "metadata": {},
   "outputs": [
    {
     "output_type": "error",
     "ename": "KeyError",
     "evalue": "'PYTHON'",
     "traceback": [
      "\u001b[1;31m---------------------------------------------------------------------------\u001b[0m",
      "\u001b[1;31mKeyError\u001b[0m                                  Traceback (most recent call last)",
      "\u001b[1;32m<ipython-input-77-0e24b627caac>\u001b[0m in \u001b[0;36m<module>\u001b[1;34m\u001b[0m\n\u001b[1;32m----> 1\u001b[1;33m \u001b[0mprint\u001b[0m\u001b[1;33m(\u001b[0m\u001b[0mcloud\u001b[0m\u001b[1;33m.\u001b[0m\u001b[0mtags\u001b[0m\u001b[1;33m[\u001b[0m\u001b[1;34m\"PYTHON\"\u001b[0m\u001b[1;33m]\u001b[0m\u001b[1;33m)\u001b[0m\u001b[1;33m\u001b[0m\u001b[1;33m\u001b[0m\u001b[0m\n\u001b[0m",
      "\u001b[1;31mKeyError\u001b[0m: 'PYTHON'"
     ]
    }
   ],
   "source": [
    "print(cloud.tags[\"PYTHON\"])"
   ]
  },
  {
   "source": [
    "To fix the problem we need to keep the dict attribute from the outside.\n",
    "\n",
    "To make the attribute private, we prefix it with two underscores, as shown below. In order to be able to refactor the code, library `rope` needs to be installed."
   ],
   "cell_type": "markdown",
   "metadata": {}
  },
  {
   "cell_type": "code",
   "execution_count": 80,
   "metadata": {},
   "outputs": [],
   "source": [
    "class TagCloud:\n",
    "    def __init__(self):\n",
    "        self.__tags = {}\n",
    "\n",
    "    def add(self, tag):\n",
    "        self.__tags[tag.lower()] = self.__tags.get(tag.lower(), 0) + 1\n",
    "\n",
    "    def __getitem__(self, tag):\n",
    "        return self.__tags.get(tag.lower(), 0)\n",
    "\n",
    "    def __setitem__(self, tag, count):\n",
    "        self.__tags[tag.lower()] = count\n",
    "\n",
    "    def __len__(self):\n",
    "        return len(self.__tags)\n",
    "\n",
    "    # We call the iter function and specify what we want to iterate over\n",
    "    def __iter__(self):\n",
    "        return iter(self.__tags)"
   ]
  },
  {
   "cell_type": "code",
   "execution_count": 81,
   "metadata": {},
   "outputs": [],
   "source": [
    "cloud = TagCloud()\n",
    "cloud.add(\"python\")\n",
    "cloud.add(\"python\")\n",
    "cloud.add(\"Python\")"
   ]
  },
  {
   "source": [
    "If we now use the `.` operator on the object cloud, we see that neither `tags` nor `__tags` are available. If we still run it, the program crushes with an `AttributeError`."
   ],
   "cell_type": "markdown",
   "metadata": {}
  },
  {
   "cell_type": "code",
   "execution_count": 84,
   "metadata": {},
   "outputs": [
    {
     "output_type": "error",
     "ename": "AttributeError",
     "evalue": "'TagCloud' object has no attribute '__tags'",
     "traceback": [
      "\u001b[1;31m---------------------------------------------------------------------------\u001b[0m",
      "\u001b[1;31mAttributeError\u001b[0m                            Traceback (most recent call last)",
      "\u001b[1;32m<ipython-input-84-43e4935a7f47>\u001b[0m in \u001b[0;36m<module>\u001b[1;34m\u001b[0m\n\u001b[1;32m----> 1\u001b[1;33m \u001b[0mprint\u001b[0m\u001b[1;33m(\u001b[0m\u001b[0mcloud\u001b[0m\u001b[1;33m.\u001b[0m\u001b[0m__tags\u001b[0m\u001b[1;33m)\u001b[0m\u001b[1;33m\u001b[0m\u001b[1;33m\u001b[0m\u001b[0m\n\u001b[0m",
      "\u001b[1;31mAttributeError\u001b[0m: 'TagCloud' object has no attribute '__tags'"
     ]
    }
   ],
   "source": [
    "print(cloud.__tags)"
   ]
  },
  {
   "source": [
    "This does not mean that the attribute will not be accesible (python does not have a concept of private members like Java or C#). It just notifies the consumer of our class that he/she should not use it.\n",
    "\n",
    "If you still need to access it, you can do it via the `__dict__` property of the class. This is a dictionary that holds all the attributes of this class."
   ],
   "cell_type": "markdown",
   "metadata": {}
  },
  {
   "cell_type": "code",
   "execution_count": 85,
   "metadata": {},
   "outputs": [
    {
     "output_type": "stream",
     "name": "stdout",
     "text": [
      "{'_TagCloud__tags': {'python': 3}}\n"
     ]
    }
   ],
   "source": [
    "print(cloud.__dict__)"
   ]
  },
  {
   "source": [
    "In this class we have the attribute `_TagCloud__tags`"
   ],
   "cell_type": "markdown",
   "metadata": {}
  },
  {
   "cell_type": "code",
   "execution_count": 86,
   "metadata": {},
   "outputs": [
    {
     "output_type": "stream",
     "name": "stdout",
     "text": [
      "{'python': 3}\n"
     ]
    }
   ],
   "source": [
    "print(cloud._TagCloud__tags)"
   ]
  },
  {
   "source": [
    "# Properties"
   ],
   "cell_type": "markdown",
   "metadata": {}
  },
  {
   "source": [
    "Sometime we want to have control over an attribute of a class. For example, suppose we define a class for creating `Product` objects. We need to make sure the user does not supply a negative price."
   ],
   "cell_type": "markdown",
   "metadata": {}
  },
  {
   "cell_type": "code",
   "execution_count": 89,
   "metadata": {},
   "outputs": [
    {
     "output_type": "stream",
     "name": "stdout",
     "text": [
      "-50\n"
     ]
    }
   ],
   "source": [
    "class Product:\n",
    "    def __init__(self, price):\n",
    "        self.price = price\n",
    "\n",
    "\n",
    "product = Product(-50)\n",
    "print(product.price)"
   ]
  },
  {
   "source": [
    "One way of preventing this is making the `price` member private and then define methods for getting and setting the price. Once done, we need to rember to change the way the price is set in the `__init__` method."
   ],
   "cell_type": "markdown",
   "metadata": {}
  },
  {
   "cell_type": "code",
   "execution_count": 99,
   "metadata": {},
   "outputs": [],
   "source": [
    "class Product:\n",
    "    def __init__(self, price):\n",
    "        self.set_price(price)\n",
    "    \n",
    "    # For the get method, we just return the price\n",
    "    def get_price(self):\n",
    "        return self.__price\n",
    "    \n",
    "    # For the set method, we need to first check that the price is not less than 0\n",
    "    # If it is, we'll raise an exception\n",
    "    def set_price(self, value):\n",
    "        if value < 0:\n",
    "            raise ValueError(\"Price must be greater or equal than 0\")\n",
    "        self.__price = value"
   ]
  },
  {
   "source": [
    "If we now try to set the price to be less than 0, we'll get a `ValueError` exception"
   ],
   "cell_type": "markdown",
   "metadata": {}
  },
  {
   "cell_type": "code",
   "execution_count": 100,
   "metadata": {},
   "outputs": [
    {
     "output_type": "error",
     "ename": "ValueError",
     "evalue": "Price must be greater or equal than 0",
     "traceback": [
      "\u001b[1;31m---------------------------------------------------------------------------\u001b[0m",
      "\u001b[1;31mValueError\u001b[0m                                Traceback (most recent call last)",
      "\u001b[1;32m<ipython-input-100-f5f0ac90026a>\u001b[0m in \u001b[0;36m<module>\u001b[1;34m\u001b[0m\n\u001b[1;32m----> 1\u001b[1;33m \u001b[0mproduct\u001b[0m \u001b[1;33m=\u001b[0m \u001b[0mProduct\u001b[0m\u001b[1;33m(\u001b[0m\u001b[1;33m-\u001b[0m\u001b[1;36m50\u001b[0m\u001b[1;33m)\u001b[0m\u001b[1;33m\u001b[0m\u001b[1;33m\u001b[0m\u001b[0m\n\u001b[0m",
      "\u001b[1;32m<ipython-input-99-976112ff1a6e>\u001b[0m in \u001b[0;36m__init__\u001b[1;34m(self, price)\u001b[0m\n\u001b[0;32m      1\u001b[0m \u001b[1;32mclass\u001b[0m \u001b[0mProduct\u001b[0m\u001b[1;33m:\u001b[0m\u001b[1;33m\u001b[0m\u001b[1;33m\u001b[0m\u001b[0m\n\u001b[0;32m      2\u001b[0m     \u001b[1;32mdef\u001b[0m \u001b[0m__init__\u001b[0m\u001b[1;33m(\u001b[0m\u001b[0mself\u001b[0m\u001b[1;33m,\u001b[0m \u001b[0mprice\u001b[0m\u001b[1;33m)\u001b[0m\u001b[1;33m:\u001b[0m\u001b[1;33m\u001b[0m\u001b[1;33m\u001b[0m\u001b[0m\n\u001b[1;32m----> 3\u001b[1;33m         \u001b[0mself\u001b[0m\u001b[1;33m.\u001b[0m\u001b[0mset_price\u001b[0m\u001b[1;33m(\u001b[0m\u001b[0mprice\u001b[0m\u001b[1;33m)\u001b[0m\u001b[1;33m\u001b[0m\u001b[1;33m\u001b[0m\u001b[0m\n\u001b[0m\u001b[0;32m      4\u001b[0m \u001b[1;33m\u001b[0m\u001b[0m\n\u001b[0;32m      5\u001b[0m     \u001b[1;31m# For the get method, we just return the price\u001b[0m\u001b[1;33m\u001b[0m\u001b[1;33m\u001b[0m\u001b[1;33m\u001b[0m\u001b[0m\n",
      "\u001b[1;32m<ipython-input-99-976112ff1a6e>\u001b[0m in \u001b[0;36mset_price\u001b[1;34m(self, value)\u001b[0m\n\u001b[0;32m     11\u001b[0m     \u001b[1;32mdef\u001b[0m \u001b[0mset_price\u001b[0m\u001b[1;33m(\u001b[0m\u001b[0mself\u001b[0m\u001b[1;33m,\u001b[0m \u001b[0mvalue\u001b[0m\u001b[1;33m)\u001b[0m\u001b[1;33m:\u001b[0m\u001b[1;33m\u001b[0m\u001b[1;33m\u001b[0m\u001b[0m\n\u001b[0;32m     12\u001b[0m         \u001b[1;32mif\u001b[0m \u001b[0mvalue\u001b[0m \u001b[1;33m<\u001b[0m \u001b[1;36m0\u001b[0m\u001b[1;33m:\u001b[0m\u001b[1;33m\u001b[0m\u001b[1;33m\u001b[0m\u001b[0m\n\u001b[1;32m---> 13\u001b[1;33m             \u001b[1;32mraise\u001b[0m \u001b[0mValueError\u001b[0m\u001b[1;33m(\u001b[0m\u001b[1;34m\"Price must be greater or equal than 0\"\u001b[0m\u001b[1;33m)\u001b[0m\u001b[1;33m\u001b[0m\u001b[1;33m\u001b[0m\u001b[0m\n\u001b[0m\u001b[0;32m     14\u001b[0m         \u001b[0mself\u001b[0m\u001b[1;33m.\u001b[0m\u001b[0m__price\u001b[0m \u001b[1;33m=\u001b[0m \u001b[0mvalue\u001b[0m\u001b[1;33m\u001b[0m\u001b[1;33m\u001b[0m\u001b[0m\n",
      "\u001b[1;31mValueError\u001b[0m: Price must be greater or equal than 0"
     ]
    }
   ],
   "source": [
    "product = Product(-50)"
   ]
  },
  {
   "source": [
    "This is OK. But it's not very pythonic. We can achieve the same result by using a *property*. A *property* is an object that sits in front of an attribute and allows us to get or set the value of that attribute. Properties have two internal methods: *getter* and *setter*.\n",
    "\n",
    "There are two ways of creating properties:\n",
    "\n",
    "- using the `property` function  \n",
    "- using decorators (prefered)"
   ],
   "cell_type": "markdown",
   "metadata": {}
  },
  {
   "source": [
    "If we want to use the property function, we need to declare an attribute after defining the methods with the ideal name and assign to it the result of the property function call. The property function can take upto 4 arguments, but they are all optional: *fget* (a function for getting the value of an attribute), *fset* (a function for setting the value of an attribute), *fdel* (a function for deleting the value of an attribute), and *doc* (for documentation).\n",
    "\n",
    "We don't need to call the functions inside the property function call, just reference them."
   ],
   "cell_type": "markdown",
   "metadata": {}
  },
  {
   "cell_type": "code",
   "execution_count": 101,
   "metadata": {},
   "outputs": [],
   "source": [
    "# Using the property function\n",
    "class Product:\n",
    "    def __init__(self, price):\n",
    "        self.set_price(price)\n",
    "    \n",
    "    def get_price(self):\n",
    "        return self.__price\n",
    "    \n",
    "    def set_price(self, value):\n",
    "        if value < 0:\n",
    "            raise ValueError(\"Price must be greater or equal than 0\")\n",
    "        self.__price = value\n",
    "\n",
    "    price = property(get_price, set_price)"
   ]
  },
  {
   "cell_type": "code",
   "execution_count": 102,
   "metadata": {},
   "outputs": [
    {
     "output_type": "stream",
     "name": "stdout",
     "text": [
      "10\n"
     ]
    }
   ],
   "source": [
    "product = Product(10)\n",
    "print(product.price)"
   ]
  },
  {
   "cell_type": "code",
   "execution_count": 103,
   "metadata": {},
   "outputs": [
    {
     "output_type": "error",
     "ename": "ValueError",
     "evalue": "Price must be greater or equal than 0",
     "traceback": [
      "\u001b[1;31m---------------------------------------------------------------------------\u001b[0m",
      "\u001b[1;31mValueError\u001b[0m                                Traceback (most recent call last)",
      "\u001b[1;32m<ipython-input-103-d1c734b13997>\u001b[0m in \u001b[0;36m<module>\u001b[1;34m\u001b[0m\n\u001b[1;32m----> 1\u001b[1;33m \u001b[0mproduct\u001b[0m\u001b[1;33m.\u001b[0m\u001b[0mprice\u001b[0m \u001b[1;33m=\u001b[0m \u001b[1;33m-\u001b[0m\u001b[1;36m1\u001b[0m\u001b[1;33m\u001b[0m\u001b[1;33m\u001b[0m\u001b[0m\n\u001b[0m",
      "\u001b[1;32m<ipython-input-101-d10aab95c09f>\u001b[0m in \u001b[0;36mset_price\u001b[1;34m(self, value)\u001b[0m\n\u001b[0;32m      9\u001b[0m     \u001b[1;32mdef\u001b[0m \u001b[0mset_price\u001b[0m\u001b[1;33m(\u001b[0m\u001b[0mself\u001b[0m\u001b[1;33m,\u001b[0m \u001b[0mvalue\u001b[0m\u001b[1;33m)\u001b[0m\u001b[1;33m:\u001b[0m\u001b[1;33m\u001b[0m\u001b[1;33m\u001b[0m\u001b[0m\n\u001b[0;32m     10\u001b[0m         \u001b[1;32mif\u001b[0m \u001b[0mvalue\u001b[0m \u001b[1;33m<\u001b[0m \u001b[1;36m0\u001b[0m\u001b[1;33m:\u001b[0m\u001b[1;33m\u001b[0m\u001b[1;33m\u001b[0m\u001b[0m\n\u001b[1;32m---> 11\u001b[1;33m             \u001b[1;32mraise\u001b[0m \u001b[0mValueError\u001b[0m\u001b[1;33m(\u001b[0m\u001b[1;34m\"Price must be greater or equal than 0\"\u001b[0m\u001b[1;33m)\u001b[0m\u001b[1;33m\u001b[0m\u001b[1;33m\u001b[0m\u001b[0m\n\u001b[0m\u001b[0;32m     12\u001b[0m         \u001b[0mself\u001b[0m\u001b[1;33m.\u001b[0m\u001b[0m__price\u001b[0m \u001b[1;33m=\u001b[0m \u001b[0mvalue\u001b[0m\u001b[1;33m\u001b[0m\u001b[1;33m\u001b[0m\u001b[0m\n\u001b[0;32m     13\u001b[0m \u001b[1;33m\u001b[0m\u001b[0m\n",
      "\u001b[1;31mValueError\u001b[0m: Price must be greater or equal than 0"
     ]
    }
   ],
   "source": [
    "product.price = -1"
   ]
  },
  {
   "source": [
    "The \"problem\" with this approach is that the two methods (`set_price` and `get_price`) are still accessible. In order to having a cleaner interface, we can use decorators."
   ],
   "cell_type": "markdown",
   "metadata": {}
  },
  {
   "cell_type": "code",
   "execution_count": 118,
   "metadata": {},
   "outputs": [],
   "source": [
    "# Using decorators\n",
    "class Product:\n",
    "\n",
    "    # The set_price method is no longer available, but we can use regular assignment\n",
    "    # now, thanks to the decorators\n",
    "    def __init__(self, price):\n",
    "        self.__price = price\n",
    "    \n",
    "    # We add the property decorator to the get method and rename it to the \"ideal\" name\n",
    "    @property\n",
    "    def price(self):\n",
    "        return self.__price\n",
    "\n",
    "    # We use a decorator for the set method. It's name starts with the name of our property\n",
    "    # We rename de method to the same name as used in the property\n",
    "    @price.setter\n",
    "    def price(self, value):\n",
    "        if value < 0:\n",
    "            raise ValueError(\"Price must be greater or equal than 0\")\n",
    "        self.__price = value"
   ]
  },
  {
   "cell_type": "code",
   "execution_count": 119,
   "metadata": {},
   "outputs": [
    {
     "output_type": "stream",
     "name": "stdout",
     "text": [
      "10\n"
     ]
    }
   ],
   "source": [
    "product = Product(10)\n",
    "print(product.price)"
   ]
  },
  {
   "cell_type": "code",
   "execution_count": 120,
   "metadata": {},
   "outputs": [
    {
     "output_type": "error",
     "ename": "ValueError",
     "evalue": "Price must be greater or equal than 0",
     "traceback": [
      "\u001b[1;31m---------------------------------------------------------------------------\u001b[0m",
      "\u001b[1;31mValueError\u001b[0m                                Traceback (most recent call last)",
      "\u001b[1;32m<ipython-input-120-d1c734b13997>\u001b[0m in \u001b[0;36m<module>\u001b[1;34m\u001b[0m\n\u001b[1;32m----> 1\u001b[1;33m \u001b[0mproduct\u001b[0m\u001b[1;33m.\u001b[0m\u001b[0mprice\u001b[0m \u001b[1;33m=\u001b[0m \u001b[1;33m-\u001b[0m\u001b[1;36m1\u001b[0m\u001b[1;33m\u001b[0m\u001b[1;33m\u001b[0m\u001b[0m\n\u001b[0m",
      "\u001b[1;32m<ipython-input-118-8e991c642b1c>\u001b[0m in \u001b[0;36mprice\u001b[1;34m(self, value)\u001b[0m\n\u001b[0;32m     17\u001b[0m     \u001b[1;32mdef\u001b[0m \u001b[0mprice\u001b[0m\u001b[1;33m(\u001b[0m\u001b[0mself\u001b[0m\u001b[1;33m,\u001b[0m \u001b[0mvalue\u001b[0m\u001b[1;33m)\u001b[0m\u001b[1;33m:\u001b[0m\u001b[1;33m\u001b[0m\u001b[1;33m\u001b[0m\u001b[0m\n\u001b[0;32m     18\u001b[0m         \u001b[1;32mif\u001b[0m \u001b[0mvalue\u001b[0m \u001b[1;33m<\u001b[0m \u001b[1;36m0\u001b[0m\u001b[1;33m:\u001b[0m\u001b[1;33m\u001b[0m\u001b[1;33m\u001b[0m\u001b[0m\n\u001b[1;32m---> 19\u001b[1;33m             \u001b[1;32mraise\u001b[0m \u001b[0mValueError\u001b[0m\u001b[1;33m(\u001b[0m\u001b[1;34m\"Price must be greater or equal than 0\"\u001b[0m\u001b[1;33m)\u001b[0m\u001b[1;33m\u001b[0m\u001b[1;33m\u001b[0m\u001b[0m\n\u001b[0m\u001b[0;32m     20\u001b[0m         \u001b[0mself\u001b[0m\u001b[1;33m.\u001b[0m\u001b[0m__price\u001b[0m \u001b[1;33m=\u001b[0m \u001b[0mvalue\u001b[0m\u001b[1;33m\u001b[0m\u001b[1;33m\u001b[0m\u001b[0m\n",
      "\u001b[1;31mValueError\u001b[0m: Price must be greater or equal than 0"
     ]
    }
   ],
   "source": [
    "product.price = -1"
   ]
  },
  {
   "source": [
    "When defining classes we don't need to define a getter and a setter. If we only define a getter, then we'll have a read-only class. Trying the update an attribute in a read-only class will throw an `Attribute` exception."
   ],
   "cell_type": "markdown",
   "metadata": {}
  },
  {
   "cell_type": "code",
   "execution_count": 121,
   "metadata": {},
   "outputs": [],
   "source": [
    "class Product:\n",
    "    def __init__(self, price):\n",
    "        self.__price = price\n",
    "    \n",
    "    @property\n",
    "    def price(self):\n",
    "        return self.__price"
   ]
  },
  {
   "cell_type": "code",
   "execution_count": 122,
   "metadata": {},
   "outputs": [
    {
     "output_type": "stream",
     "name": "stdout",
     "text": [
      "75\n"
     ]
    }
   ],
   "source": [
    "new_product = Product(75)\n",
    "print(new_product.price)"
   ]
  },
  {
   "cell_type": "code",
   "execution_count": 124,
   "metadata": {},
   "outputs": [
    {
     "output_type": "error",
     "ename": "AttributeError",
     "evalue": "can't set attribute",
     "traceback": [
      "\u001b[1;31m---------------------------------------------------------------------------\u001b[0m",
      "\u001b[1;31mAttributeError\u001b[0m                            Traceback (most recent call last)",
      "\u001b[1;32m<ipython-input-124-ecd7c68985f0>\u001b[0m in \u001b[0;36m<module>\u001b[1;34m\u001b[0m\n\u001b[1;32m----> 1\u001b[1;33m \u001b[0mnew_product\u001b[0m\u001b[1;33m.\u001b[0m\u001b[0mprice\u001b[0m \u001b[1;33m=\u001b[0m \u001b[1;36m100\u001b[0m\u001b[1;33m\u001b[0m\u001b[1;33m\u001b[0m\u001b[0m\n\u001b[0m",
      "\u001b[1;31mAttributeError\u001b[0m: can't set attribute"
     ]
    }
   ],
   "source": [
    "new_product.price = 100"
   ]
  },
  {
   "source": [
    "# Inheritance"
   ],
   "cell_type": "markdown",
   "metadata": {}
  }
 ]
}