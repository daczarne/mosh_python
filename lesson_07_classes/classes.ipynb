{
 "metadata": {
  "language_info": {
   "codemirror_mode": {
    "name": "ipython",
    "version": 3
   },
   "file_extension": ".py",
   "mimetype": "text/x-python",
   "name": "python",
   "nbconvert_exporter": "python",
   "pygments_lexer": "ipython3",
   "version": "3.8.3-final"
  },
  "orig_nbformat": 2,
  "kernelspec": {
   "name": "python3",
   "display_name": "Python 3"
  }
 },
 "nbformat": 4,
 "nbformat_minor": 2,
 "cells": [
  {
   "source": [
    "# Definitions:\n",
    "class: blueprint for creating new object  \n",
    "object: an instance of a class"
   ],
   "cell_type": "markdown",
   "metadata": {}
  },
  {
   "source": [
    "objects have `methods` (functions) and `attributes` (variables that include data about that object)"
   ],
   "cell_type": "markdown",
   "metadata": {}
  },
  {
   "source": [
    "Every object in Python is created using a specific blueprint (a class) for that type of object (eg int, string, bool, etc)"
   ],
   "cell_type": "markdown",
   "metadata": {}
  },
  {
   "source": [
    "For example, we could have:\n",
    "- a the class \"Human\"  \n",
    "- the objects \"John\", \"Mary\", \"Jack\", etc  \n",
    "- the methods \"walk\", \"talk\", \"swim\", etc\n",
    "- the attributes \"eye_color\", \"heigth\", \"wegiht\", etc "
   ],
   "cell_type": "markdown",
   "metadata": {}
  },
  {
   "cell_type": "code",
   "execution_count": 1,
   "metadata": {},
   "outputs": [
    {
     "output_type": "stream",
     "name": "stdout",
     "text": [
      "<class 'int'>\n"
     ]
    }
   ],
   "source": [
    "x = 1\n",
    "print(type(x))"
   ]
  },
  {
   "source": [
    "The class of the object x is int"
   ],
   "cell_type": "markdown",
   "metadata": {}
  },
  {
   "source": [
    "# Creating classes in Python"
   ],
   "cell_type": "markdown",
   "metadata": {}
  },
  {
   "source": [
    "We'll create the \"point\" class."
   ],
   "cell_type": "markdown",
   "metadata": {}
  },
  {
   "source": [
    "We'll use the Pascal naming convention for class names. First letter of every word should be capital (also called Upper Camel). No underscores (_) are used."
   ],
   "cell_type": "markdown",
   "metadata": {}
  },
  {
   "source": [
    "We start with the `class` keyword.  \n",
    "Inside the `class` block we define functions using the `def` keyword.  \n",
    "All functions in our class should have at least one parameter. By convention we call this parameter `self`"
   ],
   "cell_type": "markdown",
   "metadata": {}
  },
  {
   "cell_type": "code",
   "execution_count": 2,
   "metadata": {},
   "outputs": [],
   "source": [
    "class Point:\n",
    "    def draw(self):\n",
    "        print(\"draw\")"
   ]
  },
  {
   "source": [
    "Now we can create an instance of class Point, by calling Point as a function. We can assign the object"
   ],
   "cell_type": "markdown",
   "metadata": {}
  },
  {
   "cell_type": "code",
   "execution_count": 3,
   "metadata": {},
   "outputs": [],
   "source": [
    "point = Point()"
   ]
  },
  {
   "cell_type": "code",
   "execution_count": 4,
   "metadata": {},
   "outputs": [
    {
     "output_type": "stream",
     "name": "stdout",
     "text": [
      "<class '__main__.Point'>\n"
     ]
    }
   ],
   "source": [
    "print(type(point))"
   ]
  },
  {
   "cell_type": "code",
   "execution_count": 5,
   "metadata": {},
   "outputs": [
    {
     "output_type": "execute_result",
     "data": {
      "text/plain": [
       "True"
      ]
     },
     "metadata": {},
     "execution_count": 5
    }
   ],
   "source": [
    "isinstance(point, Point)"
   ]
  },
  {
   "source": [
    "# Constructors"
   ],
   "cell_type": "markdown",
   "metadata": {}
  },
  {
   "source": [
    "We want to supply initial values for x and y coords for our point object. For example `point = Point(1, 2)`. To achieve this we need to define a constructor"
   ],
   "cell_type": "markdown",
   "metadata": {}
  },
  {
   "source": [
    "A constructor is a special method that is called when we create a new Point object"
   ],
   "cell_type": "markdown",
   "metadata": {}
  },
  {
   "source": [
    "Since a constructor is a method of our Point class, we need to define it in our definition of the Point class"
   ],
   "cell_type": "markdown",
   "metadata": {}
  },
  {
   "source": [
    "To define a constructor we use the `__init__` *magic method*. When we create a new point object the `__init__` method is called. We add the `self` parameter, as well as the `x` and `y` parameters."
   ],
   "cell_type": "markdown",
   "metadata": {}
  },
  {
   "source": [
    "`self` is a reference the current Point object. "
   ],
   "cell_type": "markdown",
   "metadata": {}
  },
  {
   "cell_type": "code",
   "execution_count": 6,
   "metadata": {},
   "outputs": [],
   "source": [
    "class Point:\n",
    "    def __init__(self, x, y):\n",
    "        self.x = x\n",
    "        self.y = y\n",
    "    \n",
    "    def draw(self):\n",
    "        print(f\"Point ({self.x}, {self.y})\")"
   ]
  },
  {
   "cell_type": "code",
   "execution_count": 7,
   "metadata": {},
   "outputs": [],
   "source": [
    "point = Point(1, 2)"
   ]
  },
  {
   "cell_type": "code",
   "execution_count": 8,
   "metadata": {},
   "outputs": [
    {
     "output_type": "stream",
     "name": "stdout",
     "text": [
      "1\n2\n"
     ]
    }
   ],
   "source": [
    "print(point.x)\n",
    "print(point.y)"
   ]
  },
  {
   "cell_type": "code",
   "execution_count": 9,
   "metadata": {},
   "outputs": [
    {
     "output_type": "stream",
     "name": "stdout",
     "text": [
      "Point (1, 2)\n"
     ]
    }
   ],
   "source": [
    "point.draw()"
   ]
  },
  {
   "source": [
    "# Class Vs Instance Attribures"
   ],
   "cell_type": "markdown",
   "metadata": {}
  },
  {
   "source": [
    "We can define attributes after creating a Point object, because objects in Python are dynamic."
   ],
   "cell_type": "markdown",
   "metadata": {}
  },
  {
   "cell_type": "code",
   "execution_count": 13,
   "metadata": {},
   "outputs": [
    {
     "output_type": "stream",
     "name": "stdout",
     "text": [
      "10\n"
     ]
    }
   ],
   "source": [
    "point.z = 10\n",
    "print(point.z)"
   ]
  },
  {
   "source": [
    "`x`, `y` and `z` are instance attributes. This means every point object can have different attributes."
   ],
   "cell_type": "markdown",
   "metadata": {}
  },
  {
   "cell_type": "code",
   "execution_count": 14,
   "metadata": {},
   "outputs": [
    {
     "output_type": "stream",
     "name": "stdout",
     "text": [
      "Point (3, 4)\n"
     ]
    }
   ],
   "source": [
    "another = Point(3, 4)\n",
    "another.draw()"
   ]
  },
  {
   "source": [
    "We can also define class attributes. These need to be defined at the class level (when defining the class), and they will be shared by all instances of that class."
   ],
   "cell_type": "markdown",
   "metadata": {}
  },
  {
   "cell_type": "code",
   "execution_count": 15,
   "metadata": {},
   "outputs": [],
   "source": [
    "class Point:\n",
    "    default_color = \"red\"\n",
    "\n",
    "    def __init__(self, x, y):\n",
    "        self.x = x\n",
    "        self.y = y\n",
    "    \n",
    "    def draw(self):\n",
    "        print(f\"Point ({self.x}, {self.y})\")"
   ]
  },
  {
   "cell_type": "code",
   "execution_count": 19,
   "metadata": {},
   "outputs": [],
   "source": [
    "point = Point(1, 2)\n",
    "another = Point(3, 4)"
   ]
  },
  {
   "source": [
    "We can use *object reference* to access the class attributes "
   ],
   "cell_type": "markdown",
   "metadata": {}
  },
  {
   "cell_type": "code",
   "execution_count": 24,
   "metadata": {},
   "outputs": [
    {
     "output_type": "stream",
     "name": "stdout",
     "text": [
      "red\nred\n"
     ]
    }
   ],
   "source": [
    "print(point.default_color)\n",
    "print(another.default_color)"
   ]
  },
  {
   "source": [
    "Or we can access them via *class reference*"
   ],
   "cell_type": "markdown",
   "metadata": {}
  },
  {
   "cell_type": "code",
   "execution_count": 26,
   "metadata": {},
   "outputs": [
    {
     "output_type": "stream",
     "name": "stdout",
     "text": [
      "red\n"
     ]
    }
   ],
   "source": [
    "print(Point.default_color)"
   ]
  },
  {
   "source": [
    "Since class attributes are shared though all instances, any changes in the attribute will be inherited by all instances of that class "
   ],
   "cell_type": "markdown",
   "metadata": {}
  },
  {
   "cell_type": "code",
   "execution_count": 27,
   "metadata": {},
   "outputs": [],
   "source": [
    "Point.default_color = \"yellow\""
   ]
  },
  {
   "cell_type": "code",
   "execution_count": 29,
   "metadata": {},
   "outputs": [
    {
     "output_type": "stream",
     "name": "stdout",
     "text": [
      "yellow\nyellow\n"
     ]
    }
   ],
   "source": [
    "print(point.default_color)\n",
    "print(another.default_color)"
   ]
  },
  {
   "source": [
    "# Class Vs Instance Methods"
   ],
   "cell_type": "markdown",
   "metadata": {}
  },
  {
   "source": [
    "Same as with attributes, we also have class and instance methods. This comes handy when defining *factory* methods. These are methods that generate pre defined instaces of a class.\n",
    "\n",
    "In order to tell Python that a method is a class method, we use the decorator `@classmethod` before defining it. By convention, the first argument of class methods is `cls`."
   ],
   "cell_type": "markdown",
   "metadata": {}
  },
  {
   "source": [
    "For example, let's create a method called `zero` that when called, will create an object of the Point class with x and y values set to zero."
   ],
   "cell_type": "markdown",
   "metadata": {}
  },
  {
   "cell_type": "code",
   "execution_count": 47,
   "metadata": {},
   "outputs": [],
   "source": [
    "class Point:\n",
    "    def __init__(self, x, y):\n",
    "        self.x = x\n",
    "        self.y = y\n",
    "    \n",
    "    @classmethod\n",
    "    def zero(cls):\n",
    "        return cls(0, 0)\n",
    "\n",
    "    def draw(self):\n",
    "        print(f\"Point ({self.x}, {self.y})\")"
   ]
  },
  {
   "cell_type": "code",
   "execution_count": 48,
   "metadata": {},
   "outputs": [],
   "source": [
    "point = Point.zero()"
   ]
  },
  {
   "cell_type": "code",
   "execution_count": 49,
   "metadata": {},
   "outputs": [
    {
     "output_type": "stream",
     "name": "stdout",
     "text": [
      "Point (0, 0)\n"
     ]
    }
   ],
   "source": [
    "point.draw()"
   ]
  },
  {
   "source": [
    "# Magic methods"
   ],
   "cell_type": "markdown",
   "metadata": {}
  },
  {
   "source": [
    "Magic methods are the methods that start and finish with two underscores. They are called automatically by Python interpreter when a new instance of a class is created. Magic methods can be found at https://rszalski.github.io/magicmethods/\n"
   ],
   "cell_type": "markdown",
   "metadata": {}
  },
  {
   "source": [
    "For example, the `__str__` magic method is used to convert an object to a string."
   ],
   "cell_type": "markdown",
   "metadata": {}
  },
  {
   "cell_type": "code",
   "execution_count": 51,
   "metadata": {},
   "outputs": [],
   "source": [
    "class Point:\n",
    "    def __init__(self, x, y):\n",
    "        self.x = x\n",
    "        self.y = y\n",
    "    \n",
    "    def __str__(self):\n",
    "        return f\"({self.x}, {self.y})\"\n",
    "\n",
    "    def draw(self):\n",
    "        print(f\"Point ({self.x}, {self.y})\")"
   ]
  },
  {
   "cell_type": "code",
   "execution_count": 53,
   "metadata": {},
   "outputs": [
    {
     "output_type": "stream",
     "name": "stdout",
     "text": [
      "(1, 2)\n(1, 2)\n"
     ]
    }
   ],
   "source": [
    "point = Point(1, 2)\n",
    "print(point)\n",
    "print(str(point))"
   ]
  },
  {
   "source": [
    "# Comparing Objects"
   ],
   "cell_type": "markdown",
   "metadata": {}
  },
  {
   "source": [
    "Suppose we have two objects of the following class and we want to compare them"
   ],
   "cell_type": "markdown",
   "metadata": {}
  },
  {
   "cell_type": "code",
   "execution_count": 1,
   "metadata": {},
   "outputs": [],
   "source": [
    "class Point:\n",
    "    def __init__(self, x, y):\n",
    "        self.x = x\n",
    "        self.y = y\n",
    "\n",
    "    def draw(self):\n",
    "        print(f\"Point ({self.x}, {self.y})\")"
   ]
  },
  {
   "cell_type": "code",
   "execution_count": 2,
   "metadata": {},
   "outputs": [],
   "source": [
    "point1 = Point(1, 2)\n",
    "point2 = Point(1, 2)\n",
    "print(point1 == point2)"
   ]
  },
  {
   "source": [
    "The reason why Python interpreter is saying that they are not equal is because it is comparing the addresses in memory. In order for the objects to be compared based on their content, we need to include the `__eq__` magic class on our Point object"
   ],
   "cell_type": "markdown",
   "metadata": {}
  },
  {
   "cell_type": "code",
   "execution_count": 5,
   "metadata": {},
   "outputs": [],
   "source": [
    "class Point:\n",
    "    def __init__(self, x, y):\n",
    "        self.x = x\n",
    "        self.y = y\n",
    "\n",
    "    def __eq__(self, other):\n",
    "        return self.x == other.x and self.y == other.y\n",
    "        \n",
    "    def draw(self):\n",
    "        print(f\"Point ({self.x}, {self.y})\")"
   ]
  },
  {
   "cell_type": "code",
   "execution_count": 6,
   "metadata": {},
   "outputs": [
    {
     "output_type": "stream",
     "name": "stdout",
     "text": [
      "True\n"
     ]
    }
   ],
   "source": [
    "point1 = Point(1, 2)\n",
    "point2 = Point(1, 2)\n",
    "print(point1 == point2)"
   ]
  },
  {
   "source": [
    "What if we want to compare whether point1 is greater than point2? In this case we'll get a `TypeError` since the greater than operation is not defined for the class Point. \n",
    "\n",
    "To add it we need to define the `__gt__` magic method."
   ],
   "cell_type": "markdown",
   "metadata": {}
  },
  {
   "cell_type": "code",
   "execution_count": 7,
   "metadata": {},
   "outputs": [],
   "source": [
    "class Point:\n",
    "    def __init__(self, x, y):\n",
    "        self.x = x\n",
    "        self.y = y\n",
    "\n",
    "    def __eq__(self, other):\n",
    "        return self.x == other.x and self.y == other.y\n",
    "\n",
    "    def __gt__(self, other):\n",
    "        return self.x > other.x and self.y > other.y\n",
    "        \n",
    "    def draw(self):\n",
    "        print(f\"Point ({self.x}, {self.y})\")"
   ]
  },
  {
   "cell_type": "code",
   "execution_count": 8,
   "metadata": {},
   "outputs": [
    {
     "output_type": "stream",
     "name": "stdout",
     "text": [
      "True\n"
     ]
    }
   ],
   "source": [
    "point1 = Point(10, 20)\n",
    "point2 = Point(1, 2)\n",
    "print(point1 > point2)"
   ]
  },
  {
   "source": [
    "What about the less than operation?"
   ],
   "cell_type": "markdown",
   "metadata": {}
  },
  {
   "cell_type": "code",
   "execution_count": 9,
   "metadata": {},
   "outputs": [
    {
     "output_type": "stream",
     "name": "stdout",
     "text": [
      "False\n"
     ]
    }
   ],
   "source": [
    "print(point1 < point2)"
   ]
  },
  {
   "source": [
    "We do not need to define both the `__gt__` and `__lt__` magic classes. Once one is present in our class definition, the other one will work as well."
   ],
   "cell_type": "markdown",
   "metadata": {}
  },
  {
   "source": [
    "# Arithmetic Operations"
   ],
   "cell_type": "markdown",
   "metadata": {}
  },
  {
   "source": [
    "We also have magic methods for arithmetic operations like `__add__` (for addition), `__sub__` (for substraction), `__mul__` (for multiplication), etc. "
   ],
   "cell_type": "markdown",
   "metadata": {}
  },
  {
   "cell_type": "code",
   "execution_count": 10,
   "metadata": {},
   "outputs": [],
   "source": [
    "class Point:\n",
    "    def __init__(self, x, y):\n",
    "        self.x = x\n",
    "        self.y = y\n",
    "\n",
    "    def __eq__(self, other):\n",
    "        return self.x == other.x and self.y == other.y\n",
    "\n",
    "    def __gt__(self, other):\n",
    "        return self.x > other.x and self.y > other.y\n",
    "    \n",
    "    def __add__(self, other):\n",
    "        return Point(self.x + other.x, self.y + other.y)\n",
    "        \n",
    "    def draw(self):\n",
    "        print(f\"Point ({self.x}, {self.y})\")"
   ]
  },
  {
   "cell_type": "code",
   "execution_count": 11,
   "metadata": {},
   "outputs": [
    {
     "output_type": "stream",
     "name": "stdout",
     "text": [
      "<__main__.Point object at 0x000001AB874A26A0>\n"
     ]
    }
   ],
   "source": [
    "point1 = Point(1, 2)\n",
    "point2 = Point(3, 4)\n",
    "print(point1 + point2)"
   ]
  },
  {
   "source": [
    "Python interpreter can't print the result because the `__str__` method was removed from the class definition. We could instead assign the result of `point1 + point2` to an object, and then print that object."
   ],
   "cell_type": "markdown",
   "metadata": {}
  },
  {
   "cell_type": "code",
   "execution_count": 14,
   "metadata": {},
   "outputs": [
    {
     "output_type": "stream",
     "name": "stdout",
     "text": [
      "(4, 6)\n"
     ]
    }
   ],
   "source": [
    "combine = point1 + point2\n",
    "print(combine)"
   ]
  },
  {
   "source": [
    "Or, we could re add the `__str__` magic method to the `Point` class"
   ],
   "cell_type": "markdown",
   "metadata": {}
  },
  {
   "cell_type": "code",
   "execution_count": 12,
   "metadata": {},
   "outputs": [],
   "source": [
    "class Point:\n",
    "    def __init__(self, x, y):\n",
    "        self.x = x\n",
    "        self.y = y\n",
    "\n",
    "    def __eq__(self, other):\n",
    "        return self.x == other.x and self.y == other.y\n",
    "\n",
    "    def __gt__(self, other):\n",
    "        return self.x > other.x and self.y > other.y\n",
    "    \n",
    "    def __add__(self, other):\n",
    "        return Point(self.x + other.x, self.y + other.y)\n",
    "    \n",
    "    def __str__(self):\n",
    "        return f\"({self.x}, {self.y})\"\n",
    "\n",
    "    def draw(self):\n",
    "        print(f\"Point ({self.x}, {self.y})\")"
   ]
  },
  {
   "cell_type": "code",
   "execution_count": 13,
   "metadata": {},
   "outputs": [
    {
     "output_type": "stream",
     "name": "stdout",
     "text": [
      "(4, 6)\n"
     ]
    }
   ],
   "source": [
    "point1 = Point(1, 2)\n",
    "point2 = Point(3, 4)\n",
    "print(point1 + point2)"
   ]
  },
  {
   "source": [
    "# Making Custom Containers"
   ],
   "cell_type": "markdown",
   "metadata": {}
  }
 ]
}