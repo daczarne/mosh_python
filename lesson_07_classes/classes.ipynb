{
 "metadata": {
  "language_info": {
   "codemirror_mode": {
    "name": "ipython",
    "version": 3
   },
   "file_extension": ".py",
   "mimetype": "text/x-python",
   "name": "python",
   "nbconvert_exporter": "python",
   "pygments_lexer": "ipython3",
   "version": "3.8.3-final"
  },
  "orig_nbformat": 2,
  "kernelspec": {
   "name": "python3",
   "display_name": "Python 3"
  }
 },
 "nbformat": 4,
 "nbformat_minor": 2,
 "cells": [
  {
   "source": [
    "# Definitions:\n",
    "class: blueprint for creating new object  \n",
    "object: an instance of a class"
   ],
   "cell_type": "markdown",
   "metadata": {}
  },
  {
   "source": [
    "Every object in Python is created using a specific blueprint (a class) for that type of object (eg int, string, bool, etc)"
   ],
   "cell_type": "markdown",
   "metadata": {}
  },
  {
   "source": [
    "For example, we could have a the class \"Human\", and the objects \"John\", \"Mary\", \"Jack\", etc"
   ],
   "cell_type": "markdown",
   "metadata": {}
  },
  {
   "cell_type": "code",
   "execution_count": 2,
   "metadata": {},
   "outputs": [
    {
     "output_type": "stream",
     "name": "stdout",
     "text": [
      "<class 'int'>\n"
     ]
    }
   ],
   "source": [
    "x = 1\n",
    "print(type(x))"
   ]
  },
  {
   "source": [
    "The class of the object x is int"
   ],
   "cell_type": "markdown",
   "metadata": {}
  },
  {
   "source": [
    "# Creating classes in Python"
   ],
   "cell_type": "markdown",
   "metadata": {}
  },
  {
   "source": [
    "We'll create the \"point\" class."
   ],
   "cell_type": "markdown",
   "metadata": {}
  },
  {
   "source": [
    "We'll use the Pascal naming convention for class names. First letter of every word should be capital (also called Upper Camel). No underscores (_) are used."
   ],
   "cell_type": "markdown",
   "metadata": {}
  },
  {
   "source": [
    "We start with the `class` keyword.  \n",
    "Inside the `class` block we define functions using the `def` keyword.  \n",
    "All functions in our class should have at least one parameter. By convention we call this parameter `self`"
   ],
   "cell_type": "markdown",
   "metadata": {}
  },
  {
   "cell_type": "code",
   "execution_count": 4,
   "metadata": {},
   "outputs": [],
   "source": [
    "class Point:\n",
    "    def draw(self):\n",
    "        print(\"draw\")"
   ]
  },
  {
   "source": [
    "Now we can create an instance of class Point, by calling Point as a function. We can assign the object"
   ],
   "cell_type": "markdown",
   "metadata": {}
  },
  {
   "cell_type": "code",
   "execution_count": 5,
   "metadata": {},
   "outputs": [],
   "source": [
    "point = Point()"
   ]
  },
  {
   "cell_type": "code",
   "execution_count": 7,
   "metadata": {},
   "outputs": [
    {
     "output_type": "stream",
     "name": "stdout",
     "text": [
      "<class '__main__.Point'>\n"
     ]
    }
   ],
   "source": [
    "print(type(point))"
   ]
  },
  {
   "cell_type": "code",
   "execution_count": 8,
   "metadata": {},
   "outputs": [
    {
     "output_type": "execute_result",
     "data": {
      "text/plain": [
       "True"
      ]
     },
     "metadata": {},
     "execution_count": 8
    }
   ],
   "source": [
    "isinstance(point, Point)"
   ]
  },
  {
   "source": [
    "# Constructors"
   ],
   "cell_type": "markdown",
   "metadata": {}
  }
 ]
}