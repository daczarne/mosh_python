{
 "metadata": {
  "language_info": {
   "codemirror_mode": {
    "name": "ipython",
    "version": 3
   },
   "file_extension": ".py",
   "mimetype": "text/x-python",
   "name": "python",
   "nbconvert_exporter": "python",
   "pygments_lexer": "ipython3",
   "version": "3.8.3-final"
  },
  "orig_nbformat": 2,
  "kernelspec": {
   "name": "python3",
   "display_name": "Python 3"
  }
 },
 "nbformat": 4,
 "nbformat_minor": 2,
 "cells": [
  {
   "source": [
    "# Polymorphism"
   ],
   "cell_type": "markdown",
   "metadata": {}
  },
  {
   "cell_type": "code",
   "execution_count": 2,
   "metadata": {},
   "outputs": [],
   "source": [
    "from abc import ABC, abstractmethod\n",
    "\n",
    "class UIControl(ABC):\n",
    "    @abstractmethod\n",
    "    def draw(self):\n",
    "        pass\n",
    "\n",
    "\n",
    "class TextBox(UIControl):\n",
    "    def draw(self):\n",
    "        print(\"TextBox\")\n",
    "\n",
    "\n",
    "class DropDownList(UIControl):\n",
    "    def draw(self):\n",
    "        print(\"DropDownList\")\n",
    "\n",
    "\n",
    "# Draw functon that takes a UI control item and calls the draw method on it\n",
    "def draw(control):\n",
    "    control.draw()"
   ]
  },
  {
   "cell_type": "code",
   "execution_count": 3,
   "metadata": {},
   "outputs": [
    {
     "output_type": "stream",
     "name": "stdout",
     "text": [
      "DropDownList\n"
     ]
    }
   ],
   "source": [
    "ddl = DropDownList()\n",
    "draw(ddl)"
   ]
  },
  {
   "cell_type": "code",
   "execution_count": 4,
   "metadata": {},
   "outputs": [
    {
     "output_type": "stream",
     "name": "stdout",
     "text": [
      "TextBox\n"
     ]
    }
   ],
   "source": [
    "tb = TextBox()\n",
    "draw(tb)"
   ]
  },
  {
   "source": [
    "So far so good. But what happens if we re-define the `draw` function so that it takes a list or tuple of elements?"
   ],
   "cell_type": "markdown",
   "metadata": {}
  },
  {
   "cell_type": "code",
   "execution_count": 7,
   "metadata": {},
   "outputs": [],
   "source": [
    "def draw(controls):\n",
    "    for control in controls:\n",
    "        control.draw()"
   ]
  },
  {
   "cell_type": "code",
   "execution_count": 8,
   "metadata": {},
   "outputs": [
    {
     "output_type": "stream",
     "name": "stdout",
     "text": [
      "DropDownList\nTextBox\n"
     ]
    }
   ],
   "source": [
    "draw([ddl, tb])"
   ]
  },
  {
   "source": [
    "Again, it works with no problem! For each of the different UI controls, the `draw` function calls it's corresponding `draw` method.\n",
    "\n",
    "What's interesting here is that the `draw` function does not know what kind of control it's working with when we defined it. This is determined at runtime. We call this *Polymorphism*."
   ],
   "cell_type": "markdown",
   "metadata": {}
  }
 ]
}