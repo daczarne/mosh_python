{
 "metadata": {
  "language_info": {
   "codemirror_mode": {
    "name": "ipython",
    "version": 3
   },
   "file_extension": ".py",
   "mimetype": "text/x-python",
   "name": "python",
   "nbconvert_exporter": "python",
   "pygments_lexer": "ipython3",
   "version": "3.8.3-final"
  },
  "orig_nbformat": 2,
  "kernelspec": {
   "name": "python3",
   "display_name": "Python 3"
  }
 },
 "nbformat": 4,
 "nbformat_minor": 2,
 "cells": [
  {
   "source": [
    "# Constructors\n",
    "\n",
    "We want to supply initial values for x and y coords for our point object. For example `point = Point(1, 2)`. To achieve this we need to define a constructor.\n",
    "\n",
    "A constructor is a special method that is called when we create a new Point object.\n",
    "\n",
    "Since a constructor is a method of our Point class, we need to define it in our definition of the Point class.\n",
    "\n",
    "To define a constructor we use the `__init__` *magic method*. When we create a new point object the `__init__` method is called. We add the `self` parameter, as well as the `x` and `y` parameters.\n",
    "\n",
    "`self` is a reference the current Point object."
   ],
   "cell_type": "markdown",
   "metadata": {}
  },
  {
   "cell_type": "code",
   "execution_count": 1,
   "metadata": {},
   "outputs": [],
   "source": [
    "class Point:\n",
    "    def __init__(self, x, y):\n",
    "        self.x = x\n",
    "        self.y = y\n",
    "    \n",
    "    def draw(self):\n",
    "        print(f\"Point ({self.x}, {self.y})\")"
   ]
  },
  {
   "cell_type": "code",
   "execution_count": 3,
   "metadata": {},
   "outputs": [
    {
     "output_type": "stream",
     "name": "stdout",
     "text": [
      "1\n2\nPoint (1, 2)\n"
     ]
    }
   ],
   "source": [
    "point = Point(1, 2)\n",
    "print(point.x)\n",
    "print(point.y)\n",
    "point.draw()"
   ]
  }
 ]
}