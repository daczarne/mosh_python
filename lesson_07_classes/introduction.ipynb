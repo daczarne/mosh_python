{
 "metadata": {
  "language_info": {
   "codemirror_mode": {
    "name": "ipython",
    "version": 3
   },
   "file_extension": ".py",
   "mimetype": "text/x-python",
   "name": "python",
   "nbconvert_exporter": "python",
   "pygments_lexer": "ipython3",
   "version": "3.8.3-final"
  },
  "orig_nbformat": 2,
  "kernelspec": {
   "name": "python3",
   "display_name": "Python 3"
  }
 },
 "nbformat": 4,
 "nbformat_minor": 2,
 "cells": [
  {
   "source": [
    "# Definitions\n",
    "\n",
    "- class: blueprint for creating new object  \n",
    "- object: an instance of a class\n",
    "\n",
    "Objects have `methods` (functions) and `attributes` (variables that include data about that object)\n",
    "\n",
    "Every object in Python is created using a specific blueprint (a class) for that type of object (eg int, string, bool, etc)\n",
    "\n",
    "For example, we could have:\n",
    "- a the class \"Human\"  \n",
    "- the objects \"John\", \"Mary\", \"Jack\", etc  \n",
    "- the methods \"walk\", \"talk\", \"swim\", etc\n",
    "- the attributes \"eye_color\", \"heigth\", \"wegiht\", etc "
   ],
   "cell_type": "markdown",
   "metadata": {}
  },
  {
   "cell_type": "code",
   "execution_count": 1,
   "metadata": {},
   "outputs": [
    {
     "output_type": "stream",
     "name": "stdout",
     "text": [
      "<class 'int'>\n"
     ]
    }
   ],
   "source": [
    "x = 1\n",
    "print(type(x))"
   ]
  },
  {
   "source": [
    "The class of the object x is int"
   ],
   "cell_type": "markdown",
   "metadata": {}
  }
 ]
}