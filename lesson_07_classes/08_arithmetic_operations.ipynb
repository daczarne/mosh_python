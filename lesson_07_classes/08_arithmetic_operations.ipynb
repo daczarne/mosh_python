{
 "metadata": {
  "language_info": {
   "codemirror_mode": {
    "name": "ipython",
    "version": 3
   },
   "file_extension": ".py",
   "mimetype": "text/x-python",
   "name": "python",
   "nbconvert_exporter": "python",
   "pygments_lexer": "ipython3",
   "version": "3.8.3-final"
  },
  "orig_nbformat": 2,
  "kernelspec": {
   "name": "python3",
   "display_name": "Python 3"
  }
 },
 "nbformat": 4,
 "nbformat_minor": 2,
 "cells": [
  {
   "source": [
    "# Arithmetic Operations\n",
    "\n",
    "We also have magic methods for arithmetic operations like `__add__` (for addition), `__sub__` (for substraction), `__mul__` (for multiplication), etc. "
   ],
   "cell_type": "markdown",
   "metadata": {}
  },
  {
   "cell_type": "code",
   "execution_count": 12,
   "metadata": {},
   "outputs": [],
   "source": [
    "class Point:\n",
    "    def __init__(self, x, y):\n",
    "        self.x = x\n",
    "        self.y = y\n",
    "\n",
    "    def __eq__(self, other):\n",
    "        return self.x == other.x and self.y == other.y\n",
    "\n",
    "    def __gt__(self, other):\n",
    "        return self.x > other.x and self.y > other.y\n",
    "    \n",
    "    def __add__(self, other):\n",
    "        return Point(self.x + other.x, self.y + other.y)\n",
    "        \n",
    "    def draw(self):\n",
    "        print(f\"Point ({self.x}, {self.y})\")"
   ]
  },
  {
   "cell_type": "code",
   "execution_count": 13,
   "metadata": {},
   "outputs": [
    {
     "output_type": "stream",
     "name": "stdout",
     "text": [
      "<__main__.Point object at 0x0000022CF1B55640>\n"
     ]
    }
   ],
   "source": [
    "point1 = Point(1, 2)\n",
    "point2 = Point(3, 4)\n",
    "print(point1 + point2)"
   ]
  },
  {
   "source": [
    "Python interpreter can't print the result because the `__str__` method in not in the class definition. We could instead assign the result of `point1 + point2` to an object, and then print that object."
   ],
   "cell_type": "markdown",
   "metadata": {}
  },
  {
   "cell_type": "code",
   "execution_count": 20,
   "metadata": {},
   "outputs": [
    {
     "output_type": "stream",
     "name": "stdout",
     "text": [
      "(4, 6)\nPoint (4, 6)\n"
     ]
    }
   ],
   "source": [
    "combine = point1 + point2\n",
    "print(f\"({combine.x}, {combine.y})\")\n",
    "combine.draw()"
   ]
  },
  {
   "source": [
    "Or, we could add the `__str__` magic method to the `Point` class"
   ],
   "cell_type": "markdown",
   "metadata": {}
  },
  {
   "cell_type": "code",
   "execution_count": 9,
   "metadata": {},
   "outputs": [],
   "source": [
    "class Point:\n",
    "    def __init__(self, x, y):\n",
    "        self.x = x\n",
    "        self.y = y\n",
    "\n",
    "    def __eq__(self, other):\n",
    "        return self.x == other.x and self.y == other.y\n",
    "\n",
    "    def __gt__(self, other):\n",
    "        return self.x > other.x and self.y > other.y\n",
    "    \n",
    "    def __add__(self, other):\n",
    "        return Point(self.x + other.x, self.y + other.y)\n",
    "    \n",
    "    def __str__(self):\n",
    "        return f\"({self.x}, {self.y})\"\n",
    "\n",
    "    def draw(self):\n",
    "        print(f\"Point ({self.x}, {self.y})\")"
   ]
  },
  {
   "cell_type": "code",
   "execution_count": 10,
   "metadata": {},
   "outputs": [
    {
     "output_type": "stream",
     "name": "stdout",
     "text": [
      "(4, 6)\n"
     ]
    }
   ],
   "source": [
    "point1 = Point(1, 2)\n",
    "point2 = Point(3, 4)\n",
    "print(point1 + point2)"
   ]
  }
 ]
}