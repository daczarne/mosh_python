{
 "metadata": {
  "language_info": {
   "codemirror_mode": {
    "name": "ipython",
    "version": 3
   },
   "file_extension": ".py",
   "mimetype": "text/x-python",
   "name": "python",
   "nbconvert_exporter": "python",
   "pygments_lexer": "ipython3",
   "version": "3.8.3-final"
  },
  "orig_nbformat": 2,
  "kernelspec": {
   "name": "python3",
   "display_name": "Python 3"
  }
 },
 "nbformat": 4,
 "nbformat_minor": 2,
 "cells": [
  {
   "source": [
    "# Comparing Objects\n",
    "\n",
    "Suppose we have two objects of the following class and we want to compare them."
   ],
   "cell_type": "markdown",
   "metadata": {}
  },
  {
   "cell_type": "code",
   "execution_count": 1,
   "metadata": {},
   "outputs": [],
   "source": [
    "class Point:\n",
    "    def __init__(self, x, y):\n",
    "        self.x = x\n",
    "        self.y = y\n",
    "\n",
    "    def draw(self):\n",
    "        print(f\"Point ({self.x}, {self.y})\")"
   ]
  },
  {
   "cell_type": "code",
   "execution_count": 2,
   "metadata": {},
   "outputs": [
    {
     "output_type": "stream",
     "name": "stdout",
     "text": [
      "False\n"
     ]
    }
   ],
   "source": [
    "point1 = Point(1, 2)\n",
    "point2 = Point(1, 2)\n",
    "print(point1 == point2)"
   ]
  },
  {
   "source": [
    "The reason why Python interpreter is saying that they are not equal is because it is comparing the addresses in memory. In order for the objects to be compared based on their content, we need to include the `__eq__` magic class on our Point object."
   ],
   "cell_type": "markdown",
   "metadata": {}
  },
  {
   "cell_type": "code",
   "execution_count": 3,
   "metadata": {},
   "outputs": [],
   "source": [
    "class Point:\n",
    "    def __init__(self, x, y):\n",
    "        self.x = x\n",
    "        self.y = y\n",
    "\n",
    "    def __eq__(self, other):\n",
    "        return self.x == other.x and self.y == other.y\n",
    "        \n",
    "    def draw(self):\n",
    "        print(f\"Point ({self.x}, {self.y})\")"
   ]
  },
  {
   "cell_type": "code",
   "execution_count": 4,
   "metadata": {},
   "outputs": [
    {
     "output_type": "stream",
     "name": "stdout",
     "text": [
      "True\n"
     ]
    }
   ],
   "source": [
    "point1 = Point(1, 2)\n",
    "point2 = Point(1, 2)\n",
    "print(point1 == point2)"
   ]
  },
  {
   "source": [
    "What if we want to compare whether point1 is greater than point2? In this case we'll get a `TypeError` since the greater than operation is not defined for the class Point. \n",
    "\n",
    "To add it we need to define the `__gt__` magic method."
   ],
   "cell_type": "markdown",
   "metadata": {}
  },
  {
   "cell_type": "code",
   "execution_count": 5,
   "metadata": {},
   "outputs": [],
   "source": [
    "class Point:\n",
    "    def __init__(self, x, y):\n",
    "        self.x = x\n",
    "        self.y = y\n",
    "\n",
    "    def __eq__(self, other):\n",
    "        return self.x == other.x and self.y == other.y\n",
    "\n",
    "    def __gt__(self, other):\n",
    "        return self.x > other.x and self.y > other.y\n",
    "        \n",
    "    def draw(self):\n",
    "        print(f\"Point ({self.x}, {self.y})\")"
   ]
  },
  {
   "cell_type": "code",
   "execution_count": 6,
   "metadata": {},
   "outputs": [
    {
     "output_type": "stream",
     "name": "stdout",
     "text": [
      "True\n"
     ]
    }
   ],
   "source": [
    "point1 = Point(10, 20)\n",
    "point2 = Point(1, 2)\n",
    "print(point1 > point2)"
   ]
  },
  {
   "source": [
    "What about the less than operation?"
   ],
   "cell_type": "markdown",
   "metadata": {}
  },
  {
   "cell_type": "code",
   "execution_count": 7,
   "metadata": {},
   "outputs": [
    {
     "output_type": "stream",
     "name": "stdout",
     "text": [
      "False\n"
     ]
    }
   ],
   "source": [
    "print(point1 < point2)"
   ]
  },
  {
   "source": [
    "We do not need to define both the `__gt__` and `__lt__` magic classes. Once one is present in our class definition, the other one will work as well."
   ],
   "cell_type": "markdown",
   "metadata": {}
  }
 ]
}