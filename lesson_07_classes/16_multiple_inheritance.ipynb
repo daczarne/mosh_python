{
 "metadata": {
  "language_info": {
   "codemirror_mode": {
    "name": "ipython",
    "version": 3
   },
   "file_extension": ".py",
   "mimetype": "text/x-python",
   "name": "python",
   "nbconvert_exporter": "python",
   "pygments_lexer": "ipython3",
   "version": "3.8.3-final"
  },
  "orig_nbformat": 2,
  "kernelspec": {
   "name": "python3",
   "display_name": "Python 3"
  }
 },
 "nbformat": 4,
 "nbformat_minor": 2,
 "cells": [
  {
   "source": [
    "# Multiple inheritance\n",
    "\n",
    "In Python a class can have multiple base classes. We call this *Multiple inheritance*. Just as with multi-level inheritance it can produce issues and make code maintenance more costly, so you should keep it to a minimum."
   ],
   "cell_type": "markdown",
   "metadata": {}
  },
  {
   "cell_type": "code",
   "execution_count": 2,
   "metadata": {},
   "outputs": [],
   "source": [
    "class Employee:\n",
    "    def greet(self):\n",
    "        print(\"Employee Greet\")\n",
    "\n",
    "\n",
    "class Person:\n",
    "    def greet(self):\n",
    "        print(\"Person Greet\")\n",
    "\n",
    "\n",
    "class Manager(Employee, Person):\n",
    "    pass"
   ]
  },
  {
   "cell_type": "code",
   "execution_count": 3,
   "metadata": {},
   "outputs": [
    {
     "output_type": "stream",
     "name": "stdout",
     "text": [
      "Employee Greet\n"
     ]
    }
   ],
   "source": [
    "manager = Manager()\n",
    "manager.greet()"
   ]
  },
  {
   "source": [
    "Here we get the greet method from the Employee class, since this one was added first. What Python interpreter does is to look in the Manager class and see if it can find a greet method. Since it can't, it'll move on to the first parent class (ie Employee). Since it'll find a greet method there, it stops."
   ],
   "cell_type": "markdown",
   "metadata": {}
  },
  {
   "cell_type": "code",
   "execution_count": 4,
   "metadata": {},
   "outputs": [],
   "source": [
    "class Manager(Person, Employee):\n",
    "    pass"
   ]
  },
  {
   "cell_type": "code",
   "execution_count": 5,
   "metadata": {},
   "outputs": [
    {
     "output_type": "stream",
     "name": "stdout",
     "text": [
      "Person Greet\n"
     ]
    }
   ],
   "source": [
    "manager = Manager()\n",
    "manager.greet()"
   ]
  },
  {
   "source": [
    "When using multiiple inheritance, make sure to make your classes as small and specific as possible."
   ],
   "cell_type": "markdown",
   "metadata": {}
  },
  {
   "cell_type": "code",
   "execution_count": null,
   "metadata": {},
   "outputs": [],
   "source": [
    "# Any object that knows how to fly should have this base class\n",
    "class Flyer:\n",
    "    def fly(self):\n",
    "        print(\"I can fly\")\n",
    "\n",
    "\n",
    "# Any object that knows how to swim should have this base class\n",
    "class Swimmer:\n",
    "    def swim(self):\n",
    "        print(\"I can swim\")\n",
    "\n",
    "\n",
    "# Ducks can fly and swim, so it'll have both base classes\n",
    "class Duck(Flyer, Swimmer):\n",
    "    pass"
   ]
  }
 ]
}