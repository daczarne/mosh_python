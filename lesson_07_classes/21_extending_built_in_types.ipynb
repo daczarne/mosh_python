{
 "metadata": {
  "language_info": {
   "codemirror_mode": {
    "name": "ipython",
    "version": 3
   },
   "file_extension": ".py",
   "mimetype": "text/x-python",
   "name": "python",
   "nbconvert_exporter": "python",
   "pygments_lexer": "ipython3",
   "version": "3.8.3-final"
  },
  "orig_nbformat": 2,
  "kernelspec": {
   "name": "python3",
   "display_name": "Python 3"
  }
 },
 "nbformat": 4,
 "nbformat_minor": 2,
 "cells": [
  {
   "source": [
    "# Extending build-in classes\n",
    "\n",
    "We can define new classes that inherit all their behaviour from the built-in classes and add new methods to them."
   ],
   "cell_type": "markdown",
   "metadata": {}
  },
  {
   "cell_type": "code",
   "execution_count": 2,
   "metadata": {},
   "outputs": [],
   "source": [
    "class Text(str):\n",
    "    def duplicate(self):\n",
    "        return self + self"
   ]
  },
  {
   "cell_type": "code",
   "execution_count": 3,
   "metadata": {},
   "outputs": [
    {
     "output_type": "stream",
     "name": "stdout",
     "text": [
      "PythonPython\n"
     ]
    }
   ],
   "source": [
    "text = Text(\"Python\")\n",
    "print(text.duplicate())"
   ]
  },
  {
   "cell_type": "code",
   "execution_count": 4,
   "metadata": {},
   "outputs": [],
   "source": [
    "class TrackeableList(list):\n",
    "    def append(self, object):\n",
    "        print(\"Append called\")\n",
    "        super().append(object)"
   ]
  },
  {
   "cell_type": "code",
   "execution_count": 7,
   "metadata": {},
   "outputs": [
    {
     "output_type": "stream",
     "name": "stdout",
     "text": [
      "Append called\n['1']\n"
     ]
    }
   ],
   "source": [
    "my_list = TrackeableList()\n",
    "my_list.append(\"1\")\n",
    "print(my_list)"
   ]
  }
 ]
}