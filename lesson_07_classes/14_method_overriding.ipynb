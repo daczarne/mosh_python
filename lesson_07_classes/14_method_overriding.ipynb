{
 "metadata": {
  "language_info": {
   "codemirror_mode": {
    "name": "ipython",
    "version": 3
   },
   "file_extension": ".py",
   "mimetype": "text/x-python",
   "name": "python",
   "nbconvert_exporter": "python",
   "pygments_lexer": "ipython3",
   "version": "3.8.3-final"
  },
  "orig_nbformat": 2,
  "kernelspec": {
   "name": "python3",
   "display_name": "Python 3"
  }
 },
 "nbformat": 4,
 "nbformat_minor": 2,
 "cells": [
  {
   "source": [
    "# Method overriding\n",
    "\n",
    "Suppose we want to add a constructor in the Mammal class that initializes the weight at 2."
   ],
   "cell_type": "markdown",
   "metadata": {}
  },
  {
   "cell_type": "code",
   "execution_count": 1,
   "metadata": {},
   "outputs": [],
   "source": [
    "class Animal:\n",
    "    def __init__(self):\n",
    "        self.age = 1\n",
    "\n",
    "    def eat(self):\n",
    "        print(\"eat\")\n",
    "\n",
    "\n",
    "class Mammal(Animal):\n",
    "    def walk(self):\n",
    "        print(\"walk\")\n",
    "\n",
    "    def __init__(self):\n",
    "        self.weight = 2"
   ]
  },
  {
   "cell_type": "code",
   "execution_count": 3,
   "metadata": {},
   "outputs": [
    {
     "output_type": "error",
     "ename": "AttributeError",
     "evalue": "'Mammal' object has no attribute 'age'",
     "traceback": [
      "\u001b[1;31m---------------------------------------------------------------------------\u001b[0m",
      "\u001b[1;31mAttributeError\u001b[0m                            Traceback (most recent call last)",
      "\u001b[1;32m<ipython-input-3-3d64e0aa0cbe>\u001b[0m in \u001b[0;36m<module>\u001b[1;34m\u001b[0m\n\u001b[0;32m      1\u001b[0m \u001b[0mm\u001b[0m \u001b[1;33m=\u001b[0m \u001b[0mMammal\u001b[0m\u001b[1;33m(\u001b[0m\u001b[1;33m)\u001b[0m\u001b[1;33m\u001b[0m\u001b[1;33m\u001b[0m\u001b[0m\n\u001b[1;32m----> 2\u001b[1;33m \u001b[0mprint\u001b[0m\u001b[1;33m(\u001b[0m\u001b[0mm\u001b[0m\u001b[1;33m.\u001b[0m\u001b[0mage\u001b[0m\u001b[1;33m)\u001b[0m\u001b[1;33m\u001b[0m\u001b[1;33m\u001b[0m\u001b[0m\n\u001b[0m",
      "\u001b[1;31mAttributeError\u001b[0m: 'Mammal' object has no attribute 'age'"
     ]
    }
   ],
   "source": [
    "m = Mammal()\n",
    "print(m.age)"
   ]
  },
  {
   "source": [
    "The reason why we get an error is that the weight constructor replaced the age constructor from the base Animal class. This behaviour is called *method overriding*. If we want to execute both constructors, we need to use the `super` function in the constructor of the Mammal class. This will allow us to get access to the super-class (Animal).\n",
    "\n",
    "We'll include some print statements to see the flow.\n"
   ],
   "cell_type": "markdown",
   "metadata": {}
  },
  {
   "cell_type": "code",
   "execution_count": 12,
   "metadata": {},
   "outputs": [],
   "source": [
    "class Animal:\n",
    "    def __init__(self):\n",
    "        print(\"Animal constructor\")\n",
    "        self.age = 1\n",
    "\n",
    "    def eat(self):\n",
    "        print(\"eat\")\n",
    "\n",
    "\n",
    "class Mammal(Animal):\n",
    "    def __init__(self):\n",
    "        super().__init__()\n",
    "        print(\"Mammal constructor\")\n",
    "        self.weight = 2\n",
    "\n",
    "    def walk(self):\n",
    "        print(\"walk\")"
   ]
  },
  {
   "cell_type": "code",
   "execution_count": 13,
   "metadata": {},
   "outputs": [
    {
     "output_type": "stream",
     "name": "stdout",
     "text": [
      "Animal constructor\nMammal constructor\n1\n2\n"
     ]
    }
   ],
   "source": [
    "m = Mammal()\n",
    "print(m.age)\n",
    "print(m.weight)"
   ]
  },
  {
   "source": [
    "We can change the order in which the constructors are called. In this case, the Mammal object will be initialized before calling the Animal constructor. To achive this we simply move the `super` call to the end of the constructor in the Mammal class."
   ],
   "cell_type": "markdown",
   "metadata": {}
  },
  {
   "cell_type": "code",
   "execution_count": 15,
   "metadata": {},
   "outputs": [],
   "source": [
    "class Animal:\n",
    "    def __init__(self):\n",
    "        print(\"Animal constructor\")\n",
    "        self.age = 1\n",
    "\n",
    "    def eat(self):\n",
    "        print(\"eat\")\n",
    "\n",
    "\n",
    "class Mammal(Animal):\n",
    "    def __init__(self):\n",
    "        print(\"Mammal constructor\")\n",
    "        self.weight = 2\n",
    "        super().__init__()\n",
    "\n",
    "    def walk(self):\n",
    "        print(\"walk\")"
   ]
  },
  {
   "cell_type": "code",
   "execution_count": 16,
   "metadata": {},
   "outputs": [
    {
     "output_type": "stream",
     "name": "stdout",
     "text": [
      "Mammal constructor\nAnimal constructor\n"
     ]
    }
   ],
   "source": [
    "m = Mammal()"
   ]
  }
 ]
}