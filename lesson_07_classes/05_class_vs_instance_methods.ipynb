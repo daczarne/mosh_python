{
 "metadata": {
  "language_info": {
   "codemirror_mode": {
    "name": "ipython",
    "version": 3
   },
   "file_extension": ".py",
   "mimetype": "text/x-python",
   "name": "python",
   "nbconvert_exporter": "python",
   "pygments_lexer": "ipython3",
   "version": "3.8.3-final"
  },
  "orig_nbformat": 2,
  "kernelspec": {
   "name": "python3",
   "display_name": "Python 3"
  }
 },
 "nbformat": 4,
 "nbformat_minor": 2,
 "cells": [
  {
   "source": [
    "# Class Vs Instance Methods\n",
    "\n",
    "Same as with attributes, we also have class and instance methods. This comes handy when defining *factory* methods. These are methods that generate pre defined instaces of a class.\n",
    "\n",
    "In order to tell Python that a method is a class method, we use the decorator `@classmethod` before defining it. By convention, the first argument of class methods is `cls`.\n",
    "\n",
    "For example, let's create a method called `zero` that when called, will create an object of the Point class with x and y values set to zero."
   ],
   "cell_type": "markdown",
   "metadata": {}
  },
  {
   "cell_type": "code",
   "execution_count": 2,
   "metadata": {},
   "outputs": [],
   "source": [
    "class Point:\n",
    "    def __init__(self, x, y):\n",
    "        self.x = x\n",
    "        self.y = y\n",
    "    \n",
    "    @classmethod\n",
    "    def zero(cls):\n",
    "        return cls(0, 0)\n",
    "\n",
    "    def draw(self):\n",
    "        print(f\"Point ({self.x}, {self.y})\")"
   ]
  },
  {
   "cell_type": "code",
   "execution_count": 3,
   "metadata": {},
   "outputs": [
    {
     "output_type": "stream",
     "name": "stdout",
     "text": [
      "Point (0, 0)\n"
     ]
    }
   ],
   "source": [
    "point = Point.zero()\n",
    "point.draw()"
   ]
  }
 ]
}