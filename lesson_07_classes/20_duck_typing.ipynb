{
 "metadata": {
  "language_info": {
   "codemirror_mode": {
    "name": "ipython",
    "version": 3
   },
   "file_extension": ".py",
   "mimetype": "text/x-python",
   "name": "python",
   "nbconvert_exporter": "python",
   "pygments_lexer": "ipython3",
   "version": 3
  },
  "orig_nbformat": 2
 },
 "nbformat": 4,
 "nbformat_minor": 2,
 "cells": [
  {
   "source": [
    "# Duck Typing\n",
    "\n",
    "To achieve polymorphism we started by defining a base class with an abstract method. But since Python is dynamicly typed we don't really need the `UIControl` base class. This stems from the fact that we never specify a type for the `controls` parameter in the `draw` function. As long as it is itearble and it's iitems have a `draw` method, Python will not crush. This is called *Duck Typing*.\n",
    "\n",
    "This does not mean that having a base abstract class is a bad practice. To the contrary it's a good one since it enforces a common interface across it's derivative classes."
   ],
   "cell_type": "markdown",
   "metadata": {}
  },
  {
   "cell_type": "code",
   "execution_count": null,
   "metadata": {},
   "outputs": [],
   "source": [
    "class TextBox:\n",
    "    def draw(self):\n",
    "        print(\"TextBox\")\n",
    "\n",
    "\n",
    "class DropDownList:\n",
    "    def draw(self):\n",
    "        print(\"DropDownList\")\n",
    "\n",
    "\n",
    "# Draw functon that takes a UI control item and calls the draw method on it\n",
    "def draw(control):\n",
    "    control.draw()"
   ]
  }
 ]
}