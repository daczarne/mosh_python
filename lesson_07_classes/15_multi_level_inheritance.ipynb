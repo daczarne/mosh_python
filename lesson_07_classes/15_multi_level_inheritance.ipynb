{
 "metadata": {
  "language_info": {
   "codemirror_mode": {
    "name": "ipython",
    "version": 3
   },
   "file_extension": ".py",
   "mimetype": "text/x-python",
   "name": "python",
   "nbconvert_exporter": "python",
   "pygments_lexer": "ipython3",
   "version": 3
  },
  "orig_nbformat": 2
 },
 "nbformat": 4,
 "nbformat_minor": 2,
 "cells": [
  {
   "source": [
    "# Multi-level inheritance\n",
    "\n",
    "We can keep adding parent - child classes for as long as we want. This is called multi-level inheritance. But you whould avoid it past the 2nd or 3rd level. For example, here we define an Animal class, a Bird class that inherits from the Animal class, and a Chicken class that inherits from the Bird class. Seems logical to build a class inheritance flow like this, but chickens can't fly!!"
   ],
   "cell_type": "markdown",
   "metadata": {}
  },
  {
   "cell_type": "code",
   "execution_count": null,
   "metadata": {},
   "outputs": [],
   "source": [
    "class Animal:\n",
    "    def eat(self):\n",
    "        print(\"eat\")\n",
    "\n",
    "\n",
    "class Bird(Aniaml):\n",
    "    def fly(self):\n",
    "        print(\"fly\")\n",
    "\n",
    "\n",
    "class Chicken(Bird):\n",
    "    pass"
   ]
  }
 ]
}