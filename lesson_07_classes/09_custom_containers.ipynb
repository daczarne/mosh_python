{
 "metadata": {
  "language_info": {
   "codemirror_mode": {
    "name": "ipython",
    "version": 3
   },
   "file_extension": ".py",
   "mimetype": "text/x-python",
   "name": "python",
   "nbconvert_exporter": "python",
   "pygments_lexer": "ipython3",
   "version": "3.8.3-final"
  },
  "orig_nbformat": 2,
  "kernelspec": {
   "name": "python3",
   "display_name": "Python 3"
  }
 },
 "nbformat": 4,
 "nbformat_minor": 2,
 "cells": [
  {
   "source": [
    "# Making Custom Containers\n",
    "\n",
    "Lists, sets, dictionaries are data types or container types. Let's create a new one. We'll call it `TagCloud` to keep track of the various tags on a blog."
   ],
   "cell_type": "markdown",
   "metadata": {}
  },
  {
   "cell_type": "code",
   "execution_count": 1,
   "metadata": {},
   "outputs": [],
   "source": [
    "class TagCloud:\n",
    "    # We init the instance as an empty dictionary\n",
    "    def __init__(self):\n",
    "        self.tags = {}\n",
    "\n",
    "    # Method for adding tags\n",
    "    # If the tag already exists in the instance, we'll increment it by one\n",
    "    # If the tag does not exist in the instance, we'll initialize it at 1\n",
    "    def add(self, tag):\n",
    "        self.tags[tag] = self.tags.get(tag, 0) + 1"
   ]
  },
  {
   "source": [
    "As an example, let's create an instance of the TagCloud class and add \"python\" three times"
   ],
   "cell_type": "markdown",
   "metadata": {}
  },
  {
   "cell_type": "code",
   "execution_count": 2,
   "metadata": {},
   "outputs": [
    {
     "output_type": "stream",
     "name": "stdout",
     "text": [
      "{'python': 3}\n"
     ]
    }
   ],
   "source": [
    "cloud = TagCloud()\n",
    "cloud.add(\"python\")\n",
    "cloud.add(\"python\")\n",
    "cloud.add(\"python\")\n",
    "print(cloud.tags)"
   ]
  },
  {
   "source": [
    "We get a dictionary where the tag \"python\" has a value of 3.\n",
    "\n",
    "One problem with normal dicts is that it is case sensitive. So \"Python\" and \"python\" will be counted differently."
   ],
   "cell_type": "markdown",
   "metadata": {}
  },
  {
   "cell_type": "code",
   "execution_count": 3,
   "metadata": {},
   "outputs": [
    {
     "output_type": "stream",
     "name": "stdout",
     "text": [
      "{'Python': 1, 'python': 2}\n"
     ]
    }
   ],
   "source": [
    "cloud = TagCloud()\n",
    "cloud.add(\"Python\")\n",
    "cloud.add(\"python\")\n",
    "cloud.add(\"python\")\n",
    "print(cloud.tags)"
   ]
  },
  {
   "source": [
    "We can change this by using the `lower` method in our class definition, both when setting it as when reading it."
   ],
   "cell_type": "markdown",
   "metadata": {}
  },
  {
   "cell_type": "code",
   "execution_count": 4,
   "metadata": {},
   "outputs": [],
   "source": [
    "class TagCloud:\n",
    "    def __init__(self):\n",
    "        self.tags = {}\n",
    "\n",
    "    def add(self, tag):\n",
    "        self.tags[tag.lower()] = self.tags.get(tag.lower(), 0) + 1"
   ]
  },
  {
   "cell_type": "code",
   "execution_count": 5,
   "metadata": {},
   "outputs": [
    {
     "output_type": "stream",
     "name": "stdout",
     "text": [
      "{'python': 3}\n"
     ]
    }
   ],
   "source": [
    "cloud = TagCloud()\n",
    "cloud.add(\"Python\")\n",
    "cloud.add(\"python\")\n",
    "cloud.add(\"python\")\n",
    "print(cloud.tags)"
   ]
  },
  {
   "source": [
    "Next we'll implement the `__getitem__` magic method so that we can use it to get the count of a tag by using []"
   ],
   "cell_type": "markdown",
   "metadata": {}
  },
  {
   "cell_type": "code",
   "execution_count": 8,
   "metadata": {},
   "outputs": [],
   "source": [
    "class TagCloud:\n",
    "    def __init__(self):\n",
    "        self.tags = {}\n",
    "\n",
    "    def add(self, tag):\n",
    "        self.tags[tag.lower()] = self.tags.get(tag.lower(), 0) + 1\n",
    "\n",
    "    # The argument \"tag\" is the key that we want to get\n",
    "    # We add the default value of zero to the get method. This way if the tag is not found, we'll get a 0\n",
    "    def __getitem__(self, tag):\n",
    "        return self.tags.get(tag.lower(), 0)\n",
    "\n",
    "\n",
    "cloud = TagCloud()\n",
    "cloud.add(\"Python\")\n",
    "cloud.add(\"python\")\n",
    "cloud.add(\"python\")"
   ]
  },
  {
   "cell_type": "code",
   "execution_count": 7,
   "metadata": {},
   "outputs": [
    {
     "output_type": "execute_result",
     "data": {
      "text/plain": [
       "3"
      ]
     },
     "metadata": {},
     "execution_count": 7
    }
   ],
   "source": [
    "cloud[\"Python\"]"
   ]
  },
  {
   "source": [
    "If we also want to be able to set the value of a tag, we need to implement the `__setitem__` magic method."
   ],
   "cell_type": "markdown",
   "metadata": {}
  },
  {
   "cell_type": "code",
   "execution_count": 9,
   "metadata": {},
   "outputs": [],
   "source": [
    "class TagCloud:\n",
    "    def __init__(self):\n",
    "        self.tags = {}\n",
    "\n",
    "    def add(self, tag):\n",
    "        self.tags[tag.lower()] = self.tags.get(tag.lower(), 0) + 1\n",
    "\n",
    "    def __getitem__(self, tag):\n",
    "        return self.tags.get(tag.lower(), 0)\n",
    "\n",
    "    # the \"count\" argument is the value that will be assigned to the \"tag\" key\n",
    "    def __setitem__(self, tag, count):\n",
    "        self.tags[tag.lower()] = count"
   ]
  },
  {
   "source": [
    "Now we can set the value of a key."
   ],
   "cell_type": "markdown",
   "metadata": {}
  },
  {
   "cell_type": "code",
   "execution_count": 10,
   "metadata": {},
   "outputs": [
    {
     "output_type": "execute_result",
     "data": {
      "text/plain": [
       "10"
      ]
     },
     "metadata": {},
     "execution_count": 10
    }
   ],
   "source": [
    "cloud = TagCloud()\n",
    "cloud[\"Python\"] = 10\n",
    "cloud[\"python\"]"
   ]
  },
  {
   "source": [
    "In order to be able to get the number of items in out TagCloud class, we need to implement the `__len__` magic method."
   ],
   "cell_type": "markdown",
   "metadata": {}
  },
  {
   "cell_type": "code",
   "execution_count": 11,
   "metadata": {},
   "outputs": [],
   "source": [
    "class TagCloud:\n",
    "    def __init__(self):\n",
    "        self.tags = {}\n",
    "\n",
    "    def add(self, tag):\n",
    "        self.tags[tag.lower()] = self.tags.get(tag.lower(), 0) + 1\n",
    "\n",
    "    def __getitem__(self, tag):\n",
    "        return self.tags.get(tag.lower(), 0)\n",
    "\n",
    "    def __setitem__(self, tag, count):\n",
    "        self.tags[tag.lower()] = count\n",
    "\n",
    "    def __len__(self):\n",
    "        return len(self.tags)"
   ]
  },
  {
   "cell_type": "code",
   "execution_count": 12,
   "metadata": {},
   "outputs": [
    {
     "output_type": "execute_result",
     "data": {
      "text/plain": [
       "4"
      ]
     },
     "metadata": {},
     "execution_count": 12
    }
   ],
   "source": [
    "cloud = TagCloud()\n",
    "cloud[\"python\"] = 10\n",
    "cloud[\"r\"] = 20\n",
    "cloud[\"javascript\"] = 30\n",
    "cloud[\"cpp\"] = 5\n",
    "len(cloud.tags)"
   ]
  },
  {
   "source": [
    "Lastly, in order to make our class iterable, we need to define the `__iter__` magic method. To do this we use the `iter()` function to get an iterator object. An iterator object is an object that *walks* a container, and gets one item at a time."
   ],
   "cell_type": "markdown",
   "metadata": {}
  },
  {
   "cell_type": "code",
   "execution_count": 15,
   "metadata": {},
   "outputs": [],
   "source": [
    "class TagCloud:\n",
    "    def __init__(self):\n",
    "        self.tags = {}\n",
    "\n",
    "    def add(self, tag):\n",
    "        self.tags[tag.lower()] = self.tags.get(tag.lower(), 0) + 1\n",
    "\n",
    "    def __getitem__(self, tag):\n",
    "        return self.tags.get(tag.lower(), 0)\n",
    "\n",
    "    def __setitem__(self, tag, count):\n",
    "        self.tags[tag.lower()] = count\n",
    "\n",
    "    def __len__(self):\n",
    "        return len(self.tags)\n",
    "\n",
    "    # We call the iter function and specify what we want to iterate over\n",
    "    def __iter__(self):\n",
    "        return iter(self.tags)"
   ]
  },
  {
   "cell_type": "code",
   "execution_count": 16,
   "metadata": {},
   "outputs": [
    {
     "output_type": "execute_result",
     "data": {
      "text/plain": [
       "{'python': 10, 'r': 20, 'javascript': 30, 'cpp': 5}"
      ]
     },
     "metadata": {},
     "execution_count": 16
    }
   ],
   "source": [
    "cloud.tags"
   ]
  },
  {
   "cell_type": "code",
   "execution_count": 17,
   "metadata": {},
   "outputs": [
    {
     "output_type": "stream",
     "name": "stdout",
     "text": [
      "10\n20\n30\n5\n"
     ]
    }
   ],
   "source": [
    "for item in cloud.tags:\n",
    "    print(cloud.tags[item])"
   ]
  }
 ]
}