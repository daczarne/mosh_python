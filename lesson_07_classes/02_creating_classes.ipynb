{
 "metadata": {
  "language_info": {
   "codemirror_mode": {
    "name": "ipython",
    "version": 3
   },
   "file_extension": ".py",
   "mimetype": "text/x-python",
   "name": "python",
   "nbconvert_exporter": "python",
   "pygments_lexer": "ipython3",
   "version": "3.8.3-final"
  },
  "orig_nbformat": 2,
  "kernelspec": {
   "name": "python3",
   "display_name": "Python 3"
  }
 },
 "nbformat": 4,
 "nbformat_minor": 2,
 "cells": [
  {
   "source": [
    "# Creating classes in Python\n",
    "\n",
    "We'll create the `Point` class. \n",
    "\n",
    "When creating classes we use the Pascal naming convention. First letter of every word should be capital (also called Upper Camel). No underscores (_) are used.\n",
    "\n",
    "We start with the `class` keyword.  \n",
    "Inside the `class` block we define functions using the `def` keyword.  \n",
    "All functions in our class should have at least one parameter. By convention we call this parameter `self`"
   ],
   "cell_type": "markdown",
   "metadata": {}
  },
  {
   "cell_type": "code",
   "execution_count": 1,
   "metadata": {},
   "outputs": [],
   "source": [
    "class Point:\n",
    "    def draw(self):\n",
    "        print(\"draw\")"
   ]
  },
  {
   "source": [
    "Now we can create an instance of class Point, by calling Point as a function. We can assign the object"
   ],
   "cell_type": "markdown",
   "metadata": {}
  },
  {
   "cell_type": "code",
   "execution_count": 2,
   "metadata": {},
   "outputs": [
    {
     "output_type": "stream",
     "name": "stdout",
     "text": [
      "<class '__main__.Point'>\n"
     ]
    }
   ],
   "source": [
    "point = Point()\n",
    "print(type(point))"
   ]
  },
  {
   "cell_type": "code",
   "execution_count": 3,
   "metadata": {},
   "outputs": [
    {
     "output_type": "execute_result",
     "data": {
      "text/plain": [
       "True"
      ]
     },
     "metadata": {},
     "execution_count": 3
    }
   ],
   "source": [
    "isinstance(point, Point)"
   ]
  }
 ]
}