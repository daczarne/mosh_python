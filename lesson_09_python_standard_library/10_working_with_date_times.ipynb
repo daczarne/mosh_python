{
 "metadata": {
  "language_info": {
   "codemirror_mode": {
    "name": "ipython",
    "version": 3
   },
   "file_extension": ".py",
   "mimetype": "text/x-python",
   "name": "python",
   "nbconvert_exporter": "python",
   "pygments_lexer": "ipython3",
   "version": "3.8.3-final"
  },
  "orig_nbformat": 2,
  "kernelspec": {
   "name": "python3",
   "display_name": "Python 3"
  }
 },
 "nbformat": 4,
 "nbformat_minor": 2,
 "cells": [
  {
   "source": [
    "# Working with datetimes\n",
    "\n",
    "We can create a datetime object using the `datetime` method from the `datetime` module. We need to supply the year, the month, the day and, optionally, hour, minutes and seconds. If we don't supply these last three arguments, Python will assum we want the start of the day."
   ],
   "cell_type": "markdown",
   "metadata": {}
  },
  {
   "cell_type": "code",
   "execution_count": 1,
   "metadata": {},
   "outputs": [
    {
     "output_type": "stream",
     "name": "stdout",
     "text": [
      "2020-01-01 00:00:00\n"
     ]
    }
   ],
   "source": [
    "from datetime import datetime\n",
    "\n",
    "dt = datetime(2020, 1, 1)\n",
    "print(dt)"
   ]
  },
  {
   "source": [
    "The `datetime` module also has a method called `now` for getting the current datetime."
   ],
   "cell_type": "markdown",
   "metadata": {}
  },
  {
   "cell_type": "code",
   "execution_count": 2,
   "metadata": {},
   "outputs": [
    {
     "output_type": "stream",
     "name": "stdout",
     "text": [
      "2020-12-07 00:26:28.206444\n"
     ]
    }
   ],
   "source": [
    "print(datetime.now())"
   ]
  },
  {
   "source": [
    "We use the `strptime` method for parsing a string datetime into a datetime object. The first argument will be a string containing a datetime. The second argument will be *directives* telling Python how to parse the string.\n",
    "\n",
    "- `%Y`: 4 digit year\n",
    "- `%m`: 2 digit month\n",
    "- `%d`: 2 digit day\n",
    "\n",
    "You can find the complete list of directives [here](https://docs.python.org/3/library/datetime.html)."
   ],
   "cell_type": "markdown",
   "metadata": {}
  },
  {
   "cell_type": "code",
   "execution_count": 3,
   "metadata": {},
   "outputs": [
    {
     "output_type": "stream",
     "name": "stdout",
     "text": [
      "2020-01-01 00:00:00\n"
     ]
    }
   ],
   "source": [
    "print(datetime.strptime(\"2020/01/01\", \"%Y/%m/%d\"))"
   ]
  },
  {
   "source": [
    "We can convert a timestamp into a datetime object."
   ],
   "cell_type": "markdown",
   "metadata": {}
  },
  {
   "cell_type": "code",
   "execution_count": 5,
   "metadata": {},
   "outputs": [
    {
     "output_type": "stream",
     "name": "stdout",
     "text": [
      "2020-12-07 00:31:53.445612\n"
     ]
    }
   ],
   "source": [
    "import time\n",
    "\n",
    "print(datetime.fromtimestamp(time.time()))"
   ]
  },
  {
   "source": [
    "A `datetime` object has attributes. We can access them using the `.` operator."
   ],
   "cell_type": "markdown",
   "metadata": {}
  },
  {
   "cell_type": "code",
   "execution_count": 6,
   "metadata": {},
   "outputs": [
    {
     "output_type": "stream",
     "name": "stdout",
     "text": [
      "2020/1/1\n"
     ]
    }
   ],
   "source": [
    "print(f\"{dt.year}/{dt.month}/{dt.day}\")"
   ]
  },
  {
   "source": [
    "We also have a method called `strftime` for formating datetime objects. This method is the opposite of `strptime`. We need to specify the directives."
   ],
   "cell_type": "markdown",
   "metadata": {}
  },
  {
   "cell_type": "code",
   "execution_count": 7,
   "metadata": {},
   "outputs": [
    {
     "output_type": "execute_result",
     "data": {
      "text/plain": [
       "'2020/01/01'"
      ]
     },
     "metadata": {},
     "execution_count": 7
    }
   ],
   "source": [
    "dt.strftime(\"%Y/%m/%d\")"
   ]
  },
  {
   "source": [
    "We can also compare datetime objects using standard comparison operators (`==`, `<`, `>` and so on)."
   ],
   "cell_type": "markdown",
   "metadata": {}
  },
  {
   "cell_type": "code",
   "execution_count": 9,
   "metadata": {},
   "outputs": [
    {
     "output_type": "stream",
     "name": "stdout",
     "text": [
      "True\n"
     ]
    }
   ],
   "source": [
    "dt1 = datetime(2020, 1, 1)\n",
    "dt2 = datetime.now()\n",
    "print(dt2 > dt1)"
   ]
  }
 ]
}