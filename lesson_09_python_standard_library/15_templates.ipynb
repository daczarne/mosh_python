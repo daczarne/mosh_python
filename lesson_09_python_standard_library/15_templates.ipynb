{
 "metadata": {
  "language_info": {
   "codemirror_mode": {
    "name": "ipython",
    "version": 3
   },
   "file_extension": ".py",
   "mimetype": "text/x-python",
   "name": "python",
   "nbconvert_exporter": "python",
   "pygments_lexer": "ipython3",
   "version": "3.8.3-final"
  },
  "orig_nbformat": 2,
  "kernelspec": {
   "name": "python3",
   "display_name": "Python 3"
  }
 },
 "nbformat": 4,
 "nbformat_minor": 2,
 "cells": [
  {
   "source": [
    "# Templates\n",
    "\n",
    "Now we'll build an HTML template to use a the email body. In the `template.html` we've defined the user name as a variable `$name`. Now we'll import it as a `Template` object using the `Template` class from the `string` module. We use this class to replace the `$name` parameter in the template string."
   ],
   "cell_type": "markdown",
   "metadata": {}
  },
  {
   "cell_type": "code",
   "execution_count": 3,
   "metadata": {},
   "outputs": [],
   "source": [
    "from email.mime.multipart import MIMEMultipart\n",
    "from email.mime.text import MIMEText\n",
    "from email.mime.image import MIMEImage\n",
    "from pathlib import Path\n",
    "from string import Template\n",
    "import smtplib\n",
    "\n",
    "template = Template(Path(\"15_template.html\").read_text())"
   ]
  },
  {
   "source": [
    "Now we'll use the `substitute` method to change the `$name` parameter. We use a dictrionary with key `name` and value the name of the person. The template has now replaced `$name` with the value `John`."
   ],
   "cell_type": "markdown",
   "metadata": {}
  },
  {
   "cell_type": "code",
   "execution_count": 5,
   "metadata": {},
   "outputs": [
    {
     "output_type": "stream",
     "name": "stdout",
     "text": [
      "<!DOCTYPE html>\n<html lang=\"en\">\n\n<head>\n\n</head>\n\n<body>\n    Hi John, this is our test email.\n</body>\n\n</html>\n"
     ]
    }
   ],
   "source": [
    "message = MIMEMultipart()\n",
    "message[\"from\"] = \"Daniel Czarnievicz\"\n",
    "message[\"to\"] = \"reciver.mail@gmail.com\"\n",
    "message[\"subject\"] = \"This is a test email\"\n",
    "body = template.substitute({\"name\": \"John\"})\n",
    "print(body)"
   ]
  },
  {
   "source": [
    "Finally, we attach the new body to the message object and set the `_subtype` argument to \"html\"."
   ],
   "cell_type": "markdown",
   "metadata": {}
  },
  {
   "cell_type": "code",
   "execution_count": null,
   "metadata": {},
   "outputs": [],
   "source": [
    "message.attach(MIMEText(body, \"html\")\n",
    "message.attach(MIMEImage(Path(\"14_email_image.png\").read_bytes()))\n",
    "\n",
    "with smtplib.SMTP(host=\"smtp.gmail.com\", port=587) as smtp:\n",
    "    smtp.ehlo() # greeting to the smtp server\n",
    "    smtp.starttls() # tls = transport layer security (encripts commands)\n",
    "    smtp.login(\"sender.mail@gmail.com\", \"password\")\n",
    "    smtp.send_message(message)\n",
    "    print(\"Email sent...\")"
   ]
  }
 ]
}