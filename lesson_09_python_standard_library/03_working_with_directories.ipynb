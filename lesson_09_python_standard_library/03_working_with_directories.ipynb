{
 "metadata": {
  "language_info": {
   "codemirror_mode": {
    "name": "ipython",
    "version": 3
   },
   "file_extension": ".py",
   "mimetype": "text/x-python",
   "name": "python",
   "nbconvert_exporter": "python",
   "pygments_lexer": "ipython3",
   "version": "3.8.3-final"
  },
  "orig_nbformat": 2,
  "kernelspec": {
   "name": "python3",
   "display_name": "Python 3"
  }
 },
 "nbformat": 4,
 "nbformat_minor": 2,
 "cells": [
  {
   "source": [
    "# Working with directories\n",
    "\n"
   ],
   "cell_type": "markdown",
   "metadata": {}
  },
  {
   "cell_type": "code",
   "execution_count": 2,
   "metadata": {},
   "outputs": [],
   "source": [
    "from pathlib import Path\n",
    "\n",
    "path = Path(\"ecommerce\")"
   ]
  },
  {
   "cell_type": "code",
   "execution_count": 3,
   "metadata": {},
   "outputs": [
    {
     "output_type": "execute_result",
     "data": {
      "text/plain": [
       "False"
      ]
     },
     "metadata": {},
     "execution_count": 3
    }
   ],
   "source": [
    "# Check existance\n",
    "path.exists()"
   ]
  },
  {
   "cell_type": "code",
   "execution_count": 7,
   "metadata": {},
   "outputs": [],
   "source": [
    "# Create the directory\n",
    "path.mkdir()"
   ]
  },
  {
   "cell_type": "code",
   "execution_count": 8,
   "metadata": {},
   "outputs": [
    {
     "output_type": "execute_result",
     "data": {
      "text/plain": [
       "True"
      ]
     },
     "metadata": {},
     "execution_count": 8
    }
   ],
   "source": [
    "# Now it does exist\n",
    "path.exists()"
   ]
  },
  {
   "cell_type": "code",
   "execution_count": 9,
   "metadata": {},
   "outputs": [],
   "source": [
    "# Remove directory\n",
    "path.rmdir()"
   ]
  },
  {
   "cell_type": "code",
   "execution_count": 10,
   "metadata": {},
   "outputs": [
    {
     "output_type": "execute_result",
     "data": {
      "text/plain": [
       "False"
      ]
     },
     "metadata": {},
     "execution_count": 10
    }
   ],
   "source": [
    "# Now it does not exist\n",
    "path.exists()"
   ]
  },
  {
   "cell_type": "code",
   "execution_count": 11,
   "metadata": {},
   "outputs": [
    {
     "output_type": "execute_result",
     "data": {
      "text/plain": [
       "True"
      ]
     },
     "metadata": {},
     "execution_count": 11
    }
   ],
   "source": [
    "path.mkdir() # Re create it\n",
    "path.exists() # Check that it exists"
   ]
  },
  {
   "cell_type": "code",
   "execution_count": 12,
   "metadata": {},
   "outputs": [
    {
     "output_type": "execute_result",
     "data": {
      "text/plain": [
       "WindowsPath('ecommerce2')"
      ]
     },
     "metadata": {},
     "execution_count": 12
    }
   ],
   "source": [
    "# Rename it\n",
    "path.rename(\"ecommerce2\")"
   ]
  },
  {
   "source": [
    "<img src=\"rename_dir.png\" />"
   ],
   "cell_type": "markdown",
   "metadata": {}
  },
  {
   "cell_type": "code",
   "execution_count": 13,
   "metadata": {},
   "outputs": [],
   "source": [
    "# Delete it\n",
    "new_path = Path(\"ecommerce2\")\n",
    "new_path.rmdir()"
   ]
  },
  {
   "cell_type": "code",
   "execution_count": 23,
   "metadata": {},
   "outputs": [
    {
     "output_type": "stream",
     "name": "stdout",
     "text": [
      "<generator object Path.iterdir at 0x0000026F45C392E0>\n"
     ]
    }
   ],
   "source": [
    "path = Path(\"../lesson_08_modules/ecommerce\")\n",
    "\n",
    "# Get a list of files and directories in this path\n",
    "print(path.iterdir())"
   ]
  },
  {
   "source": [
    "Since it's a generator object, we can iterate over it"
   ],
   "cell_type": "markdown",
   "metadata": {}
  },
  {
   "cell_type": "code",
   "execution_count": 24,
   "metadata": {},
   "outputs": [
    {
     "output_type": "stream",
     "name": "stdout",
     "text": [
      "..\\lesson_08_modules\\ecommerce\\customer\n..\\lesson_08_modules\\ecommerce\\more_sales.py\n..\\lesson_08_modules\\ecommerce\\shopping\n..\\lesson_08_modules\\ecommerce\\__init__.py\n..\\lesson_08_modules\\ecommerce\\__pycache__\n"
     ]
    }
   ],
   "source": [
    "for p in path.iterdir():\n",
    "    print(p)"
   ]
  },
  {
   "source": [
    "We can turn it into a list comprehension. This is not recommended if the list is long, but for short ones, it's OK."
   ],
   "cell_type": "markdown",
   "metadata": {}
  },
  {
   "cell_type": "code",
   "execution_count": 26,
   "metadata": {},
   "outputs": [
    {
     "output_type": "stream",
     "name": "stdout",
     "text": [
      "[WindowsPath('../lesson_08_modules/ecommerce/customer'), WindowsPath('../lesson_08_modules/ecommerce/more_sales.py'), WindowsPath('../lesson_08_modules/ecommerce/shopping'), WindowsPath('../lesson_08_modules/ecommerce/__init__.py'), WindowsPath('../lesson_08_modules/ecommerce/__pycache__')]\n"
     ]
    }
   ],
   "source": [
    "paths = [p for p in path.iterdir()]\n",
    "print(paths)"
   ]
  },
  {
   "source": [
    "The result is a list of `WindowsPath` objects, since I'm using Windows. If you are using a Unix based OS, you'll get a `PosixPath`.\n",
    "\n",
    "<img src=\"posix_paths.png\" />\n",
    "\n",
    "This is due to the `Path` class being the base class for two classes: `PosixPath` and `WindowsPath`.\n"
   ],
   "cell_type": "markdown",
   "metadata": {}
  },
  {
   "source": [
    "If we only want to get the directories in our list comprehension:"
   ],
   "cell_type": "markdown",
   "metadata": {}
  },
  {
   "cell_type": "code",
   "execution_count": 27,
   "metadata": {},
   "outputs": [
    {
     "output_type": "stream",
     "name": "stdout",
     "text": [
      "[WindowsPath('../lesson_08_modules/ecommerce/customer'), WindowsPath('../lesson_08_modules/ecommerce/shopping'), WindowsPath('../lesson_08_modules/ecommerce/__pycache__')]\n"
     ]
    }
   ],
   "source": [
    "paths = [p for p in path.iterdir() if p.is_dir()]\n",
    "print(paths)"
   ]
  },
  {
   "source": [
    "The `iterdir` method has two main limitations:\n",
    "\n",
    "1. It can't match patterns\n",
    "2. It can't do recursive search\n",
    "\n",
    "We'll use the `glob` method for that. This method also returns a generator, so it can too be used in a loop. For example, if we want all Python files we'll have to do:"
   ],
   "cell_type": "markdown",
   "metadata": {}
  },
  {
   "cell_type": "code",
   "execution_count": 29,
   "metadata": {},
   "outputs": [
    {
     "output_type": "stream",
     "name": "stdout",
     "text": [
      "[WindowsPath('../lesson_08_modules/ecommerce/more_sales.py'), WindowsPath('../lesson_08_modules/ecommerce/__init__.py')]\n"
     ]
    }
   ],
   "source": [
    "# None recursive search\n",
    "py_files = [p for p in path.glob(\"*.py\")]\n",
    "print(py_files)"
   ]
  },
  {
   "cell_type": "code",
   "execution_count": 30,
   "metadata": {},
   "outputs": [
    {
     "output_type": "stream",
     "name": "stdout",
     "text": [
      "[WindowsPath('../lesson_08_modules/ecommerce/more_sales.py'), WindowsPath('../lesson_08_modules/ecommerce/__init__.py'), WindowsPath('../lesson_08_modules/ecommerce/customer/contact.py'), WindowsPath('../lesson_08_modules/ecommerce/customer/__init__.py'), WindowsPath('../lesson_08_modules/ecommerce/shopping/even_more_sales.py'), WindowsPath('../lesson_08_modules/ecommerce/shopping/__init__.py')]\n"
     ]
    }
   ],
   "source": [
    "# Recursive search with glob\n",
    "py_files = [p for p in path.glob(\"**/*.py\")]\n",
    "print(py_files)"
   ]
  },
  {
   "cell_type": "code",
   "execution_count": 31,
   "metadata": {},
   "outputs": [
    {
     "output_type": "stream",
     "name": "stdout",
     "text": [
      "[WindowsPath('../lesson_08_modules/ecommerce/more_sales.py'), WindowsPath('../lesson_08_modules/ecommerce/__init__.py'), WindowsPath('../lesson_08_modules/ecommerce/customer/contact.py'), WindowsPath('../lesson_08_modules/ecommerce/customer/__init__.py'), WindowsPath('../lesson_08_modules/ecommerce/shopping/even_more_sales.py'), WindowsPath('../lesson_08_modules/ecommerce/shopping/__init__.py')]\n"
     ]
    }
   ],
   "source": [
    "# Recursive search with rglob (recursive glob)\n",
    "py_files = [p for p in path.rglob(\"*.py\")]\n",
    "print(py_files)"
   ]
  }
 ]
}