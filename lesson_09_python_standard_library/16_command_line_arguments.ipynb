{
 "metadata": {
  "language_info": {
   "codemirror_mode": {
    "name": "ipython",
    "version": 3
   },
   "file_extension": ".py",
   "mimetype": "text/x-python",
   "name": "python",
   "nbconvert_exporter": "python",
   "pygments_lexer": "ipython3",
   "version": "3.8.3-final"
  },
  "orig_nbformat": 2,
  "kernelspec": {
   "name": "python3",
   "display_name": "Python 3"
  }
 },
 "nbformat": 4,
 "nbformat_minor": 2,
 "cells": [
  {
   "source": [
    "# Command line arguments\n",
    "\n",
    "You may create a Python program that expects command line arguments. The first argument that we always pass to the command line is the name of the file. In the `sys` module we have an attribute called `argv` (argument variables)"
   ],
   "cell_type": "markdown",
   "metadata": {}
  },
  {
   "source": [
    "If you run the `python lesson_09_python_standard_library/16_command_line_arguments.py -a -b -c` in the terminal you'll get an array for 4 items. The first one is the name of the file, and the next 3 are the supplied arguments: \"-a\", \"-b\", and \"-c\".\n",
    "\n",
    "<img src=\"16_cla_arguments.png\" />\n",
    "\n",
    "With this, we could get the length of the array. If it's equal to 1, then the user has not supplied any arguments."
   ],
   "cell_type": "markdown",
   "metadata": {}
  },
  {
   "source": [
    "Now, suppose we want the first argument to be a password. We can include in our file an `if` statement that lets the user know what the expected usage of the program is (if the password was not supplied), or execute the rest of the program if the password was indeed supplied. "
   ],
   "cell_type": "markdown",
   "metadata": {}
  },
  {
   "cell_type": "code",
   "execution_count": null,
   "metadata": {},
   "outputs": [],
   "source": [
    "import sys\n",
    "\n",
    "if len(sys.argv) == 1:\n",
    "    print(\"USAGE: python lesson_09_python_standard_library/16_command_line_arguments.py <password>\")\n",
    "else:\n",
    "    password = sys.argv[1]\n",
    "    print(\"Password:\", password)"
   ]
  },
  {
   "source": [
    "If when trying to run the program the user does not supply a password, he'll/she'll get the \"Usage\" message.\n",
    "\n",
    "<img src=\"16_no_pass.png\" />\n",
    "\n",
    "If he/she does provide a password, the rest of the program will be executed:\n",
    "\n",
    "<img src=\"16_with_pass.png\" />"
   ],
   "cell_type": "markdown",
   "metadata": {}
  }
 ]
}