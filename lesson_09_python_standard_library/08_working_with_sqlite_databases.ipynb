{
 "metadata": {
  "language_info": {
   "codemirror_mode": {
    "name": "ipython",
    "version": 3
   },
   "file_extension": ".py",
   "mimetype": "text/x-python",
   "name": "python",
   "nbconvert_exporter": "python",
   "pygments_lexer": "ipython3",
   "version": "3.8.3-final"
  },
  "orig_nbformat": 2,
  "kernelspec": {
   "name": "python3",
   "display_name": "Python 3"
  }
 },
 "nbformat": 4,
 "nbformat_minor": 2,
 "cells": [
  {
   "source": [
    "# Working with SQLite\n",
    "\n",
    "SQLite is a very light database that we use for storing data of an application. We'll store our `movies` data in a SQLite database. First, you'll need to install DB Browser in your computer so that the code runs. You can download it from [here](https://sqlitebrowser.org/).\n",
    "\n",
    "Once inside DB Browser you'll see the panel main panel. Go to `Open Database`.\n",
    "\n",
    "<img src=\"08_open_db.png\" />\n",
    "\n",
    "Navigate to your course folder and open your DB file.\n",
    "\n",
    "<img src=\"08_db_load_view.png\" />\n",
    "\n",
    "As you can see, there are no tables yet.\n",
    "\n",
    "<img src=\"08_db_no_tables.png\" />\n",
    "\n",
    "Click on `Create Table`. An edition panel will open. Here you can define the table name and its schema.\n",
    "\n",
    "<img src=\"08_db_table_edit_ready.png\" />\n",
    "\n",
    "One you are done, click on the `Write Changes` on the top bar.\n",
    "\n",
    "The `connect` method from the `sqlite3` module will create the file if it does not exist. This method will return a connection object that should be closed when we are done using it. So we'll use a `with` statement to handle all this for us.\n",
    "\n",
    "Next, we'll need to create a command. This command is the instruction we send to the DB to create data, or update data, or delete data, etc. First, we'll insert the data. The `?` are place holders for the data columns. The next line is a for loop that takes the values of our dictionary and creates a tuple for each one. Finally, we commit our changes to the DB using the `commit` method."
   ],
   "cell_type": "markdown",
   "metadata": {}
  },
  {
   "cell_type": "code",
   "execution_count": 5,
   "metadata": {},
   "outputs": [],
   "source": [
    "import sqlite3\n",
    "import json\n",
    "from pathlib import Path\n",
    "\n",
    "movies = json.loads(Path(\"07_movies.json\").read_text())\n",
    "\n",
    "with sqlite3.connect(\"08_db.sqlite3\") as conn:\n",
    "    command = \"INSERT INTO Movies VALUES(?, ?, ?)\"\n",
    "    for movie in movies:\n",
    "        conn.execute(command, tuple(movie.values()))\n",
    "    conn.commit()"
   ]
  },
  {
   "source": [
    "Now we can read data from the database. First we need to connect to the DB. Then, we supply a SQL `SELECT` statement. The result of this is a cursor. Since cursors are iterable, let's just print the rows one at a time"
   ],
   "cell_type": "markdown",
   "metadata": {}
  },
  {
   "cell_type": "code",
   "execution_count": 6,
   "metadata": {},
   "outputs": [
    {
     "output_type": "stream",
     "name": "stdout",
     "text": [
      "(1, 'Terminator', 1984)\n(2, 'Kindergarten Cop', 1990)\n"
     ]
    }
   ],
   "source": [
    "with sqlite3.connect(\"08_db.sqlite3\") as conn:\n",
    "    command = \"SELECT * FROM Movies\"\n",
    "    cursor = conn.execute(command)\n",
    "    for row in cursor:\n",
    "        print(row)"
   ]
  },
  {
   "source": [
    "Each iteration produces a tuple with the values for a row in the table.\n",
    "\n",
    "A different approach would be to use the `fetchall` method to get all data in one request as a Python list."
   ],
   "cell_type": "markdown",
   "metadata": {}
  },
  {
   "cell_type": "code",
   "execution_count": 7,
   "metadata": {},
   "outputs": [
    {
     "output_type": "stream",
     "name": "stdout",
     "text": [
      "[(1, 'Terminator', 1984), (2, 'Kindergarten Cop', 1990)]\n"
     ]
    }
   ],
   "source": [
    "with sqlite3.connect(\"08_db.sqlite3\") as conn:\n",
    "    command = \"SELECT * FROM Movies\"\n",
    "    cursor = conn.execute(command)\n",
    "    movies = cursor.fetchall()\n",
    "    print(movies)"
   ]
  }
 ]
}