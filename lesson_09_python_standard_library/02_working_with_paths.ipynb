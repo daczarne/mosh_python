{
 "metadata": {
  "language_info": {
   "codemirror_mode": {
    "name": "ipython",
    "version": 3
   },
   "file_extension": ".py",
   "mimetype": "text/x-python",
   "name": "python",
   "nbconvert_exporter": "python",
   "pygments_lexer": "ipython3",
   "version": "3.8.3-final"
  },
  "orig_nbformat": 2,
  "kernelspec": {
   "name": "python3",
   "display_name": "Python 3"
  }
 },
 "nbformat": 4,
 "nbformat_minor": 2,
 "cells": [
  {
   "source": [
    "# Working with paths\n",
    "\n",
    "Import the `Path` class from the `pathlib` module to create path objects. When creating paths it's recommended to use `raw strings` so that backslashes don't need to be escaped."
   ],
   "cell_type": "markdown",
   "metadata": {}
  },
  {
   "cell_type": "code",
   "execution_count": 11,
   "metadata": {},
   "outputs": [
    {
     "output_type": "execute_result",
     "data": {
      "text/plain": [
       "WindowsPath('C:/Users/dacza')"
      ]
     },
     "metadata": {},
     "execution_count": 11
    }
   ],
   "source": [
    "from pathlib import Path\n",
    "\n",
    "# Absolute path\n",
    "Path(r\"C:\\Program Files\")\n",
    "\n",
    "# Path to current directory\n",
    "Path()\n",
    "\n",
    "# Path to the ecommerce package\n",
    "Path(\"ecommerce/__init__.py\")\n",
    "\n",
    "# Combine paths\n",
    "Path() / Path(\"ecommerce\")\n",
    "\n",
    "# Combine path object and strings\n",
    "Path() / \"ecommerce\" / \"__init__.py\"\n",
    "\n",
    "# Home directory of the current user\n",
    "Path.home()"
   ]
  },
  {
   "cell_type": "code",
   "execution_count": 16,
   "metadata": {},
   "outputs": [],
   "source": [
    "# Assign Path object to a name\n",
    "path = Path(\"../lesson_08_modules/ecommerce/__init__.py\")"
   ]
  },
  {
   "source": [
    "You can find the complete documentation for all members of the path class [here](https://docs.python.org/3/library/pathlib.html)."
   ],
   "cell_type": "markdown",
   "metadata": {}
  },
  {
   "cell_type": "code",
   "execution_count": 17,
   "metadata": {},
   "outputs": [
    {
     "output_type": "execute_result",
     "data": {
      "text/plain": [
       "True"
      ]
     },
     "metadata": {},
     "execution_count": 17
    }
   ],
   "source": [
    "# Check existance\n",
    "path.exists()"
   ]
  },
  {
   "cell_type": "code",
   "execution_count": 18,
   "metadata": {},
   "outputs": [
    {
     "output_type": "execute_result",
     "data": {
      "text/plain": [
       "True"
      ]
     },
     "metadata": {},
     "execution_count": 18
    }
   ],
   "source": [
    "# Check if path represents a file\n",
    "path.is_file()"
   ]
  },
  {
   "cell_type": "code",
   "execution_count": 19,
   "metadata": {},
   "outputs": [
    {
     "output_type": "execute_result",
     "data": {
      "text/plain": [
       "False"
      ]
     },
     "metadata": {},
     "execution_count": 19
    }
   ],
   "source": [
    "# Check if path represents a directory\n",
    "path.is_dir()"
   ]
  },
  {
   "cell_type": "code",
   "execution_count": 20,
   "metadata": {},
   "outputs": [
    {
     "output_type": "stream",
     "name": "stdout",
     "text": [
      "__init__.py\n"
     ]
    }
   ],
   "source": [
    "# Extract file name with extension\n",
    "print(path.name)"
   ]
  },
  {
   "cell_type": "code",
   "execution_count": 21,
   "metadata": {},
   "outputs": [
    {
     "output_type": "stream",
     "name": "stdout",
     "text": [
      "__init__.py\n"
     ]
    }
   ],
   "source": [
    "# Extract file name without the extension\n",
    "print(path.stem)"
   ]
  },
  {
   "cell_type": "code",
   "execution_count": 22,
   "metadata": {},
   "outputs": [
    {
     "output_type": "stream",
     "name": "stdout",
     "text": [
      ".py\n"
     ]
    }
   ],
   "source": [
    "# Extract file extension\n",
    "print(path.suffix)"
   ]
  },
  {
   "cell_type": "code",
   "execution_count": 23,
   "metadata": {},
   "outputs": [
    {
     "output_type": "stream",
     "name": "stdout",
     "text": [
      "..\\lesson_08_modules\\ecommerce\n"
     ]
    }
   ],
   "source": [
    "# Extract file parent\n",
    "print(path.parent)"
   ]
  },
  {
   "cell_type": "code",
   "execution_count": 25,
   "metadata": {},
   "outputs": [
    {
     "output_type": "stream",
     "name": "stdout",
     "text": [
      "..\\lesson_08_modules\\ecommerce\\file.txt\n"
     ]
    }
   ],
   "source": [
    "# Create new path object based on the existing path but changing the file name and extension\n",
    "new_path = path.with_name(\"file.txt\")\n",
    "print(new_path)"
   ]
  },
  {
   "cell_type": "code",
   "execution_count": 26,
   "metadata": {},
   "outputs": [
    {
     "output_type": "stream",
     "name": "stdout",
     "text": [
      "c:\\Users\\dacza\\Dropbox\\Code with Mosh\\Python_course\\lesson_09_python_standard_library\\..\\lesson_08_modules\\ecommerce\\__init__.py\n"
     ]
    }
   ],
   "source": [
    "# Get the absolute value of the path\n",
    "print(path.absolute())"
   ]
  },
  {
   "cell_type": "code",
   "execution_count": 27,
   "metadata": {},
   "outputs": [
    {
     "output_type": "stream",
     "name": "stdout",
     "text": [
      "..\\lesson_08_modules\\ecommerce\\__init__.txt\n"
     ]
    }
   ],
   "source": [
    "# Use with_suffix() to create a representation of a file with the same name and different extension (it does not modify the actual file)\n",
    "print(path.with_suffix(\".txt\"))"
   ]
  }
 ]
}