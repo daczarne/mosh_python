{
 "metadata": {
  "language_info": {
   "codemirror_mode": {
    "name": "ipython",
    "version": 3
   },
   "file_extension": ".py",
   "mimetype": "text/x-python",
   "name": "python",
   "nbconvert_exporter": "python",
   "pygments_lexer": "ipython3",
   "version": "3.8.3-final"
  },
  "orig_nbformat": 2,
  "kernelspec": {
   "name": "python3",
   "display_name": "Python 3"
  }
 },
 "nbformat": 4,
 "nbformat_minor": 2,
 "cells": [
  {
   "source": [
    "# Working with time deltas\n",
    "\n",
    "In the `datetime` module we also have a `timedelta` class that represents a duration."
   ],
   "cell_type": "markdown",
   "metadata": {}
  },
  {
   "cell_type": "code",
   "execution_count": 1,
   "metadata": {},
   "outputs": [],
   "source": [
    "from datetime import datetime, timedelta\n",
    "\n",
    "dt1 = datetime(2020, 1, 1)\n",
    "dt2 = datetime.now()"
   ]
  },
  {
   "source": [
    "When we substract two `datetime` objects, we get a `timedelta` object"
   ],
   "cell_type": "markdown",
   "metadata": {}
  },
  {
   "cell_type": "code",
   "execution_count": 2,
   "metadata": {},
   "outputs": [
    {
     "output_type": "stream",
     "name": "stdout",
     "text": [
      "341 days, 0:40:46.065447\n"
     ]
    }
   ],
   "source": [
    "duration = dt2 - dt1\n",
    "print(duration)"
   ]
  },
  {
   "source": [
    "`timedelta` objects have attributes that we can access with the `.` operator. The `seconds` attribute represents the time from the start of the day."
   ],
   "cell_type": "markdown",
   "metadata": {}
  },
  {
   "cell_type": "code",
   "execution_count": 4,
   "metadata": {},
   "outputs": [
    {
     "output_type": "stream",
     "name": "stdout",
     "text": [
      "days 341\nseconds 2446\n"
     ]
    }
   ],
   "source": [
    "print(\"days\", duration.days)\n",
    "print(\"seconds\", duration.seconds)"
   ]
  },
  {
   "source": [
    "We also have a method called `total_seconds` which returns the total duration, represented as seconds."
   ],
   "cell_type": "markdown",
   "metadata": {}
  },
  {
   "cell_type": "code",
   "execution_count": 5,
   "metadata": {},
   "outputs": [
    {
     "output_type": "stream",
     "name": "stdout",
     "text": [
      "total seconds 29464846.065447\n"
     ]
    }
   ],
   "source": [
    "print(\"total seconds\", duration.total_seconds())"
   ]
  },
  {
   "source": [
    "We can also add a `timedelt` object to a `datetime` object."
   ],
   "cell_type": "markdown",
   "metadata": {}
  },
  {
   "cell_type": "code",
   "execution_count": 6,
   "metadata": {},
   "outputs": [
    {
     "output_type": "stream",
     "name": "stdout",
     "text": [
      "2020-01-02 00:01:40\n"
     ]
    }
   ],
   "source": [
    "dt3 = dt1 + timedelta(days=1, seconds=100)\n",
    "print(dt3)"
   ]
  }
 ]
}