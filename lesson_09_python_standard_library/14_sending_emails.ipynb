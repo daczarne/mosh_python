{
 "metadata": {
  "language_info": {
   "codemirror_mode": {
    "name": "ipython",
    "version": 3
   },
   "file_extension": ".py",
   "mimetype": "text/x-python",
   "name": "python",
   "nbconvert_exporter": "python",
   "pygments_lexer": "ipython3",
   "version": "3.8.3-final"
  },
  "orig_nbformat": 2,
  "kernelspec": {
   "name": "python3",
   "display_name": "Python 3"
  }
 },
 "nbformat": 4,
 "nbformat_minor": 2,
 "cells": [
  {
   "source": [
    "# Sending emails\n",
    "\n",
    "To send emails we'll use the `MIMEMultipart` class. MIME stands for \"Multi-purpose mail extensions\" and it's a standard for defining the format of emails. It's got nothing to do with Python specifically. This object will allow us to send email messages that contain both HTML and plain text content. If the email client from the receiver can not render HTML content, it will render plain text content.\n",
    "\n",
    "Once we've created a `MIMEMultipart` object, we need to supply the headers: from, to, and subject. Since there's no body header, we need to use the `attach` method. This method gets a payload to attach to the body. We can build a payload using the `MIMEText` class from the `email.mime.text` module. The second parameter of the `MIMEText` object is set to `plain`. We can change this to HTML."
   ],
   "cell_type": "markdown",
   "metadata": {}
  },
  {
   "cell_type": "code",
   "execution_count": 3,
   "metadata": {},
   "outputs": [],
   "source": [
    "from email.mime.multipart import MIMEMultipart\n",
    "from email.mime.text import MIMEText\n",
    "import smtplib\n",
    "\n",
    "message = MIMEMultipart()\n",
    "message[\"from\"] = \"Sender Name\"\n",
    "message[\"to\"] = \"sender.mail@gmail.com\"\n",
    "message[\"subject\"] = \"This is a test email\"\n",
    "message.attach(MIMEText(\"Email body\"))"
   ]
  },
  {
   "source": [
    "Now that we have a message, we need to send it using an smtp server. The `smtp` module has a class called `SMTP` that takes a `host` and a `port` argument. Since `smtp` objects need to be closed when we finnish using them, we'll use a `with` statement to take care of all that.\n",
    "\n",
    "The first method we need to call on our `smtp` object is the `ehlo` method. This method informs the server that we want to send an email. This greeting is part of the smtp protocol. Next, we'll use the `starttls` method to put the smtp server in TLS mode. TLS stands for \"Transport Layer Security\" and it is used to encrypt commands.\n",
    "\n",
    "The next step is to login. For that we use the `login` method and supply `user.name` and `password`. Finllay we call the `send_message` method to send the message. We supply our `message` object to this method."
   ],
   "cell_type": "markdown",
   "metadata": {}
  },
  {
   "cell_type": "code",
   "execution_count": null,
   "metadata": {},
   "outputs": [],
   "source": [
    "with smtplib.SMTP(host=\"smtp.gmail.com\", port=587) as smtp:\n",
    "    smtp.ehlo() # greeting to the smtp server\n",
    "    smtp.starttls() # tls = transport layer security (encripts commands)\n",
    "    smtp.login(\"sender.mail@gmail.com\", \"password\")\n",
    "    smtp.send_message(message)\n",
    "    print(\"Email sent...\")"
   ]
  },
  {
   "source": [
    "Now let's attach an image to the message. Images need to be imported as bytes to a `MIMEImage` object."
   ],
   "cell_type": "markdown",
   "metadata": {}
  },
  {
   "cell_type": "code",
   "execution_count": null,
   "metadata": {},
   "outputs": [],
   "source": [
    "from email.mime.image import MIMEImage\n",
    "from pathlib import Path\n",
    "\n",
    "message = MIMEMultipart()\n",
    "message[\"from\"] = \"Daniel Czarnievicz\"\n",
    "message[\"to\"] = \"reciver.mail@gmail.com\"\n",
    "message[\"subject\"] = \"This is a test email\"\n",
    "message.attach(MIMEText(\"Email body\"))\n",
    "message.attach(MIMEImage(Path(\"14_email_image.png\").read_bytes()))\n",
    "\n",
    "with smtplib.SMTP(host=\"smtp.gmail.com\", port=587) as smtp:\n",
    "    smtp.ehlo() # greeting to the smtp server\n",
    "    smtp.starttls() # tls = transport layer security (encripts commands)\n",
    "    smtp.login(\"sender.mail@gmail.com\", \"password\")\n",
    "    smtp.send_message(message)\n",
    "    print(\"Email sent...\")"
   ]
  }
 ]
}