{
 "metadata": {
  "language_info": {
   "codemirror_mode": {
    "name": "ipython",
    "version": 3
   },
   "file_extension": ".py",
   "mimetype": "text/x-python",
   "name": "python",
   "nbconvert_exporter": "python",
   "pygments_lexer": "ipython3",
   "version": "3.8.3-final"
  },
  "orig_nbformat": 2,
  "kernelspec": {
   "name": "python3",
   "display_name": "Python 3"
  }
 },
 "nbformat": 4,
 "nbformat_minor": 2,
 "cells": [
  {
   "source": [
    "# Generating random values\n",
    "\n",
    "To generate random values we use the `random` module. The `random` method generates random floating point values between 0 and 1. The `randint` generates random integers between a min value and a max value. The `choice` method takes an array as its input and selects 1 element randomly. Similarly, the `choices` method takes an array as its input, and returns a list of `k` elements from the array."
   ],
   "cell_type": "markdown",
   "metadata": {}
  },
  {
   "cell_type": "code",
   "execution_count": 10,
   "metadata": {},
   "outputs": [
    {
     "output_type": "stream",
     "name": "stdout",
     "text": [
      "0.33630541914407064\n9\n4\nd\nabcd\n[30, 20]\n['k', 'l']\n"
     ]
    }
   ],
   "source": [
    "import random\n",
    "\n",
    "print(random.random())\n",
    "print(random.randint(1, 10))\n",
    "print(random.choice([1, 2, 3, 4]))\n",
    "print(random.choice([\"a\", \"b\", \"c\", \"d\"]))\n",
    "print(random.choice([\"abcd\"]))\n",
    "print(random.choices([10, 20, 30, 40], k=2))\n",
    "print(random.choices(\"abcdefghijklmn\", k=2))"
   ]
  },
  {
   "source": [
    "If we are calling the `choices` method on a string like \"abcdefghijklmn\", we can then combine the result in a single string using the `join` method on an empty string. We can pass a separator to the string."
   ],
   "cell_type": "markdown",
   "metadata": {}
  },
  {
   "cell_type": "code",
   "execution_count": 12,
   "metadata": {},
   "outputs": [
    {
     "output_type": "stream",
     "name": "stdout",
     "text": [
      "clkm\nn,h,d,l\n"
     ]
    }
   ],
   "source": [
    "print(\"\".join(random.choices(\"abcdefghijklmn\", k=4)))\n",
    "print(\",\".join(random.choices(\"abcdefghijklmn\", k=4)))"
   ]
  },
  {
   "source": [
    "When selecting random letters, we can use to `string` modules' attributes to save ourselves some typing."
   ],
   "cell_type": "markdown",
   "metadata": {}
  },
  {
   "cell_type": "code",
   "execution_count": 14,
   "metadata": {},
   "outputs": [
    {
     "output_type": "stream",
     "name": "stdout",
     "text": [
      "abcdefghijklmnopqrstuvwxyzABCDEFGHIJKLMNOPQRSTUVWXYZ\n0123456789\n"
     ]
    }
   ],
   "source": [
    "import string\n",
    "\n",
    "print(string.ascii_letters)\n",
    "print(string.digits)"
   ]
  },
  {
   "cell_type": "code",
   "execution_count": 15,
   "metadata": {},
   "outputs": [
    {
     "output_type": "stream",
     "name": "stdout",
     "text": [
      "0Rai\n"
     ]
    }
   ],
   "source": [
    "print(\"\".join(random.choices(string.ascii_letters + string.digits, k=4)))"
   ]
  },
  {
   "source": [
    "If we want to permute the elements of an array, we can use the `shuffle` method from the `random` module."
   ],
   "cell_type": "markdown",
   "metadata": {}
  },
  {
   "cell_type": "code",
   "execution_count": 17,
   "metadata": {},
   "outputs": [
    {
     "output_type": "stream",
     "name": "stdout",
     "text": [
      "[1, 2, 4, 3]\n"
     ]
    }
   ],
   "source": [
    "numbers = [1, 2, 3, 4]\n",
    "random.shuffle(numbers)\n",
    "print(numbers)"
   ]
  }
 ]
}