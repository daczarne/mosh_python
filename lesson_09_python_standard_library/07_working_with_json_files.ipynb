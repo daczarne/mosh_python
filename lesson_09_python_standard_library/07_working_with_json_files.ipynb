{
 "metadata": {
  "language_info": {
   "codemirror_mode": {
    "name": "ipython",
    "version": 3
   },
   "file_extension": ".py",
   "mimetype": "text/x-python",
   "name": "python",
   "nbconvert_exporter": "python",
   "pygments_lexer": "ipython3",
   "version": "3.9.0-final"
  },
  "orig_nbformat": 2,
  "kernelspec": {
   "name": "python3",
   "display_name": "Python 3.9.0 64-bit",
   "metadata": {
    "interpreter": {
     "hash": "4968616242b12205732e0bb9392dd184d3a0818a6aa7d3a096f6e3a74afccf42"
    }
   }
  }
 },
 "nbformat": 4,
 "nbformat_minor": 2,
 "cells": [
  {
   "source": [
    "# Working the JSON files\n",
    "\n",
    "JSON = JavaScript Object Notation\n",
    "\n",
    "First we'll create an array of dictionaries with information for movies. Next will use the `dumps` method from the `json` module to turn our *movies* object into a stringified JSON object (that is, the structure of a JSON, but presented as a string)."
   ],
   "cell_type": "markdown",
   "metadata": {}
  },
  {
   "cell_type": "code",
   "execution_count": 1,
   "metadata": {},
   "outputs": [],
   "source": [
    "import json\n",
    "\n",
    "movies = [\n",
    "    { \"id\": 1, \"title\": \"Terminator\", \"year\": 1984 },\n",
    "    { \"id\": 2, \"title\": \"Kindergarten Cop\", \"year\": 1990 }\n",
    "]\n",
    "\n",
    "data = json.dumps(movies, indent=4, sort_keys=True)"
   ]
  },
  {
   "cell_type": "code",
   "execution_count": 2,
   "metadata": {},
   "outputs": [
    {
     "output_type": "stream",
     "name": "stdout",
     "text": [
      "[\n    {\n        \"id\": 1,\n        \"title\": \"Terminator\",\n        \"year\": 1984\n    },\n    {\n        \"id\": 2,\n        \"title\": \"Kindergarten Cop\",\n        \"year\": 1990\n    }\n]\n"
     ]
    }
   ],
   "source": [
    "print(data)"
   ]
  },
  {
   "source": [
    "Next we'll write the JSON data into a file"
   ],
   "cell_type": "markdown",
   "metadata": {}
  },
  {
   "cell_type": "code",
   "execution_count": 3,
   "metadata": {},
   "outputs": [
    {
     "output_type": "execute_result",
     "data": {
      "text/plain": [
       "172"
      ]
     },
     "metadata": {},
     "execution_count": 3
    }
   ],
   "source": [
    "from pathlib import Path\n",
    "\n",
    "Path(\"07_movies.json\").write_text(data)"
   ]
  },
  {
   "source": [
    "Now you should see a JSON file in the directory\n",
    "\n",
    "<img src=\"07_create_json_file.png\" />"
   ],
   "cell_type": "markdown",
   "metadata": {}
  },
  {
   "source": [
    "Now let's imagine we got this file from somewhere else and we want to read it in Python. We'll use the `read_text` method and store the result in a variable. Next we'll use thhe `loads` method from the `json` module to parse the data into an array of dictionaries."
   ],
   "cell_type": "markdown",
   "metadata": {}
  },
  {
   "cell_type": "code",
   "execution_count": 8,
   "metadata": {},
   "outputs": [
    {
     "output_type": "stream",
     "name": "stdout",
     "text": [
      "[{'id': 1, 'title': 'Terminator', 'year': 1984}, {'id': 2, 'title': 'Kindergarten Cop', 'year': 1990}]\n"
     ]
    }
   ],
   "source": [
    "data = Path(\"07_movies.json\").read_text()\n",
    "movies = json.loads(data)\n",
    "print(movies)"
   ]
  },
  {
   "source": [
    "Now that the data is in array format, we can use any array method to manipulate it"
   ],
   "cell_type": "markdown",
   "metadata": {}
  },
  {
   "cell_type": "code",
   "execution_count": 9,
   "metadata": {},
   "outputs": [
    {
     "output_type": "stream",
     "name": "stdout",
     "text": [
      "{'id': 1, 'title': 'Terminator', 'year': 1984}\n"
     ]
    }
   ],
   "source": [
    "# Get the first movie\n",
    "print(movies[0])"
   ]
  },
  {
   "cell_type": "code",
   "execution_count": 10,
   "metadata": {},
   "outputs": [
    {
     "output_type": "stream",
     "name": "stdout",
     "text": [
      "Terminator\n"
     ]
    }
   ],
   "source": [
    "# Get the title from the first movie\n",
    "print(movies[0][\"title\"])"
   ]
  }
 ]
}