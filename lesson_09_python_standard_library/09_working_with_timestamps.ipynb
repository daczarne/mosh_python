{
 "metadata": {
  "language_info": {
   "codemirror_mode": {
    "name": "ipython",
    "version": 3
   },
   "file_extension": ".py",
   "mimetype": "text/x-python",
   "name": "python",
   "nbconvert_exporter": "python",
   "pygments_lexer": "ipython3",
   "version": "3.8.3-final"
  },
  "orig_nbformat": 2,
  "kernelspec": {
   "name": "python3",
   "display_name": "Python 3"
  }
 },
 "nbformat": 4,
 "nbformat_minor": 2,
 "cells": [
  {
   "source": [
    "# Working with timestamps\n",
    "\n",
    "Basically there are two modules for working with time in Python. The `time` module handles timestamps and the `datetime` module handles datetime objects."
   ],
   "cell_type": "markdown",
   "metadata": {}
  },
  {
   "cell_type": "code",
   "execution_count": 1,
   "metadata": {},
   "outputs": [
    {
     "output_type": "stream",
     "name": "stdout",
     "text": [
      "1607311142.8499827\n"
     ]
    }
   ],
   "source": [
    "import time\n",
    "\n",
    "# Get the number of seconds from the begining for the epoch\n",
    "print(time.time())"
   ]
  },
  {
   "source": [
    "Time stamps are not human readable. We use them to perform calculations. For example, suppose we need to send 10.000 emails. We build a functon to handle that, but we want to know how long it took the program to do it."
   ],
   "cell_type": "markdown",
   "metadata": {}
  },
  {
   "cell_type": "code",
   "execution_count": 2,
   "metadata": {},
   "outputs": [],
   "source": [
    "def send_emails():\n",
    "    for i in range(10000):\n",
    "        pass"
   ]
  },
  {
   "cell_type": "code",
   "execution_count": 3,
   "metadata": {},
   "outputs": [
    {
     "output_type": "stream",
     "name": "stdout",
     "text": [
      "0.0\n"
     ]
    }
   ],
   "source": [
    "start = time.time()\n",
    "send_emails()\n",
    "end = time.time()\n",
    "duration = end - start\n",
    "print(duration)"
   ]
  }
 ]
}