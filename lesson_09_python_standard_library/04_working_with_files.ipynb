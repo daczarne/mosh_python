{
 "metadata": {
  "language_info": {
   "codemirror_mode": {
    "name": "ipython",
    "version": 3
   },
   "file_extension": ".py",
   "mimetype": "text/x-python",
   "name": "python",
   "nbconvert_exporter": "python",
   "pygments_lexer": "ipython3",
   "version": "3.8.3-final"
  },
  "orig_nbformat": 2,
  "kernelspec": {
   "name": "python3",
   "display_name": "Python 3"
  }
 },
 "nbformat": 4,
 "nbformat_minor": 2,
 "cells": [
  {
   "source": [
    "# Working with files\n",
    "\n"
   ],
   "cell_type": "markdown",
   "metadata": {}
  },
  {
   "cell_type": "code",
   "execution_count": 1,
   "metadata": {},
   "outputs": [],
   "source": [
    "from pathlib import Path\n",
    "\n",
    "path = Path(\"../lesson_08_modules/ecommerce/__init__.py\")"
   ]
  },
  {
   "cell_type": "code",
   "execution_count": 2,
   "metadata": {},
   "outputs": [
    {
     "output_type": "execute_result",
     "data": {
      "text/plain": [
       "True"
      ]
     },
     "metadata": {},
     "execution_count": 2
    }
   ],
   "source": [
    "# Check existance\n",
    "path.exists()"
   ]
  },
  {
   "cell_type": "code",
   "execution_count": null,
   "metadata": {},
   "outputs": [],
   "source": [
    "# Re name a file\n",
    "# path.rename(\"init.txt\")\n",
    "# Delete a file\n",
    "# path.unlink()"
   ]
  },
  {
   "cell_type": "code",
   "execution_count": 3,
   "metadata": {},
   "outputs": [
    {
     "output_type": "execute_result",
     "data": {
      "text/plain": [
       "os.stat_result(st_mode=33206, st_ino=153122387330675774, st_dev=1817592891, st_nlink=1, st_uid=0, st_gid=0, st_size=32, st_atime=1607286819, st_mtime=1607236818, st_ctime=1607229770)"
      ]
     },
     "metadata": {},
     "execution_count": 3
    }
   ],
   "source": [
    "# Information about the file\n",
    "path.stat()"
   ]
  },
  {
   "source": [
    "We get a stat result object with file information. For example:\n",
    "\n",
    "- `st_size` returns the file size in bytes\n",
    "- `st_atime` returns the last access time\n",
    "- `st_mtime` returns the last modify time\n",
    "- `st_ctime` returns theh creation time\n",
    "\n",
    "All time values are in seconds after the epoch. This is the start of time in a computer, and it's platform dependant. On Unix systems is Jan 1, 1970. To print human readable time we need the `ctime` function from the `time` module."
   ],
   "cell_type": "markdown",
   "metadata": {}
  },
  {
   "cell_type": "code",
   "execution_count": 4,
   "metadata": {},
   "outputs": [
    {
     "output_type": "stream",
     "name": "stdout",
     "text": [
      "Sun Dec  6 01:42:50 2020\n"
     ]
    }
   ],
   "source": [
    "from time import ctime\n",
    "\n",
    "print(ctime(path.stat().st_ctime))"
   ]
  },
  {
   "source": [
    "We also have methods to read data from files. `read_bytes` reads the content as a bytes object. `read_text` returns the content of the file as a string."
   ],
   "cell_type": "markdown",
   "metadata": {}
  },
  {
   "cell_type": "code",
   "execution_count": 5,
   "metadata": {},
   "outputs": [
    {
     "output_type": "stream",
     "name": "stdout",
     "text": [
      "b'print(\"Ecommerce initialized\")\\r\\n'\n"
     ]
    }
   ],
   "source": [
    "print(path.read_bytes())"
   ]
  },
  {
   "cell_type": "code",
   "execution_count": 6,
   "metadata": {},
   "outputs": [
    {
     "output_type": "stream",
     "name": "stdout",
     "text": [
      "print(\"Ecommerce initialized\")\n\n"
     ]
    }
   ],
   "source": [
    "print(path.read_text())"
   ]
  },
  {
   "source": [
    "We can also use `write_text` and `write_bytes` to write into a file. All these methods take care of opening and closing a file.\n",
    "\n",
    "Now suppose we want to copy the file into a new location. We'll copy the `__init__.py` file on the `ecommerce` package from last lesson and put the content into a file called `test_copy.py` in the current lesson's directory."
   ],
   "cell_type": "markdown",
   "metadata": {}
  },
  {
   "cell_type": "code",
   "execution_count": 7,
   "metadata": {},
   "outputs": [],
   "source": [
    "source = Path(\"../lesson_08_modules/ecommerce/__init__.py\")\n",
    "target = Path() / \"04_test_copy.py\""
   ]
  },
  {
   "cell_type": "code",
   "execution_count": 8,
   "metadata": {},
   "outputs": [
    {
     "output_type": "execute_result",
     "data": {
      "text/plain": [
       "WindowsPath('04_test_copy.py')"
      ]
     },
     "metadata": {},
     "execution_count": 8
    }
   ],
   "source": [
    "import shutil\n",
    "\n",
    "shutil.copy(source, target)"
   ]
  },
  {
   "source": [
    "<img src=\"04_copy_file.png\" />"
   ],
   "cell_type": "markdown",
   "metadata": {}
  }
 ]
}