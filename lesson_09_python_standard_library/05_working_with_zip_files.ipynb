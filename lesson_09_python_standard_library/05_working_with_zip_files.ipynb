{
 "metadata": {
  "language_info": {
   "codemirror_mode": {
    "name": "ipython",
    "version": 3
   },
   "file_extension": ".py",
   "mimetype": "text/x-python",
   "name": "python",
   "nbconvert_exporter": "python",
   "pygments_lexer": "ipython3",
   "version": "3.8.3-final"
  },
  "orig_nbformat": 2,
  "kernelspec": {
   "name": "python3",
   "display_name": "Python 3"
  }
 },
 "nbformat": 4,
 "nbformat_minor": 2,
 "cells": [
  {
   "source": [
    "# Working with zip files\n",
    "\n",
    "Write all files in the `ecommerce` directory into a zip file in the current directory."
   ],
   "cell_type": "markdown",
   "metadata": {}
  },
  {
   "cell_type": "code",
   "execution_count": 1,
   "metadata": {},
   "outputs": [],
   "source": [
    "from pathlib import Path\n",
    "from zipfile import ZipFile\n",
    "\n",
    "with ZipFile(\"05_files.zip\", \"w\") as zip:\n",
    "    for path in Path(\"../lesson_08_modules/ecommerce\").rglob(\"*.*\"):\n",
    "        zip.write(path)"
   ]
  },
  {
   "source": [
    "Now you should have a `05_files.zip` in the current directory.\n",
    "\n",
    "<img src=\"05_create_zip_file.png\" />\n",
    "\n",
    "Let's read it's content. We'll create a list with all the names in the file."
   ],
   "cell_type": "markdown",
   "metadata": {}
  },
  {
   "cell_type": "code",
   "execution_count": 5,
   "metadata": {},
   "outputs": [
    {
     "output_type": "stream",
     "name": "stdout",
     "text": [
      "['../lesson_08_modules/ecommerce/more_sales.py', '../lesson_08_modules/ecommerce/__init__.py', '../lesson_08_modules/ecommerce/customer/contact.py', '../lesson_08_modules/ecommerce/customer/__init__.py', '../lesson_08_modules/ecommerce/customer/__pycache__/contact.cpython-38.pyc', '../lesson_08_modules/ecommerce/customer/__pycache__/__init__.cpython-38.pyc', '../lesson_08_modules/ecommerce/shopping/even_more_sales.py', '../lesson_08_modules/ecommerce/shopping/__init__.py', '../lesson_08_modules/ecommerce/shopping/__pycache__/even_more_sales.cpython-38.pyc', '../lesson_08_modules/ecommerce/shopping/__pycache__/__init__.cpython-38.pyc', '../lesson_08_modules/ecommerce/__pycache__/more_sales.cpython-38.pyc', '../lesson_08_modules/ecommerce/__pycache__/__init__.cpython-38.pyc']\n"
     ]
    }
   ],
   "source": [
    "with ZipFile(\"05_files.zip\") as zip:\n",
    "    print(zip.namelist())"
   ]
  },
  {
   "source": [
    "We can get info for a file"
   ],
   "cell_type": "markdown",
   "metadata": {}
  },
  {
   "cell_type": "code",
   "execution_count": 6,
   "metadata": {},
   "outputs": [
    {
     "output_type": "stream",
     "name": "stdout",
     "text": [
      "['../lesson_08_modules/ecommerce/more_sales.py', '../lesson_08_modules/ecommerce/__init__.py', '../lesson_08_modules/ecommerce/customer/contact.py', '../lesson_08_modules/ecommerce/customer/__init__.py', '../lesson_08_modules/ecommerce/customer/__pycache__/contact.cpython-38.pyc', '../lesson_08_modules/ecommerce/customer/__pycache__/__init__.cpython-38.pyc', '../lesson_08_modules/ecommerce/shopping/even_more_sales.py', '../lesson_08_modules/ecommerce/shopping/__init__.py', '../lesson_08_modules/ecommerce/shopping/__pycache__/even_more_sales.cpython-38.pyc', '../lesson_08_modules/ecommerce/shopping/__pycache__/__init__.cpython-38.pyc', '../lesson_08_modules/ecommerce/__pycache__/more_sales.cpython-38.pyc', '../lesson_08_modules/ecommerce/__pycache__/__init__.cpython-38.pyc']\n32\n32\n"
     ]
    }
   ],
   "source": [
    "with ZipFile(\"05_files.zip\") as zip:\n",
    "    print(zip.namelist())\n",
    "    info = zip.getinfo(\"../lesson_08_modules/ecommerce/__init__.py\")\n",
    "    print(info.file_size)\n",
    "    print(info.compress_size)"
   ]
  },
  {
   "source": [
    "To extract files from the zip file we use the `extract` method. We'll extract all files to the \"05_extract\" directory."
   ],
   "cell_type": "markdown",
   "metadata": {}
  },
  {
   "cell_type": "code",
   "execution_count": 7,
   "metadata": {},
   "outputs": [
    {
     "output_type": "stream",
     "name": "stdout",
     "text": [
      "['../lesson_08_modules/ecommerce/more_sales.py', '../lesson_08_modules/ecommerce/__init__.py', '../lesson_08_modules/ecommerce/customer/contact.py', '../lesson_08_modules/ecommerce/customer/__init__.py', '../lesson_08_modules/ecommerce/customer/__pycache__/contact.cpython-38.pyc', '../lesson_08_modules/ecommerce/customer/__pycache__/__init__.cpython-38.pyc', '../lesson_08_modules/ecommerce/shopping/even_more_sales.py', '../lesson_08_modules/ecommerce/shopping/__init__.py', '../lesson_08_modules/ecommerce/shopping/__pycache__/even_more_sales.cpython-38.pyc', '../lesson_08_modules/ecommerce/shopping/__pycache__/__init__.cpython-38.pyc', '../lesson_08_modules/ecommerce/__pycache__/more_sales.cpython-38.pyc', '../lesson_08_modules/ecommerce/__pycache__/__init__.cpython-38.pyc']\n32\n32\n"
     ]
    }
   ],
   "source": [
    "with ZipFile(\"05_files.zip\") as zip:\n",
    "    print(zip.namelist())\n",
    "    info = zip.getinfo(\"../lesson_08_modules/ecommerce/__init__.py\")\n",
    "    print(info.file_size)\n",
    "    print(info.compress_size)\n",
    "    zip.extractall(\"05_extract\")"
   ]
  },
  {
   "source": [
    "<img src=\"05_extract_files.png\" />"
   ],
   "cell_type": "markdown",
   "metadata": {}
  }
 ]
}