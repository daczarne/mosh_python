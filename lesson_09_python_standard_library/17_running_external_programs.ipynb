{
 "metadata": {
  "language_info": {
   "codemirror_mode": {
    "name": "ipython",
    "version": 3
   },
   "file_extension": ".py",
   "mimetype": "text/x-python",
   "name": "python",
   "nbconvert_exporter": "python",
   "pygments_lexer": "ipython3",
   "version": "3.8.3-final"
  },
  "orig_nbformat": 2,
  "kernelspec": {
   "name": "python3",
   "display_name": "Python 3"
  }
 },
 "nbformat": 4,
 "nbformat_minor": 2,
 "cells": [
  {
   "source": [
    "# Running external programs\n",
    "\n",
    "To make our program run another Python program we need to use the `subprocess` module. With this module we can spaun a *child process*. A process is an instance of a running program. With this module we can create an instance of the `Popen` class, and use the `run` method to run an external program."
   ],
   "cell_type": "markdown",
   "metadata": {}
  },
  {
   "source": [
    "The first argument to the `run` method is an array of strings. The first item in the array should be the command to run. If you want to supply other arguments, you can add them as other items in the array."
   ],
   "cell_type": "markdown",
   "metadata": {}
  },
  {
   "cell_type": "code",
   "execution_count": null,
   "metadata": {},
   "outputs": [],
   "source": [
    "import subprocess\n",
    "\n",
    "subprocess.run([\"ls\", \"-l\"])"
   ]
  },
  {
   "source": [
    "The result of running `subprocess.run([\"dir\"])` is an instance of class `subprocess.CompletedProcess`. We'll assign this to a variable called `completed`. Now we can access its attributes."
   ],
   "cell_type": "markdown",
   "metadata": {}
  },
  {
   "cell_type": "code",
   "execution_count": null,
   "metadata": {},
   "outputs": [],
   "source": [
    "import subprocess\n",
    "\n",
    "completed = subprocess.run([\"ls\", \"-l\"])\n",
    "print(\"args\", completed.args)\n",
    "print(\"returncode\", completed.returncode)\n",
    "print(\"stderr\", completed.stderr)\n",
    "print(\"stdout\", completed.stdout)"
   ]
  },
  {
   "source": [
    "We get:\n",
    "\n",
    "- `args` is an array that includes the commands that we executed.\n",
    "- `returncode` is 0 which means success. Anything different than 0 means fail.\n",
    "- `stderr`: standard error is `None` because there were no errors. Otherwise, there would be a message error.\n",
    "- `stdout`: standard output is also `None` because we are not capturing the output.\n",
    "\n",
    "<img src=\"17_rep_out.png\" />\n",
    "\n",
    "If you want to caputre the output just change the argument in the call to the `run` method. If you set it to `True` then the output of the `ls` command will not be printed by default, but will be available in the `stdout` arttribute. By default it'll be a binary output, but we can change this by setting the `text` argument to `True`"
   ],
   "cell_type": "markdown",
   "metadata": {}
  },
  {
   "cell_type": "code",
   "execution_count": null,
   "metadata": {},
   "outputs": [],
   "source": [
    "import subprocess\n",
    "\n",
    "completed = subprocess.run([\"ls\", \"-l\"], capture_output=True, text=True)"
   ]
  },
  {
   "source": [
    "Now suppose we want to run another Python script as a subprocess. Keep in mind that this child process will be run in a completely different memory space. No variables will be shared. This is different from importing the script and running it here."
   ],
   "cell_type": "markdown",
   "metadata": {}
  },
  {
   "cell_type": "code",
   "execution_count": 4,
   "metadata": {},
   "outputs": [
    {
     "output_type": "stream",
     "name": "stdout",
     "text": [
      "args ['python', '17_rep_02.py']\nreturncode 0\nstderr \nstdout A complicated script\n\n"
     ]
    }
   ],
   "source": [
    "import subprocess\n",
    "\n",
    "completed = subprocess.run(\n",
    "    [\"python\", \"17_rep_02.py\"],\n",
    "    capture_output=True,\n",
    "    text=True,\n",
    "    check=True\n",
    ")\n",
    "print(\"args\", completed.args)\n",
    "print(\"returncode\", completed.returncode)\n",
    "print(\"stderr\", completed.stderr)\n",
    "print(\"stdout\", completed.stdout)"
   ]
  },
  {
   "source": [
    "One last thing we want to do is to use a `try` block to capture exceptions. Here we also set the `check` argument to `True`. This will cause Python to raise an exception if there's an error in the subprocess."
   ],
   "cell_type": "markdown",
   "metadata": {}
  },
  {
   "cell_type": "code",
   "execution_count": 9,
   "metadata": {},
   "outputs": [
    {
     "output_type": "stream",
     "name": "stdout",
     "text": [
      "stdout A complicated script\n\n"
     ]
    }
   ],
   "source": [
    "import subprocess\n",
    "\n",
    "try:\n",
    "    completed = subprocess.run(\n",
    "        [\"python\", \"17_rep_02.py\"],\n",
    "        capture_output=True,\n",
    "        text=True,\n",
    "        check=True\n",
    "    )\n",
    "    print(\"stdout\", completed.stdout)\n",
    "except subprocess.CalledProcessError as ex:\n",
    "    print(ex)"
   ]
  }
 ]
}