{
 "metadata": {
  "language_info": {
   "codemirror_mode": {
    "name": "ipython",
    "version": 3
   },
   "file_extension": ".py",
   "mimetype": "text/x-python",
   "name": "python",
   "nbconvert_exporter": "python",
   "pygments_lexer": "ipython3",
   "version": "3.8.3-final"
  },
  "orig_nbformat": 2,
  "kernelspec": {
   "name": "python3",
   "display_name": "Python 3"
  }
 },
 "nbformat": 4,
 "nbformat_minor": 2,
 "cells": [
  {
   "source": [
    "# Working with CSV files\n",
    "\n",
    "We'll begin by creating a csv file with some data. We cannot use the `Path` class so we'll use the `open` function. Next we'll use the `writer` method form the `csv` module to create a file. Lastly, we'll use the `writerow` method for writting a head row and two rows of data."
   ],
   "cell_type": "markdown",
   "metadata": {}
  },
  {
   "cell_type": "code",
   "execution_count": 3,
   "metadata": {},
   "outputs": [],
   "source": [
    "import csv\n",
    "\n",
    "with open(\"06_data.csv\", \"w\") as file:\n",
    "    writer = csv.writer(file)\n",
    "    writer.writerow([\"transaction_id\", \"product_id\", \"price\"])\n",
    "    writer.writerow([1000, 1, 5])\n",
    "    writer.writerow([1001, 2, 15])"
   ]
  },
  {
   "source": [
    "Now you should have a csv file with the data in your directory.\n",
    "\n",
    "<img src=\"06_write_data_to_csv.png\" />\n",
    "\n",
    "Next, we'll look into reading a csv file into Python. Since we are reading the data, we don't supply the \"w\" mode to the `open` function. Instead of a csv writer, we'll use the csv `reader` method. We'll use the `list` function to convert the data in the file to a Python list."
   ],
   "cell_type": "markdown",
   "metadata": {}
  },
  {
   "cell_type": "code",
   "execution_count": 4,
   "metadata": {},
   "outputs": [
    {
     "output_type": "stream",
     "name": "stdout",
     "text": [
      "[['transaction_id', 'product_id', 'price'], ['1000', '1', '5'], ['1001', '2', '15']]\n"
     ]
    }
   ],
   "source": [
    "with open(\"06_data.csv\") as file:\n",
    "    reader = csv.reader(file)\n",
    "    print(list(reader))"
   ]
  },
  {
   "source": [
    "We get a list of lists, where each row in the file is transformed into a list. All values are read as strings, and need to be manually transformed.\n",
    "\n",
    "We could instead loop over the file and generate an array of strings for each row."
   ],
   "cell_type": "markdown",
   "metadata": {}
  },
  {
   "cell_type": "code",
   "execution_count": 5,
   "metadata": {},
   "outputs": [
    {
     "output_type": "stream",
     "name": "stdout",
     "text": [
      "['transaction_id', 'product_id', 'price']\n['1000', '1', '5']\n['1001', '2', '15']\n"
     ]
    }
   ],
   "source": [
    "with open(\"06_data.csv\") as file:\n",
    "    reader = csv.reader(file)\n",
    "    for row in reader:\n",
    "        print(row)"
   ]
  }
 ]
}